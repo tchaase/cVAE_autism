{
  "nbformat": 4,
  "nbformat_minor": 0,
  "metadata": {
    "colab": {
      "provenance": [],
      "authorship_tag": "ABX9TyMr+Aue+SWV/UquXuo4bziG",
      "include_colab_link": true
    },
    "kernelspec": {
      "name": "python3",
      "display_name": "Python 3"
    },
    "language_info": {
      "name": "python"
    }
  },
  "cells": [
    {
      "cell_type": "markdown",
      "metadata": {
        "id": "view-in-github",
        "colab_type": "text"
      },
      "source": [
        "<a href=\"https://colab.research.google.com/github/tchaase/cVAE_autism/blob/main/code/cVAE_autism.ipynb\" target=\"_parent\"><img src=\"https://colab.research.google.com/assets/colab-badge.svg\" alt=\"Open In Colab\"/></a>"
      ]
    },
    {
      "cell_type": "markdown",
      "source": [
        "# Contrastive Variational Autoencoder for the ABIDE Data Set\n",
        "\n",
        "Author - Tobias Haase"
      ],
      "metadata": {
        "id": "JrGziUQyNza-"
      }
    },
    {
      "cell_type": "markdown",
      "source": [
        "## Imports\n",
        "\n",
        "Firstly I am importaing the necessary modules here, that I will use within the following.\n",
        "\n"
      ],
      "metadata": {
        "id": "Q2OjCHUXODgN"
      }
    },
    {
      "cell_type": "code",
      "execution_count": null,
      "metadata": {
        "id": "kHlOG4l2NsXd"
      },
      "outputs": [],
      "source": [
        "import torch  # The main PyTorch library for tensor computations and neural network operations\n",
        "\n",
        "import torch.nn as nn  # Provides various neural network layers and functionalities\n",
        "import torch.nn.functional as F  # Provides functional interfaces to common operations (e.g., activation functions)\n",
        "import torch.optim as optim  # Contains various optimization algorithms (e.g., SGD, Adam)\n",
        "\n",
        "import torchvision  # A PyTorch library for computer vision tasks\n",
        "import torchvision.transforms as transforms  # Provides common image transformations (e.g., resizing, normalization)\n",
        "from torchvision.transforms import ToTensor  # Transforms PIL images to tensors\n",
        "from torch.utils.data import Dataset, DataLoader  # Provides tools for creating custom datasets and data loaders\n",
        "\n",
        "import numpy as np  # NumPy library for numerical computations and array operations\n",
        "import matplotlib  # Matplotlib library for data visualization\n",
        "import matplotlib.pyplot as plt  # Matplotlib's pyplot module for creating plots\n",
        "from tqdm import tqdm  # Progress bar library for tracking iterations\n"
      ]
    },
    {
      "cell_type": "markdown",
      "source": [
        "Next, let's load the data. I am loading the data using nilearn's `fetch_abide_pcp` function. This function allows me to load the data that was previously preprocessed via the [preprocessed connectom project](http://preprocessed-connectomes-project.org/index.html) (PCP). Within this project, the data was preprocessed with four different pipelines.\n",
        "  \n",
        "\n",
        ">Due to the controversies surrounding bandpass filtering and global signal regression, four different preprocessing strategies were performed with each pipeline: all combinations of with and without filtering and with and without global signal correction.\n",
        "\n",
        "So, the first question to answer is which preprocessing pipeline I should take. Let's go over them step by step. I tried listing what data they focus on during the preprocessing. Then I want to briefly list key features that set them apart from other pipelines. Under dependencies I list mostly the dependencies they had during their usage, not what they require to load the data with!\n",
        "\n",
        "1. [Connectome Computation System](http://preprocessed-connectomes-project.org/abide/ccs.html):\n",
        "  * Preprocessing Steps: CCS involves the usual preprocessing steps, in which both the structural and functional data is preprocessed.\n",
        "  * Key Features: Perhaps it is important to note that this pipeline integrates FSL and Freesurfer and is primarily implemented using bash but also using various other programming languages.\n",
        "  * Dependencies: Therefore, this pipeline depends on FSL (skull stripping, normalization etc), freesurfer (e.g. anatomical segmentation, surface reconstruction) and AFNI (various preprocessing tools come from here)\n",
        "2. [Configurable Pipeline for the Analysis of Connectomes](http://preprocessed-connectomes-project.org/abide/cpac.html):\n",
        "    * Preprocessing Steps: CPAC incorporates a range of preprocessing steps for both structural and functional data. This includes motion correction, slice timing correction, spatial normalization, intensity normalization, nuisance signal regression, and band-pass filtering.\n",
        "    * Key Features: Most importantly, CPAC offers a high level of configuration as the name suggests. This allows the choice of several processing options based on their study requirements. It provides various quality control measures and outputs, including preprocessed functional connectivity matrices!\n",
        "    * Dependencies: CPAC is primarily implemented in Python and relies on various libraries and tools such as Nipype, FSL, ANTS, and AFNI.\n",
        "3. [Data Processing Assistant for Resting-State fMRI](http://preprocessed-connectomes-project.org/abide/dparsf.html):\n",
        "    * Preprocessing Steps: DPARSF focuses on resting-state functional MRI data and includes standard preprocessing steps such as slice timing correction, realignment (motion correction), spatial normalization, smoothing, and nuisance signal regression.\n",
        "    * Key Features: DPARSF provides a graphical user interface. There is a certian level of configurability, as ouput options can be choosen.\n",
        "    * Dependencies: DPARSF is implemented in MATLAB and requires SPM (Statistical Parametric Mapping) toolbox for some of the preprocessing steps.\n",
        "4. [Neuroimaging Analysis Kit](http://preprocessed-connectomes-project.org/abide/niak.html)\n",
        "    * Preprocessing Steps: NIAK allows customization of preprocessing steps, including motion correction, slice timing correction, spatial normalization, smoothing, and nuisance signal regression. It also offers quality control measures.\n",
        "    * Key Features: NIAK provides a flexible and versatile pipeline for functional and structural MRI data. It offers a command-line interface and the ability to select specific processing options based on the research requirements.\n",
        "    * Dependencies: NIAK is primarily implemented in MATLAB and relies on various external software packages such as FSL, ANTS, and AFNI for specific preprocessing steps.\n",
        "\n",
        "My sources for this information are both the website and ChatGPT.\n",
        "\n",
        "It seems to me that I can stick with the preset pipeline for now, which is **cpac**.\n",
        "\n",
        "Importantly, quality control was already performed for this data, and I will only load the data that has gone through the quality control successfully.\n",
        "\n",
        "For now, I am just loading one participant."
      ],
      "metadata": {
        "id": "k_7TkkoWPkfF"
      }
    },
    {
      "cell_type": "code",
      "source": [
        "nilearn.datasets.fetch_abide_pcp(data_dir = \"./data\", n_subjects = 1)"
      ],
      "metadata": {
        "id": "nap5ytiEPnBH"
      },
      "execution_count": null,
      "outputs": []
    },
    {
      "cell_type": "markdown",
      "source": [
        "## Model specifications\n",
        "\n",
        "In the following I am specifiying the model. I am roughly orienting myself around a paper from Anglinkas, Hartshorne & Anzellotti (2022).\n",
        "\n",
        "### Defining utility functions\n",
        "\n",
        "Firstly, I am defining the loss function.\n",
        "The loss will be computed as the sum of the BCE-Loss, as well as the KL-divergence terms.\n",
        "\n",
        "* BCE-loss: Reconstruction loss. This is the binary cross entropy, i.e. a loss function that is normally used when making a binary classification. Using it here as a placeholder, until I find a more appropriate loss function. If a prediction is incorrect, it has high values.\n",
        "\n",
        "* Kullback-Leibler divergence (Kullback & Leibler, 1951) This is a measure for the difference between two distributions. I.e. \"how much do they diverge\" from each other, how much are they different to each other. The introduction of this term into the final loss leads my model to optimize not only if the precited categories are correct and so on, but also how high the difference between the prior distribution and teh latent variables are. The prior distribution in my case is an isotropic gaussian.\n",
        "  * Why is this desirable? The latent variables and the sampling process should be somewhat controlled. This divergence regulates this.\n",
        "\n",
        "\n",
        "I have also attempted to regulate that a loss is only completed with the KL divergence from the second encoder if that encoder was used."
      ],
      "metadata": {
        "id": "NV2DSYrow9-i"
      }
    },
    {
      "cell_type": "code",
      "source": [
        "def final_loss(bce_loss, z_mu, z_logvar, s_mu=None, s_logvar=None):\n",
        "    \"\"\"\n",
        "    This function will add the reconstruction loss (BCELoss) and the KL-Divergence.\n",
        "    KL-Divergence = 0.5 * sum(1 + log(sigma^2) - mu^2 - sigma^2)\n",
        "    :param bce_loss: reconstruction loss\n",
        "    :param z_mu: mean from the latent vector of encoder_z\n",
        "    :param z_logvar: log variance from the latent vector of encoder_z\n",
        "    :param s_mu: mean from the latent vector of encoder_s (optional)\n",
        "    :param s_logvar: log variance from the latent vector of encoder_s (optional)\n",
        "    \"\"\"\n",
        "    BCE = bce_loss\n",
        "    KLD_z = -0.5 * torch.sum(1 + z_logvar - z_mu.pow(2) - z_logvar.exp())\n",
        "    if s_mu is not None and s_logvar is not None:\n",
        "        KLD_s = -0.5 * torch.sum(1 + s_logvar - s_mu.pow(2) - s_logvar.exp())\n",
        "        return BCE + KLD_z + KLD_s\n",
        "    else:\n",
        "        return BCE + KLD_z"
      ],
      "metadata": {
        "id": "pl9SJ8uDyDuR"
      },
      "execution_count": null,
      "outputs": []
    },
    {
      "cell_type": "markdown",
      "source": [
        "Next onto the training function. This should be fairly straightforward."
      ],
      "metadata": {
        "id": "AqGCBLjH5oyI"
      }
    },
    {
      "cell_type": "code",
      "source": [
        "def train(model, dataloader, dataset, device, optimizer, criterion):\n",
        "    model.train()\n",
        "    running_loss = 0.0\n",
        "    counter = 0\n",
        "    for i, (data, is_autism) in tqdm(enumerate(dataloader), total=len(dataset)):\n",
        "        data = data.to(device)\n",
        "        autism_status = is_autism.to(device)\n",
        "\n",
        "        optimizer.zero_grad()\n",
        "\n",
        "        for j in range(data.size(0)):\n",
        "            single_data = data[j]\n",
        "            single_autism_status = autism_status[j]\n",
        "\n",
        "            if single_autism_status:\n",
        "                z_mean, z_log_var, s_mean, s_log_var, reconstructed_data = model(single_data)\n",
        "                bce_loss = criterion(reconstructed_data, single_data)\n",
        "                loss = final_loss(bce_loss, z_mean, z_log_var, s_mean, s_log_var)\n",
        "            else:\n",
        "                z_mean, z_log_var, reconstructed_data = model(single_data)\n",
        "                bce_loss = criterion(reconstructed_data, single_data)\n",
        "                loss = final_loss(bce_loss, z_mean, z_log_var, None, None)\n",
        "\n",
        "            loss.backward()\n",
        "            running_loss += loss.item()\n",
        "\n",
        "        optimizer.step()\n",
        "\n",
        "        counter += data.size(0)\n",
        "\n",
        "    train_loss = running_loss / counter\n",
        "    return train_loss"
      ],
      "metadata": {
        "id": "Nc6vo9Kn58gA"
      },
      "execution_count": null,
      "outputs": []
    },
    {
      "cell_type": "markdown",
      "source": [
        "Following this, the model should also be validated. This is placeholder code for now (also didn't finish the training function)."
      ],
      "metadata": {
        "id": "VTFPxBey6Mmp"
      }
    },
    {
      "cell_type": "code",
      "source": [
        "def validate(model, dataloader, dataset, device, criterion):\n",
        "    model.eval()\n",
        "    running_loss = 0.0\n",
        "    counter = 0\n",
        "    with torch.no_grad():\n",
        "        for i, data in tqdm(enumerate(dataloader), total=int(len(dataset)/dataloader.batch_size)):\n",
        "            counter += 1\n",
        "            data = data[0]\n",
        "            data = data.to(device)\n",
        "            reconstruction, z_mu, z_logvar, s_mu, s_logvar = model(data)\n",
        "            bce_loss = criterion(reconstruction, data)\n",
        "            loss = final_loss(bce_loss, z_mu, z_logvar, s_mu, s_logvar)\n",
        "            running_loss += loss.item()\n",
        "\n",
        "            # save the last batch input and output of every epoch\n",
        "            if i == int(len(dataset)/dataloader.batch_size) - 1:\n",
        "                recon_images = reconstruction\n",
        "    val_loss = running_loss / counter\n",
        "    return val_loss, recon_images\n"
      ],
      "metadata": {
        "id": "-KnJFnNl6UCq"
      },
      "execution_count": null,
      "outputs": []
    },
    {
      "cell_type": "markdown",
      "source": [
        "## Model specification\n",
        "\n",
        "These values still need to be adapted for the current model."
      ],
      "metadata": {
        "id": "rtNUqWlK6YfR"
      }
    },
    {
      "cell_type": "code",
      "source": [
        "input_dimension =\n",
        "indermediate_dim = 128\n",
        "latent_dim = 16 # latent dimension for sampling\n",
        "\n",
        "lr = 0.001\n",
        "\n"
      ],
      "metadata": {
        "id": "1NXSPtSc6biA"
      },
      "execution_count": null,
      "outputs": []
    },
    {
      "cell_type": "markdown",
      "source": [
        "Next I want to define the contrastive variational autoencoder. While doing so, I am defining seperate encoders, to make it easier to later introduce other encoders. I am orienting myself on an cVAE I have written in the past.\n",
        "\n",
        "As the paper from Aglinskas, Hartshorne and Anzellotti (2022) I mentioned, the network will have only a few layers.\n",
        "\n",
        "A few things I will probably have to change - I do not know how many channels the data will end up having. therefore I am using one, assuming it only has one."
      ],
      "metadata": {
        "id": "yzEoxSr08h-3"
      }
    },
    {
      "cell_type": "code",
      "source": [
        "class EncoderNS(nn.Module):\n",
        "    def __init__(self, input_dimension, latent_dim):\n",
        "        super(EncoderNS, self).__init__()\n",
        "        self.linear1 = nn.Linear(input_dimension, input_dimension // 8)\n",
        "        self.linear2 = nn.Linear(input_dimension // 8, input_dimension // 16)\n",
        "        self.linear3 = nn.Linear(input_dimension // 16, latent_dim)\n",
        "        self.ns_fc_mean = nn.Linear(latent_dim, latent_dim)\n",
        "        self.ns_fc_log_var = nn.Linear(latent_dim, latent_dim)\n",
        "\n",
        "    def forward(self, x, batch_size):\n",
        "        h = F.relu(self.linear1(x))\n",
        "        h = F.relu(self.linear2(h))\n",
        "        h = F.relu(self.linear3(h))\n",
        "        ns_mean = self.ns_fc_mean(h)\n",
        "        ns_log_var = self.ns_fc_log_var(h)\n",
        "        return ns_mean, ns_log_var\n",
        "\n",
        "\n",
        "class EncoderS(nn.Module):\n",
        "    def __init__(self, input_dimension, latent_dim):\n",
        "        super(EncoderS, self).__init__()\n",
        "        self.linear1 = nn.Linear(input_dimension, input_dimension // 8)\n",
        "        self.linear2 = nn.Linear(input_dimension // 8, input_dimension // 16)\n",
        "        self.linear3 = nn.Linear(input_dimension // 16, latent_dim)\n",
        "        self.s_fc_mean = nn.Linear(latent_dim, latent_dim)\n",
        "        self.s_fc_log_var = nn.Linear(latent_dim, latent_dim)\n",
        "\n",
        "    def forward(self, x, batch_size):\n",
        "        h = F.relu(self.linear1(x))\n",
        "        h = F.relu(self.linear2(h))\n",
        "        h = F.relu(self.linear3(h))\n",
        "        s_mean = self.s_fc_mean(h)\n",
        "        s_log_var = self.s_fc_log_var(h)\n",
        "        return s_mean, s_log_var\n",
        "\n",
        "class Decoder(nn.Module):\n",
        "    def __init__(self, input_dimension, latent_dim):\n",
        "        super(Decoder, self).__init__()\n",
        "        self.linear_decoder_1 = nn.Linear(latent_dim, input_dimension // 16)\n",
        "        self.linear_decoder_2 = nn.Linear(input_dimension // 16, input_dimension // 8)\n",
        "        self.linear_decoder_3 = nn.Linear(input_dimension // 8, input_dimension)\n",
        "        self.linear_decoder_4 = nn.Linear(input_dimension, output_shape)\n",
        "\n",
        "    def forward(self, zs, batch_size):\n",
        "        h_output = F.relu(self.linear_decoder_1(s_ns))\n",
        "        h_output = F.relu(self.linear_decoder_2(h_output))\n",
        "        h_output = F.relu(self.linear_decoder_3(h_output))\n",
        "        output = self.linear_decoder_4(h_output)\n",
        "        return output\n",
        "\n",
        "class Classifier(nn.Module):\n",
        "    def __init__(self, latent_dim, num_age_classes, num_gender_classes):\n",
        "        super(Classifier, self).__init__()\n",
        "        self.fc_age = nn.Linear(latent_dim, num_age_classes)\n",
        "        self.fc_gender = nn.Linear(latent_dim, num_gender_classes)\n",
        "\n",
        "    def forward(self, z):\n",
        "        age_prediction = self.fc_age(z)\n",
        "        gender_prediction = self.fc_gender(z)\n",
        "        return age_prediction, gender_prediction\n",
        "\n",
        "class cVAE(nn.Module):\n",
        "    def __init__(self, latent_dim, num_age_classes, num_gender_classes):\n",
        "        super(cVAE, self).__init__()\n",
        "        self.encoder_z = EncoderZ(latent_dim)\n",
        "        self.encoder_s = EncoderS(latent_dim)\n",
        "        self.decoder = Decoder(latent_dim)\n",
        "        self.overlay_status = None\n",
        "        self.classifier = Classifier(latent_dim, num_age_classes, num_gender_classes)\n",
        "\n",
        "    def reparameterize(self, mean, log_var):\n",
        "        std = torch.exp(0.5 * log_var)\n",
        "        epsilon = torch.randn_like(std)\n",
        "        return mean + epsilon * std\n",
        "\n",
        "    def forward(self, autism, no_autism):\n",
        "        batch_size = autism.size(0)\n",
        "        z_mean, z_log_var = self.encoder_z(autism, batch_size)\n",
        "        z = self.reparameterize(z_mean, z_log_var)\n",
        "        s_mean, s_log_var = self.encoder_s(autism, batch_size)\n",
        "        s = self.reparameterize(s_mean, s_log_var)\n",
        "        zs = torch.cat([z, s], dim=1)\n",
        "\n",
        "        reconstructed_data_autism = self.decoder(zs, batch_size)\n",
        "\n",
        "        z_mean_no_autism, z_log_var_no_autism = self.encoder_z(no_autism, batch_size)\n",
        "        z_no_autism = self.reparameterize(z_mean_no_autism, z_log_var_no_autism)\n",
        "        z_empty = torch.zeros(z_no_autism.shape)\n",
        "        z_no_autism_0 = torch.cat([z_no_autism, z_empty], dim=1)\n",
        "        reconstructed_data_no_autism = self.decoder(z_no_autism_0, batch_size)\n",
        "\n",
        "        class_autism_age, class_autism_gender = self.classifier(z)  # Assuming z is the latent variable after concatenating s and z\n",
        "        class_no_autism_age, class_no_autism_gender = self.classifier(z_no_autism)  # Assuming z_no_autism is the latent variable for no_autism data\n",
        "\n",
        "        return z_mean, z_log_var, s_mean, s_log_var, z_mean_no_autism, z_log_var_no_autism, reconstructed_data_autism, reconstructed_data_no_autism, class_autism_age, class_autism_gender, class_no_autism_age, class_no_autism_gender"
      ],
      "metadata": {
        "id": "uwDJGACDj1kR"
      },
      "execution_count": null,
      "outputs": []
    },
    {
      "cell_type": "markdown",
      "source": [
        "Next, I will define the loss function and the training, as well as the validation function. Notice that this is copy pasta of previous code. I want to sue a different loss function and it does not make sense to bce loss here for the data I am about to use."
      ],
      "metadata": {
        "id": "k9lxR8HrHEaQ"
      }
    },
    {
      "cell_type": "code",
      "source": [
        "def final_loss(MSE, CE, z_mu, z_logvar, s_mu, s_logvar):\n",
        "    \"\"\"\n",
        "    This function will add the reconstruction loss (BCELoss) and the KL-Divergence.\n",
        "    KL-Divergence = 0.5 * sum(1 + log(sigma^2) - mu^2 - sigma^2)\n",
        "    :param bce_loss: reconstruction loss\n",
        "    :param z_mu: mean from the latent vector of encoder_z\n",
        "    :param z_logvar: log variance from the latent vector of encoder_z\n",
        "    :param s_mu: mean from the latent vector of encoder_s (optional)\n",
        "    :param s_logvar: log variance from the latent vector of encoder_s (optional)\n",
        "    \"\"\"\n",
        "    mse_loss = MSE\n",
        "    cross_entropy = CE\n",
        "    KLD_z = -0.5 * torch.sum(1 + z_logvar - z_mu.pow(2) - z_logvar.exp())\n",
        "    if s_mu is not None and s_logvar is not None:\n",
        "        KLD_s = -0.5 * torch.sum(1 + s_logvar - s_mu.pow(2) - s_logvar.exp())\n",
        "        return mse_loss + KLD_z + KLD_s + cross_entropy\n",
        "    else:\n",
        "        return mse_loss + KLD_z + cross_entropy\n",
        "\n",
        "    # Use cross entropy for mri images perhaps, more appropriate than bce.\n",
        "\n"
      ],
      "metadata": {
        "id": "5WsDILlQlYya"
      },
      "execution_count": null,
      "outputs": []
    },
    {
      "cell_type": "markdown",
      "source": [
        "Here is the training function: !!! need to adjust with new terminiolgy."
      ],
      "metadata": {
        "id": "cV4DbbobmW5f"
      }
    },
    {
      "cell_type": "code",
      "source": [
        "from tqdm import tqdm\n",
        "\n",
        "def train(model, dataloader, dataset, device, optimizer, criterion):\n",
        "    model.train()\n",
        "    running_loss_autism = 0.0\n",
        "    running_loss_no_autism = 0.0\n",
        "    counter = 0\n",
        "\n",
        "    total_batches = len(dataset) // dataloader.batch_size\n",
        "\n",
        "    for i, (autism_data, no_autism_data) in tqdm(enumerate(dataloader), total=total_batches):\n",
        "        autism_data = autism_data.to(device)\n",
        "        no_autism_data = no_autism_data.to(device)\n",
        "\n",
        "        optimizer.zero_grad()\n",
        "\n",
        "        z_mean, z_log_var, s_mean, s_log_var, z_mean_no_autism, z_log_var_no_autism, reconstructed_data_autism, reconstructed_data_no_autism = model(autism_data, no_autism_data)\n",
        "\n",
        "        # Section for the autism images\n",
        "        bce_loss_autism = criterion(reconstructed_data_autism, autism_data)\n",
        "        loss_autism = final_loss(bce_loss_autism, z_mean, z_log_var, s_mean, s_log_var)\n",
        "        running_loss_autism += loss_autism.item()\n",
        "        loss_autism.backward()\n",
        "\n",
        "        # Section for the no_autism images\n",
        "        bce_loss_no_autism = criterion(reconstructed_data_no_autism, no_autism_data)\n",
        "        s_mean_no_autism, s_log_var_no_autism = None, None\n",
        "        loss_no_autism = final_loss(bce_loss_no_autism, z_mean_no_autism, z_log_var_no_autism, s_mean_no_autism, s_log_var_no_autism)\n",
        "        loss_no_autism.backward()\n",
        "        running_loss_no_autism += loss_no_autism.item()\n",
        "\n",
        "        optimizer.step()\n",
        "        counter += len(autism_data)\n",
        "    train_loss_autism = running_loss_autism / counter\n",
        "    train_loss_no_autism = running_loss_no_autism / counter\n",
        "    return train_loss_autism, train_loss_no_autism\n"
      ],
      "metadata": {
        "id": "qtzrO-BymY13"
      },
      "execution_count": null,
      "outputs": []
    },
    {
      "cell_type": "markdown",
      "source": [
        "And finally the training loop - note that I have yet to define the validation function:"
      ],
      "metadata": {
        "id": "0nl-zuw8mkeN"
      }
    },
    {
      "cell_type": "code",
      "source": [
        "model = cVAE(latent_dim=64).to(device)\n",
        "optimizer = torch.optim.Adam(model.parameters(), lr=lr)\n",
        "criterion = nn.MSELoss()\n",
        "classifier_criterion = nn.CrossEntropyLoss\n",
        "\n",
        "train_loss_list = []  # List to store train losses\n",
        "val_loss_list = []  # List to store validation losses\n",
        "\n",
        "num_epochs = 10\n",
        "for epoch in range(num_epochs):\n",
        "    print(f\"Epoch {epoch+1} of {num_epochs}\")\n",
        "    # Train the model\n",
        "    train_loss_target, train_loss_bg = train(model, overlaid_dataloader, overlaid_dataset, device, optimizer, criterion, classifier_criterion)\n",
        "\n",
        "    # Validate the model\n",
        "    val_loss, recon_images = validate(model, overlaid_dataloader, overlaid_dataset, device, criterion, classifier_criterion)\n",
        "\n",
        "    # Appending the loss values to a list to allow for visualizations:\n",
        "\n",
        "    train_loss_list.append(train_loss_target)\n",
        "    val_loss_list.append(val_loss)\n",
        "\n",
        "\n",
        "    # Print the losses\n",
        "    print(f\"Train Loss: {train_loss_target:.4f}, Val Loss: {val_loss:.4f}\")\n",
        "    print(f\"Train Loss for the background: {train_loss_bg:.4f}, Val Loss: {val_loss:.4f}\")\n",
        "\n",
        "print('TRAINING COMPLETE')\n"
      ],
      "metadata": {
        "id": "cgsEpXACmj_H"
      },
      "execution_count": null,
      "outputs": []
    }
  ]
}