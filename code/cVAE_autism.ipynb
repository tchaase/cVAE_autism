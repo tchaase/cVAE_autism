{
  "nbformat": 4,
  "nbformat_minor": 0,
  "metadata": {
    "colab": {
      "provenance": [],
      "gpuType": "T4",
      "authorship_tag": "ABX9TyO+95n1dV3LRnjHmykogvt1",
      "include_colab_link": true
    },
    "kernelspec": {
      "name": "python3",
      "display_name": "Python 3"
    },
    "language_info": {
      "name": "python"
    }
  },
  "cells": [
    {
      "cell_type": "markdown",
      "metadata": {
        "id": "view-in-github",
        "colab_type": "text"
      },
      "source": [
        "<a href=\"https://colab.research.google.com/github/tchaase/cVAE_autism/blob/main/code/cVAE_autism.ipynb\" target=\"_parent\"><img src=\"https://colab.research.google.com/assets/colab-badge.svg\" alt=\"Open In Colab\"/></a>"
      ]
    },
    {
      "cell_type": "markdown",
      "source": [
        "# Contrastive Variational Autoencoder for the ABIDE Data Set\n",
        "\n",
        "Author - Tobias Haase"
      ],
      "metadata": {
        "id": "JrGziUQyNza-"
      }
    },
    {
      "cell_type": "markdown",
      "source": [
        "## Imports\n",
        "\n",
        "Firstly I am importaing the necessary modules here, that I will use within the following.\n",
        "\n"
      ],
      "metadata": {
        "id": "Q2OjCHUXODgN"
      }
    },
    {
      "cell_type": "code",
      "execution_count": 11,
      "metadata": {
        "id": "kHlOG4l2NsXd"
      },
      "outputs": [],
      "source": [
        "import torch  # The main PyTorch library for tensor computations and neural network operations\n",
        "\n",
        "import torch.nn as nn  # Provides various neural network layers and functionalities\n",
        "import torch.nn.functional as F  # Provides functional interfaces to common operations (e.g., activation functions)\n",
        "import torch.optim as optim  # Contains various optimization algorithms (e.g., SGD, Adam)\n",
        "\n",
        "import torchvision  # A PyTorch library for computer vision tasks\n",
        "import torchvision.transforms as transforms  # Provides common image transformations (e.g., resizing, normalization)\n",
        "from torchvision.transforms import ToTensor  # Transforms PIL images to tensors\n",
        "from torch.utils.data import Dataset, DataLoader  # Provides tools for creating custom datasets and data loaders\n",
        "import torch.nn as nn\n",
        "\n",
        "import numpy as np  # NumPy library for numerical computations and array operations\n",
        "import matplotlib  # Matplotlib library for data visualization\n",
        "import matplotlib.pyplot as plt  # Matplotlib's pyplot module for creating plots\n",
        "from tqdm import tqdm  # Progress bar library for tracking iterations\n",
        "\n",
        "import os\n",
        "import requests\n",
        "import nibabel as nib\n",
        "import numpy as np\n",
        "import pandas as pd\n",
        "\n",
        "device = torch.device('cuda' if torch.cuda.is_available() else 'cpu')"
      ]
    },
    {
      "cell_type": "code",
      "source": [
        "device"
      ],
      "metadata": {
        "id": "gqOfbkF5lw1I",
        "outputId": "e5216119-7925-4b8a-c385-99f03bba4128",
        "colab": {
          "base_uri": "https://localhost:8080/"
        }
      },
      "execution_count": 12,
      "outputs": [
        {
          "output_type": "execute_result",
          "data": {
            "text/plain": [
              "device(type='cpu')"
            ]
          },
          "metadata": {},
          "execution_count": 12
        }
      ]
    },
    {
      "cell_type": "markdown",
      "source": [
        "Next, I am loading the project's data. To load the data, I am using CyberDuck, and I am loaded the already preprocessed cortical thickness data.\n",
        "\n",
        "Firstly, I need to install **CyberDuck**:\n"
      ],
      "metadata": {
        "id": "k_7TkkoWPkfF"
      }
    },
    {
      "cell_type": "code",
      "source": [
        "!echo -e \"deb https://s3.amazonaws.com/repo.deb.cyberduck.io stable main\" | sudo tee /etc/apt/sources.list.d/cyberduck.list > /dev/null\n",
        "!sudo apt-key adv --keyserver keyserver.ubuntu.com --recv-keys FE7097963FEFBE72\n",
        "!sudo apt-get update\n",
        "!sudo apt-get install duck"
      ],
      "metadata": {
        "id": "S_EPD_35JAlp",
        "outputId": "7f3d6cf6-d3eb-46a5-f0ae-9452b0e651fe",
        "colab": {
          "base_uri": "https://localhost:8080/"
        }
      },
      "execution_count": null,
      "outputs": [
        {
          "output_type": "stream",
          "name": "stdout",
          "text": [
            "Warning: apt-key is deprecated. Manage keyring files in trusted.gpg.d instead (see apt-key(8)).\n",
            "Executing: /tmp/apt-key-gpghome.UDxYlqxJL7/gpg.1.sh --keyserver keyserver.ubuntu.com --recv-keys FE7097963FEFBE72\n",
            "gpg: key F7FAE1F32DA69515: public key \"Cyberduck <feedback@cyberduck.io>\" imported\n",
            "gpg: Total number processed: 1\n",
            "gpg:               imported: 1\n",
            "Hit:1 http://archive.ubuntu.com/ubuntu jammy InRelease\n",
            "Get:2 http://archive.ubuntu.com/ubuntu jammy-updates InRelease [119 kB]\n",
            "Get:3 http://security.ubuntu.com/ubuntu jammy-security InRelease [110 kB]\n",
            "Hit:4 https://developer.download.nvidia.com/compute/cuda/repos/ubuntu2204/x86_64  InRelease\n",
            "Get:5 https://cloud.r-project.org/bin/linux/ubuntu jammy-cran40/ InRelease [3,626 B]\n",
            "Get:6 https://s3.amazonaws.com/repo.deb.cyberduck.io stable InRelease [3,245 B]\n",
            "Get:7 https://ppa.launchpadcontent.net/c2d4u.team/c2d4u4.0+/ubuntu jammy InRelease [18.1 kB]\n",
            "Get:8 http://archive.ubuntu.com/ubuntu jammy-backports InRelease [109 kB]\n",
            "Hit:9 https://ppa.launchpadcontent.net/deadsnakes/ppa/ubuntu jammy InRelease\n",
            "Hit:10 https://ppa.launchpadcontent.net/graphics-drivers/ppa/ubuntu jammy InRelease\n",
            "Hit:11 https://ppa.launchpadcontent.net/ubuntugis/ppa/ubuntu jammy InRelease\n",
            "Get:12 https://s3.amazonaws.com/repo.deb.cyberduck.io stable/main amd64 Packages [370 B]\n",
            "Get:13 http://security.ubuntu.com/ubuntu jammy-security/universe amd64 Packages [979 kB]\n",
            "Get:14 http://archive.ubuntu.com/ubuntu jammy-updates/universe amd64 Packages [1,236 kB]\n",
            "Get:15 https://ppa.launchpadcontent.net/c2d4u.team/c2d4u4.0+/ubuntu jammy/main Sources [2,163 kB]\n",
            "Get:16 http://security.ubuntu.com/ubuntu jammy-security/main amd64 Packages [840 kB]\n",
            "Get:17 http://archive.ubuntu.com/ubuntu jammy-updates/main amd64 Packages [1,110 kB]\n",
            "Get:18 http://security.ubuntu.com/ubuntu jammy-security/restricted amd64 Packages [862 kB]\n",
            "Get:19 http://archive.ubuntu.com/ubuntu jammy-updates/multiverse amd64 Packages [49.8 kB]\n",
            "Get:20 http://archive.ubuntu.com/ubuntu jammy-updates/restricted amd64 Packages [876 kB]\n",
            "Get:21 https://ppa.launchpadcontent.net/c2d4u.team/c2d4u4.0+/ubuntu jammy/main amd64 Packages [1,110 kB]\n",
            "Fetched 9,589 kB in 5s (1,896 kB/s)\n",
            "Reading package lists... Done\n",
            "W: https://s3.amazonaws.com/repo.deb.cyberduck.io/dists/stable/InRelease: Key is stored in legacy trusted.gpg keyring (/etc/apt/trusted.gpg), see the DEPRECATION section in apt-key(8) for details.\n",
            "Reading package lists... Done\n",
            "Building dependency tree... Done\n",
            "Reading state information... Done\n",
            "The following NEW packages will be installed:\n",
            "  duck\n",
            "0 upgraded, 1 newly installed, 0 to remove and 16 not upgraded.\n",
            "Need to get 88.9 MB of archives.\n",
            "After this operation, 212 MB of additional disk space will be used.\n",
            "Get:1 https://s3.amazonaws.com/repo.deb.cyberduck.io stable/main amd64 duck amd64 8.6.3.40040 [88.9 MB]\n",
            "Fetched 88.9 MB in 1s (68.8 MB/s)\n",
            "debconf: unable to initialize frontend: Dialog\n",
            "debconf: (No usable dialog-like program is installed, so the dialog based frontend cannot be used. at /usr/share/perl5/Debconf/FrontEnd/Dialog.pm line 78, <> line 1.)\n",
            "debconf: falling back to frontend: Readline\n",
            "debconf: unable to initialize frontend: Readline\n",
            "debconf: (This frontend requires a controlling tty.)\n",
            "debconf: falling back to frontend: Teletype\n",
            "dpkg-preconfigure: unable to re-open stdin: \n",
            "Selecting previously unselected package duck.\n",
            "(Reading database ... 120828 files and directories currently installed.)\n",
            "Preparing to unpack .../duck_8.6.3.40040_amd64.deb ...\n",
            "Unpacking duck (8.6.3.40040) ...\n",
            "Setting up duck (8.6.3.40040) ...\n"
          ]
        }
      ]
    },
    {
      "cell_type": "code",
      "source": [
        "#!ls ./data/anat_thickness/\n",
        "!rm -rf ./data\n",
        "\n",
        "from google.colab import drive\n",
        "drive.mount('/content/drive')\n"
      ],
      "metadata": {
        "id": "3NoZwDU4dJ41",
        "outputId": "33e61c5b-19aa-4e81-8d54-8ba6e160c543",
        "colab": {
          "base_uri": "https://localhost:8080/"
        }
      },
      "execution_count": null,
      "outputs": [
        {
          "output_type": "stream",
          "name": "stdout",
          "text": [
            "Mounted at /content/drive\n"
          ]
        }
      ]
    },
    {
      "cell_type": "markdown",
      "source": [
        "Next, let's download the file with the participant info:"
      ],
      "metadata": {
        "id": "QOmEM1rpbdES"
      }
    },
    {
      "cell_type": "code",
      "source": [
        "# URL to download the CSV file!\n",
        "csv_url = \"https://s3.amazonaws.com/fcp-indi/data/Projects/ABIDE_Initiative/Phenotypic_V1_0b_preprocessed1.csv\"  # Replace with the actual URL\n",
        "\n",
        "# Directory to store the CSV file\n",
        "data_directory = \"./data/participant_info\"\n",
        "\n",
        "# Create the directory if it does not exist\n",
        "os.makedirs(data_directory, exist_ok=True)\n",
        "\n",
        "# File path to save the CSV file\n",
        "csv_file_path = os.path.join(data_directory, \"participant_info.csv\")\n",
        "\n",
        "# Download the CSV file\n",
        "response = requests.get(csv_url)\n",
        "if response.status_code == 200:\n",
        "    with open(csv_file_path, \"wb\") as f:\n",
        "        f.write(response.content)\n",
        "    print(\"CSV file downloaded successfully.\")\n",
        "else:\n",
        "    print(\"Failed to download the CSV file.\")\n"
      ],
      "metadata": {
        "id": "pRY_50GRbfow",
        "outputId": "c4fb778d-7184-4216-c772-ce1d22575817",
        "colab": {
          "base_uri": "https://localhost:8080/"
        }
      },
      "execution_count": 13,
      "outputs": [
        {
          "output_type": "stream",
          "name": "stdout",
          "text": [
            "CSV file downloaded successfully.\n"
          ]
        }
      ]
    },
    {
      "cell_type": "markdown",
      "source": [
        "Next I am downloading the transformation templates."
      ],
      "metadata": {
        "id": "AxILefvkvf9x"
      }
    },
    {
      "cell_type": "code",
      "source": [
        "!pip install ants\n",
        "\n",
        "import pandas as pd\n",
        "import os\n",
        "import shutil\n",
        "import urllib.request\n",
        "from nipype.interfaces.ants import ApplyTransforms\n",
        "\n",
        "# Define paths\n",
        "data_directory = \"./data/participant_info\"\n",
        "drive_directory = './drive/MyDrive/MasterThesisData'\n",
        "temp_directory = './temp_data'  # Temporary directory\n",
        "\n",
        "# Create directories if they don't exist\n",
        "os.makedirs(drive_directory, exist_ok=True)\n",
        "os.makedirs(temp_directory, exist_ok=True)\n",
        "\n",
        "# Load the CSV file\n",
        "csv_file_path = os.path.join(data_directory, \"participant_info.csv\")\n",
        "data = pd.read_csv(csv_file_path)\n",
        "\n",
        "failed_download = []\n",
        "\n",
        "# Loop through the association list\n",
        "for index, row in data.iterrows():\n",
        "    file_id = row['FILE_ID']\n",
        "    sub_id = row['SUB_ID']\n",
        "\n",
        "    try:\n",
        "        # Construct the MRI data file name\n",
        "        mri_data_file = f\"{file_id}_anat_thickness.nii.gz\"\n",
        "        mri_data_path = os.path.join(temp_directory, mri_data_file)\n",
        "\n",
        "        # Download the MRI data file to the temporary directory\n",
        "        mri_url = f\"https://fcp-indi.s3.amazonaws.com/data/Projects/ABIDE_Initiative/Outputs/ants/anat_thickness/{mri_data_file}\"\n",
        "        urllib.request.urlretrieve(mri_url, mri_data_path)\n",
        "\n",
        "        # Construct the transformation template file name\n",
        "        template_file_name = f'sub-00{sub_id}_from-T1w_to-MNI152NLin2009cAsym_mode-image_xfm.h5'\n",
        "        template_destination = os.path.join(temp_directory, template_file_name)\n",
        "\n",
        "        # Download the transformation template\n",
        "        template_url = f\"https://fcp-indi.s3.amazonaws.com/data/Projects/ABIDE/Outputs/fmriprep/fmriprep/sub-00{sub_id}/anat/{template_file_name}\"\n",
        "        urllib.request.urlretrieve(template_url, template_destination)\n",
        "\n",
        "        # Define paths for the transformed output\n",
        "        transformed_output_path = os.path.join(drive_directory, f\"{file_id}_transformed.nii.gz\")\n",
        "\n",
        "        from nipype import config, logging\n",
        "        from nipype.interfaces.base import CommandLine\n",
        "\n",
        "        # Set the execution plugin to CommandLine\n",
        "        config.enable_debug_mode()\n",
        "        config.enable_provenance()\n",
        "        logging.update_logging(config)\n",
        "\n",
        "        # Define the antsApplyTransforms interface\n",
        "        at = ApplyTransforms()\n",
        "        at.inputs.input_image = mri_data_path\n",
        "        at.inputs.reference_image = '/root/.cache/templateflow/tpl-MNI152NLin2009cAsym/tpl-MNI152NLin2009cAsym_res-01_T1w.nii.gz'  # Replace with the actual path\n",
        "        at.inputs.transforms = template_destination\n",
        "        at.inputs.output_image = transformed_output_path\n",
        "\n",
        "        # Execute the antsApplyTransforms command\n",
        "        cmdline = at.cmdline\n",
        "        cl = CommandLine(command=cmdline)\n",
        "        cl.run()\n",
        "\n",
        "        # Clean up: Delete the input data and template\n",
        "        os.remove(mri_data_path)\n",
        "        os.remove(template_destination)\n",
        "\n",
        "        print(f\"Transformed and saved for FILE_ID: {file_id}\")\n",
        "\n",
        "    except Exception as e:\n",
        "        print(f\"Failed for FILE_ID: {file_id}. Error: {e}\")\n",
        "\n",
        "print(\"Processing completed.\")\n"
      ],
      "metadata": {
        "id": "O_YvCuNcvgh5",
        "colab": {
          "base_uri": "https://localhost:8080/",
          "height": 1000
        },
        "outputId": "81c62846-a41c-4ca0-8a0b-1485e9a18445"
      },
      "execution_count": 23,
      "outputs": [
        {
          "output_type": "stream",
          "name": "stdout",
          "text": [
            "Requirement already satisfied: ants in /usr/local/lib/python3.10/dist-packages (0.0.7)\n",
            "Requirement already satisfied: Django>=1.10.2 in /usr/local/lib/python3.10/dist-packages (from ants) (4.2.4)\n",
            "Requirement already satisfied: gevent>=1.1.1 in /usr/local/lib/python3.10/dist-packages (from ants) (23.7.0)\n",
            "Requirement already satisfied: asgiref<4,>=3.6.0 in /usr/local/lib/python3.10/dist-packages (from Django>=1.10.2->ants) (3.7.2)\n",
            "Requirement already satisfied: sqlparse>=0.3.1 in /usr/local/lib/python3.10/dist-packages (from Django>=1.10.2->ants) (0.4.4)\n",
            "Requirement already satisfied: zope.event in /usr/local/lib/python3.10/dist-packages (from gevent>=1.1.1->ants) (5.0)\n",
            "Requirement already satisfied: zope.interface in /usr/local/lib/python3.10/dist-packages (from gevent>=1.1.1->ants) (6.0)\n",
            "Requirement already satisfied: greenlet>=2.0.0 in /usr/local/lib/python3.10/dist-packages (from gevent>=1.1.1->ants) (2.0.2)\n",
            "Requirement already satisfied: typing-extensions>=4 in /usr/local/lib/python3.10/dist-packages (from asgiref<4,>=3.6.0->Django>=1.10.2->ants) (4.7.1)\n",
            "Requirement already satisfied: setuptools in /usr/local/lib/python3.10/dist-packages (from zope.event->gevent>=1.1.1->ants) (67.7.2)\n",
            "Failed for FILE_ID: no_filename. Error: HTTP Error 404: Not Found\n",
            "230811-19:43:35,893 nipype.interface DEBUG:\n",
            "\t default_value_0.0\n"
          ]
        },
        {
          "output_type": "stream",
          "name": "stderr",
          "text": [
            "DEBUG:nipype.interface:default_value_0.0\n"
          ]
        },
        {
          "output_type": "stream",
          "name": "stdout",
          "text": [
            "230811-19:43:35,901 nipype.interface DEBUG:\n",
            "\t float_False\n"
          ]
        },
        {
          "output_type": "stream",
          "name": "stderr",
          "text": [
            "DEBUG:nipype.interface:float_False\n"
          ]
        },
        {
          "output_type": "stream",
          "name": "stdout",
          "text": [
            "230811-19:43:35,905 nipype.interface DEBUG:\n",
            "\t input_image_temp_data/Pitt_0050003_anat_thickness.nii.gz\n"
          ]
        },
        {
          "output_type": "stream",
          "name": "stderr",
          "text": [
            "DEBUG:nipype.interface:input_image_temp_data/Pitt_0050003_anat_thickness.nii.gz\n"
          ]
        },
        {
          "output_type": "stream",
          "name": "stdout",
          "text": [
            "230811-19:43:35,909 nipype.interface DEBUG:\n",
            "\t reference_image_/root/.cache/templateflow/tpl-MNI152NLin2009cAsym/tpl-MNI152NLin2009cAsym_res-01_T1w.nii.gz\n"
          ]
        },
        {
          "output_type": "stream",
          "name": "stderr",
          "text": [
            "DEBUG:nipype.interface:reference_image_/root/.cache/templateflow/tpl-MNI152NLin2009cAsym/tpl-MNI152NLin2009cAsym_res-01_T1w.nii.gz\n"
          ]
        },
        {
          "output_type": "stream",
          "name": "stdout",
          "text": [
            "Failed for FILE_ID: Pitt_0050003. Error: No command \"antsApplyTransforms\" found on host 82a33ac3693d. Please check that the corresponding package is installed.\n",
            "230811-19:43:37,676 nipype.interface DEBUG:\n",
            "\t default_value_0.0\n"
          ]
        },
        {
          "output_type": "stream",
          "name": "stderr",
          "text": [
            "DEBUG:nipype.interface:default_value_0.0\n"
          ]
        },
        {
          "output_type": "stream",
          "name": "stdout",
          "text": [
            "230811-19:43:37,681 nipype.interface DEBUG:\n",
            "\t float_False\n"
          ]
        },
        {
          "output_type": "stream",
          "name": "stderr",
          "text": [
            "DEBUG:nipype.interface:float_False\n"
          ]
        },
        {
          "output_type": "stream",
          "name": "stdout",
          "text": [
            "230811-19:43:37,686 nipype.interface DEBUG:\n",
            "\t input_image_temp_data/Pitt_0050004_anat_thickness.nii.gz\n"
          ]
        },
        {
          "output_type": "stream",
          "name": "stderr",
          "text": [
            "DEBUG:nipype.interface:input_image_temp_data/Pitt_0050004_anat_thickness.nii.gz\n"
          ]
        },
        {
          "output_type": "stream",
          "name": "stdout",
          "text": [
            "230811-19:43:37,689 nipype.interface DEBUG:\n",
            "\t reference_image_/root/.cache/templateflow/tpl-MNI152NLin2009cAsym/tpl-MNI152NLin2009cAsym_res-01_T1w.nii.gz\n"
          ]
        },
        {
          "output_type": "stream",
          "name": "stderr",
          "text": [
            "DEBUG:nipype.interface:reference_image_/root/.cache/templateflow/tpl-MNI152NLin2009cAsym/tpl-MNI152NLin2009cAsym_res-01_T1w.nii.gz\n"
          ]
        },
        {
          "output_type": "stream",
          "name": "stdout",
          "text": [
            "Failed for FILE_ID: Pitt_0050004. Error: No command \"antsApplyTransforms\" found on host 82a33ac3693d. Please check that the corresponding package is installed.\n",
            "230811-19:43:40,85 nipype.interface DEBUG:\n",
            "\t default_value_0.0\n"
          ]
        },
        {
          "output_type": "stream",
          "name": "stderr",
          "text": [
            "DEBUG:nipype.interface:default_value_0.0\n"
          ]
        },
        {
          "output_type": "stream",
          "name": "stdout",
          "text": [
            "230811-19:43:40,98 nipype.interface DEBUG:\n",
            "\t float_False\n"
          ]
        },
        {
          "output_type": "stream",
          "name": "stderr",
          "text": [
            "DEBUG:nipype.interface:float_False\n"
          ]
        },
        {
          "output_type": "stream",
          "name": "stdout",
          "text": [
            "230811-19:43:40,107 nipype.interface DEBUG:\n",
            "\t input_image_temp_data/Pitt_0050005_anat_thickness.nii.gz\n"
          ]
        },
        {
          "output_type": "stream",
          "name": "stderr",
          "text": [
            "DEBUG:nipype.interface:input_image_temp_data/Pitt_0050005_anat_thickness.nii.gz\n"
          ]
        },
        {
          "output_type": "stream",
          "name": "stdout",
          "text": [
            "230811-19:43:40,115 nipype.interface DEBUG:\n",
            "\t reference_image_/root/.cache/templateflow/tpl-MNI152NLin2009cAsym/tpl-MNI152NLin2009cAsym_res-01_T1w.nii.gz\n"
          ]
        },
        {
          "output_type": "stream",
          "name": "stderr",
          "text": [
            "DEBUG:nipype.interface:reference_image_/root/.cache/templateflow/tpl-MNI152NLin2009cAsym/tpl-MNI152NLin2009cAsym_res-01_T1w.nii.gz\n"
          ]
        },
        {
          "output_type": "stream",
          "name": "stdout",
          "text": [
            "Failed for FILE_ID: Pitt_0050005. Error: No command \"antsApplyTransforms\" found on host 82a33ac3693d. Please check that the corresponding package is installed.\n",
            "230811-19:43:41,882 nipype.interface DEBUG:\n",
            "\t default_value_0.0\n"
          ]
        },
        {
          "output_type": "stream",
          "name": "stderr",
          "text": [
            "DEBUG:nipype.interface:default_value_0.0\n"
          ]
        },
        {
          "output_type": "stream",
          "name": "stdout",
          "text": [
            "230811-19:43:41,893 nipype.interface DEBUG:\n",
            "\t float_False\n"
          ]
        },
        {
          "output_type": "stream",
          "name": "stderr",
          "text": [
            "DEBUG:nipype.interface:float_False\n"
          ]
        },
        {
          "output_type": "stream",
          "name": "stdout",
          "text": [
            "230811-19:43:41,900 nipype.interface DEBUG:\n",
            "\t input_image_temp_data/Pitt_0050006_anat_thickness.nii.gz\n"
          ]
        },
        {
          "output_type": "stream",
          "name": "stderr",
          "text": [
            "DEBUG:nipype.interface:input_image_temp_data/Pitt_0050006_anat_thickness.nii.gz\n"
          ]
        },
        {
          "output_type": "stream",
          "name": "stdout",
          "text": [
            "230811-19:43:41,902 nipype.interface DEBUG:\n",
            "\t reference_image_/root/.cache/templateflow/tpl-MNI152NLin2009cAsym/tpl-MNI152NLin2009cAsym_res-01_T1w.nii.gz\n"
          ]
        },
        {
          "output_type": "stream",
          "name": "stderr",
          "text": [
            "DEBUG:nipype.interface:reference_image_/root/.cache/templateflow/tpl-MNI152NLin2009cAsym/tpl-MNI152NLin2009cAsym_res-01_T1w.nii.gz\n"
          ]
        },
        {
          "output_type": "stream",
          "name": "stdout",
          "text": [
            "Failed for FILE_ID: Pitt_0050006. Error: No command \"antsApplyTransforms\" found on host 82a33ac3693d. Please check that the corresponding package is installed.\n",
            "230811-19:43:44,278 nipype.interface DEBUG:\n",
            "\t default_value_0.0\n"
          ]
        },
        {
          "output_type": "stream",
          "name": "stderr",
          "text": [
            "DEBUG:nipype.interface:default_value_0.0\n"
          ]
        },
        {
          "output_type": "stream",
          "name": "stdout",
          "text": [
            "230811-19:43:44,288 nipype.interface DEBUG:\n",
            "\t float_False\n"
          ]
        },
        {
          "output_type": "stream",
          "name": "stderr",
          "text": [
            "DEBUG:nipype.interface:float_False\n"
          ]
        },
        {
          "output_type": "stream",
          "name": "stdout",
          "text": [
            "230811-19:43:44,297 nipype.interface DEBUG:\n",
            "\t input_image_temp_data/Pitt_0050007_anat_thickness.nii.gz\n"
          ]
        },
        {
          "output_type": "stream",
          "name": "stderr",
          "text": [
            "DEBUG:nipype.interface:input_image_temp_data/Pitt_0050007_anat_thickness.nii.gz\n"
          ]
        },
        {
          "output_type": "stream",
          "name": "stdout",
          "text": [
            "230811-19:43:44,306 nipype.interface DEBUG:\n",
            "\t reference_image_/root/.cache/templateflow/tpl-MNI152NLin2009cAsym/tpl-MNI152NLin2009cAsym_res-01_T1w.nii.gz\n"
          ]
        },
        {
          "output_type": "stream",
          "name": "stderr",
          "text": [
            "DEBUG:nipype.interface:reference_image_/root/.cache/templateflow/tpl-MNI152NLin2009cAsym/tpl-MNI152NLin2009cAsym_res-01_T1w.nii.gz\n"
          ]
        },
        {
          "output_type": "stream",
          "name": "stdout",
          "text": [
            "Failed for FILE_ID: Pitt_0050007. Error: No command \"antsApplyTransforms\" found on host 82a33ac3693d. Please check that the corresponding package is installed.\n",
            "230811-19:43:47,1 nipype.interface DEBUG:\n",
            "\t default_value_0.0\n"
          ]
        },
        {
          "output_type": "stream",
          "name": "stderr",
          "text": [
            "DEBUG:nipype.interface:default_value_0.0\n"
          ]
        },
        {
          "output_type": "stream",
          "name": "stdout",
          "text": [
            "230811-19:43:47,7 nipype.interface DEBUG:\n",
            "\t float_False\n"
          ]
        },
        {
          "output_type": "stream",
          "name": "stderr",
          "text": [
            "DEBUG:nipype.interface:float_False\n"
          ]
        },
        {
          "output_type": "stream",
          "name": "stdout",
          "text": [
            "230811-19:43:47,13 nipype.interface DEBUG:\n",
            "\t input_image_temp_data/Pitt_0050008_anat_thickness.nii.gz\n"
          ]
        },
        {
          "output_type": "stream",
          "name": "stderr",
          "text": [
            "DEBUG:nipype.interface:input_image_temp_data/Pitt_0050008_anat_thickness.nii.gz\n"
          ]
        },
        {
          "output_type": "stream",
          "name": "stdout",
          "text": [
            "230811-19:43:47,16 nipype.interface DEBUG:\n",
            "\t reference_image_/root/.cache/templateflow/tpl-MNI152NLin2009cAsym/tpl-MNI152NLin2009cAsym_res-01_T1w.nii.gz\n"
          ]
        },
        {
          "output_type": "stream",
          "name": "stderr",
          "text": [
            "DEBUG:nipype.interface:reference_image_/root/.cache/templateflow/tpl-MNI152NLin2009cAsym/tpl-MNI152NLin2009cAsym_res-01_T1w.nii.gz\n"
          ]
        },
        {
          "output_type": "stream",
          "name": "stdout",
          "text": [
            "Failed for FILE_ID: Pitt_0050008. Error: No command \"antsApplyTransforms\" found on host 82a33ac3693d. Please check that the corresponding package is installed.\n",
            "230811-19:43:49,764 nipype.interface DEBUG:\n",
            "\t default_value_0.0\n"
          ]
        },
        {
          "output_type": "stream",
          "name": "stderr",
          "text": [
            "DEBUG:nipype.interface:default_value_0.0\n"
          ]
        },
        {
          "output_type": "stream",
          "name": "stdout",
          "text": [
            "230811-19:43:49,777 nipype.interface DEBUG:\n",
            "\t float_False\n"
          ]
        },
        {
          "output_type": "stream",
          "name": "stderr",
          "text": [
            "DEBUG:nipype.interface:float_False\n"
          ]
        },
        {
          "output_type": "stream",
          "name": "stdout",
          "text": [
            "230811-19:43:49,784 nipype.interface DEBUG:\n",
            "\t input_image_temp_data/Pitt_0050009_anat_thickness.nii.gz\n"
          ]
        },
        {
          "output_type": "stream",
          "name": "stderr",
          "text": [
            "DEBUG:nipype.interface:input_image_temp_data/Pitt_0050009_anat_thickness.nii.gz\n"
          ]
        },
        {
          "output_type": "stream",
          "name": "stdout",
          "text": [
            "230811-19:43:49,790 nipype.interface DEBUG:\n",
            "\t reference_image_/root/.cache/templateflow/tpl-MNI152NLin2009cAsym/tpl-MNI152NLin2009cAsym_res-01_T1w.nii.gz\n"
          ]
        },
        {
          "output_type": "stream",
          "name": "stderr",
          "text": [
            "DEBUG:nipype.interface:reference_image_/root/.cache/templateflow/tpl-MNI152NLin2009cAsym/tpl-MNI152NLin2009cAsym_res-01_T1w.nii.gz\n"
          ]
        },
        {
          "output_type": "stream",
          "name": "stdout",
          "text": [
            "Failed for FILE_ID: Pitt_0050009. Error: No command \"antsApplyTransforms\" found on host 82a33ac3693d. Please check that the corresponding package is installed.\n",
            "230811-19:43:52,306 nipype.interface DEBUG:\n",
            "\t default_value_0.0\n"
          ]
        },
        {
          "output_type": "stream",
          "name": "stderr",
          "text": [
            "DEBUG:nipype.interface:default_value_0.0\n"
          ]
        },
        {
          "output_type": "stream",
          "name": "stdout",
          "text": [
            "230811-19:43:52,313 nipype.interface DEBUG:\n",
            "\t float_False\n"
          ]
        },
        {
          "output_type": "stream",
          "name": "stderr",
          "text": [
            "DEBUG:nipype.interface:float_False\n"
          ]
        },
        {
          "output_type": "stream",
          "name": "stdout",
          "text": [
            "230811-19:43:52,319 nipype.interface DEBUG:\n",
            "\t input_image_temp_data/Pitt_0050010_anat_thickness.nii.gz\n"
          ]
        },
        {
          "output_type": "stream",
          "name": "stderr",
          "text": [
            "DEBUG:nipype.interface:input_image_temp_data/Pitt_0050010_anat_thickness.nii.gz\n"
          ]
        },
        {
          "output_type": "stream",
          "name": "stdout",
          "text": [
            "230811-19:43:52,323 nipype.interface DEBUG:\n",
            "\t reference_image_/root/.cache/templateflow/tpl-MNI152NLin2009cAsym/tpl-MNI152NLin2009cAsym_res-01_T1w.nii.gz\n"
          ]
        },
        {
          "output_type": "stream",
          "name": "stderr",
          "text": [
            "DEBUG:nipype.interface:reference_image_/root/.cache/templateflow/tpl-MNI152NLin2009cAsym/tpl-MNI152NLin2009cAsym_res-01_T1w.nii.gz\n"
          ]
        },
        {
          "output_type": "stream",
          "name": "stdout",
          "text": [
            "Failed for FILE_ID: Pitt_0050010. Error: No command \"antsApplyTransforms\" found on host 82a33ac3693d. Please check that the corresponding package is installed.\n"
          ]
        },
        {
          "output_type": "error",
          "ename": "KeyboardInterrupt",
          "evalue": "ignored",
          "traceback": [
            "\u001b[0;31m---------------------------------------------------------------------------\u001b[0m",
            "\u001b[0;31mKeyboardInterrupt\u001b[0m                         Traceback (most recent call last)",
            "\u001b[0;32m<ipython-input-23-59244006dc7e>\u001b[0m in \u001b[0;36m<cell line: 25>\u001b[0;34m()\u001b[0m\n\u001b[1;32m     42\u001b[0m         \u001b[0;31m# Download the transformation template\u001b[0m\u001b[0;34m\u001b[0m\u001b[0;34m\u001b[0m\u001b[0m\n\u001b[1;32m     43\u001b[0m         \u001b[0mtemplate_url\u001b[0m \u001b[0;34m=\u001b[0m \u001b[0;34mf\"https://fcp-indi.s3.amazonaws.com/data/Projects/ABIDE/Outputs/fmriprep/fmriprep/sub-00{sub_id}/anat/{template_file_name}\"\u001b[0m\u001b[0;34m\u001b[0m\u001b[0;34m\u001b[0m\u001b[0m\n\u001b[0;32m---> 44\u001b[0;31m         \u001b[0murllib\u001b[0m\u001b[0;34m.\u001b[0m\u001b[0mrequest\u001b[0m\u001b[0;34m.\u001b[0m\u001b[0murlretrieve\u001b[0m\u001b[0;34m(\u001b[0m\u001b[0mtemplate_url\u001b[0m\u001b[0;34m,\u001b[0m \u001b[0mtemplate_destination\u001b[0m\u001b[0;34m)\u001b[0m\u001b[0;34m\u001b[0m\u001b[0;34m\u001b[0m\u001b[0m\n\u001b[0m\u001b[1;32m     45\u001b[0m \u001b[0;34m\u001b[0m\u001b[0m\n\u001b[1;32m     46\u001b[0m         \u001b[0;31m# Define paths for the transformed output\u001b[0m\u001b[0;34m\u001b[0m\u001b[0;34m\u001b[0m\u001b[0m\n",
            "\u001b[0;32m/usr/lib/python3.10/urllib/request.py\u001b[0m in \u001b[0;36murlretrieve\u001b[0;34m(url, filename, reporthook, data)\u001b[0m\n\u001b[1;32m    268\u001b[0m \u001b[0;34m\u001b[0m\u001b[0m\n\u001b[1;32m    269\u001b[0m             \u001b[0;32mwhile\u001b[0m \u001b[0;32mTrue\u001b[0m\u001b[0;34m:\u001b[0m\u001b[0;34m\u001b[0m\u001b[0;34m\u001b[0m\u001b[0m\n\u001b[0;32m--> 270\u001b[0;31m                 \u001b[0mblock\u001b[0m \u001b[0;34m=\u001b[0m \u001b[0mfp\u001b[0m\u001b[0;34m.\u001b[0m\u001b[0mread\u001b[0m\u001b[0;34m(\u001b[0m\u001b[0mbs\u001b[0m\u001b[0;34m)\u001b[0m\u001b[0;34m\u001b[0m\u001b[0;34m\u001b[0m\u001b[0m\n\u001b[0m\u001b[1;32m    271\u001b[0m                 \u001b[0;32mif\u001b[0m \u001b[0;32mnot\u001b[0m \u001b[0mblock\u001b[0m\u001b[0;34m:\u001b[0m\u001b[0;34m\u001b[0m\u001b[0;34m\u001b[0m\u001b[0m\n\u001b[1;32m    272\u001b[0m                     \u001b[0;32mbreak\u001b[0m\u001b[0;34m\u001b[0m\u001b[0;34m\u001b[0m\u001b[0m\n",
            "\u001b[0;32m/usr/lib/python3.10/http/client.py\u001b[0m in \u001b[0;36mread\u001b[0;34m(self, amt)\u001b[0m\n\u001b[1;32m    464\u001b[0m                 \u001b[0;31m# clip the read to the \"end of response\"\u001b[0m\u001b[0;34m\u001b[0m\u001b[0;34m\u001b[0m\u001b[0m\n\u001b[1;32m    465\u001b[0m                 \u001b[0mamt\u001b[0m \u001b[0;34m=\u001b[0m \u001b[0mself\u001b[0m\u001b[0;34m.\u001b[0m\u001b[0mlength\u001b[0m\u001b[0;34m\u001b[0m\u001b[0;34m\u001b[0m\u001b[0m\n\u001b[0;32m--> 466\u001b[0;31m             \u001b[0ms\u001b[0m \u001b[0;34m=\u001b[0m \u001b[0mself\u001b[0m\u001b[0;34m.\u001b[0m\u001b[0mfp\u001b[0m\u001b[0;34m.\u001b[0m\u001b[0mread\u001b[0m\u001b[0;34m(\u001b[0m\u001b[0mamt\u001b[0m\u001b[0;34m)\u001b[0m\u001b[0;34m\u001b[0m\u001b[0;34m\u001b[0m\u001b[0m\n\u001b[0m\u001b[1;32m    467\u001b[0m             \u001b[0;32mif\u001b[0m \u001b[0;32mnot\u001b[0m \u001b[0ms\u001b[0m \u001b[0;32mand\u001b[0m \u001b[0mamt\u001b[0m\u001b[0;34m:\u001b[0m\u001b[0;34m\u001b[0m\u001b[0;34m\u001b[0m\u001b[0m\n\u001b[1;32m    468\u001b[0m                 \u001b[0;31m# Ideally, we would raise IncompleteRead if the content-length\u001b[0m\u001b[0;34m\u001b[0m\u001b[0;34m\u001b[0m\u001b[0m\n",
            "\u001b[0;32m/usr/lib/python3.10/socket.py\u001b[0m in \u001b[0;36mreadinto\u001b[0;34m(self, b)\u001b[0m\n\u001b[1;32m    703\u001b[0m         \u001b[0;32mwhile\u001b[0m \u001b[0;32mTrue\u001b[0m\u001b[0;34m:\u001b[0m\u001b[0;34m\u001b[0m\u001b[0;34m\u001b[0m\u001b[0m\n\u001b[1;32m    704\u001b[0m             \u001b[0;32mtry\u001b[0m\u001b[0;34m:\u001b[0m\u001b[0;34m\u001b[0m\u001b[0;34m\u001b[0m\u001b[0m\n\u001b[0;32m--> 705\u001b[0;31m                 \u001b[0;32mreturn\u001b[0m \u001b[0mself\u001b[0m\u001b[0;34m.\u001b[0m\u001b[0m_sock\u001b[0m\u001b[0;34m.\u001b[0m\u001b[0mrecv_into\u001b[0m\u001b[0;34m(\u001b[0m\u001b[0mb\u001b[0m\u001b[0;34m)\u001b[0m\u001b[0;34m\u001b[0m\u001b[0;34m\u001b[0m\u001b[0m\n\u001b[0m\u001b[1;32m    706\u001b[0m             \u001b[0;32mexcept\u001b[0m \u001b[0mtimeout\u001b[0m\u001b[0;34m:\u001b[0m\u001b[0;34m\u001b[0m\u001b[0;34m\u001b[0m\u001b[0m\n\u001b[1;32m    707\u001b[0m                 \u001b[0mself\u001b[0m\u001b[0;34m.\u001b[0m\u001b[0m_timeout_occurred\u001b[0m \u001b[0;34m=\u001b[0m \u001b[0;32mTrue\u001b[0m\u001b[0;34m\u001b[0m\u001b[0;34m\u001b[0m\u001b[0m\n",
            "\u001b[0;32m/usr/lib/python3.10/ssl.py\u001b[0m in \u001b[0;36mrecv_into\u001b[0;34m(self, buffer, nbytes, flags)\u001b[0m\n\u001b[1;32m   1272\u001b[0m                   \u001b[0;34m\"non-zero flags not allowed in calls to recv_into() on %s\"\u001b[0m \u001b[0;34m%\u001b[0m\u001b[0;34m\u001b[0m\u001b[0;34m\u001b[0m\u001b[0m\n\u001b[1;32m   1273\u001b[0m                   self.__class__)\n\u001b[0;32m-> 1274\u001b[0;31m             \u001b[0;32mreturn\u001b[0m \u001b[0mself\u001b[0m\u001b[0;34m.\u001b[0m\u001b[0mread\u001b[0m\u001b[0;34m(\u001b[0m\u001b[0mnbytes\u001b[0m\u001b[0;34m,\u001b[0m \u001b[0mbuffer\u001b[0m\u001b[0;34m)\u001b[0m\u001b[0;34m\u001b[0m\u001b[0;34m\u001b[0m\u001b[0m\n\u001b[0m\u001b[1;32m   1275\u001b[0m         \u001b[0;32melse\u001b[0m\u001b[0;34m:\u001b[0m\u001b[0;34m\u001b[0m\u001b[0;34m\u001b[0m\u001b[0m\n\u001b[1;32m   1276\u001b[0m             \u001b[0;32mreturn\u001b[0m \u001b[0msuper\u001b[0m\u001b[0;34m(\u001b[0m\u001b[0;34m)\u001b[0m\u001b[0;34m.\u001b[0m\u001b[0mrecv_into\u001b[0m\u001b[0;34m(\u001b[0m\u001b[0mbuffer\u001b[0m\u001b[0;34m,\u001b[0m \u001b[0mnbytes\u001b[0m\u001b[0;34m,\u001b[0m \u001b[0mflags\u001b[0m\u001b[0;34m)\u001b[0m\u001b[0;34m\u001b[0m\u001b[0;34m\u001b[0m\u001b[0m\n",
            "\u001b[0;32m/usr/lib/python3.10/ssl.py\u001b[0m in \u001b[0;36mread\u001b[0;34m(self, len, buffer)\u001b[0m\n\u001b[1;32m   1128\u001b[0m         \u001b[0;32mtry\u001b[0m\u001b[0;34m:\u001b[0m\u001b[0;34m\u001b[0m\u001b[0;34m\u001b[0m\u001b[0m\n\u001b[1;32m   1129\u001b[0m             \u001b[0;32mif\u001b[0m \u001b[0mbuffer\u001b[0m \u001b[0;32mis\u001b[0m \u001b[0;32mnot\u001b[0m \u001b[0;32mNone\u001b[0m\u001b[0;34m:\u001b[0m\u001b[0;34m\u001b[0m\u001b[0;34m\u001b[0m\u001b[0m\n\u001b[0;32m-> 1130\u001b[0;31m                 \u001b[0;32mreturn\u001b[0m \u001b[0mself\u001b[0m\u001b[0;34m.\u001b[0m\u001b[0m_sslobj\u001b[0m\u001b[0;34m.\u001b[0m\u001b[0mread\u001b[0m\u001b[0;34m(\u001b[0m\u001b[0mlen\u001b[0m\u001b[0;34m,\u001b[0m \u001b[0mbuffer\u001b[0m\u001b[0;34m)\u001b[0m\u001b[0;34m\u001b[0m\u001b[0;34m\u001b[0m\u001b[0m\n\u001b[0m\u001b[1;32m   1131\u001b[0m             \u001b[0;32melse\u001b[0m\u001b[0;34m:\u001b[0m\u001b[0;34m\u001b[0m\u001b[0;34m\u001b[0m\u001b[0m\n\u001b[1;32m   1132\u001b[0m                 \u001b[0;32mreturn\u001b[0m \u001b[0mself\u001b[0m\u001b[0;34m.\u001b[0m\u001b[0m_sslobj\u001b[0m\u001b[0;34m.\u001b[0m\u001b[0mread\u001b[0m\u001b[0;34m(\u001b[0m\u001b[0mlen\u001b[0m\u001b[0;34m)\u001b[0m\u001b[0;34m\u001b[0m\u001b[0;34m\u001b[0m\u001b[0m\n",
            "\u001b[0;31mKeyboardInterrupt\u001b[0m: "
          ]
        }
      ]
    },
    {
      "cell_type": "code",
      "source": [
        "!ls ./data/anat_thickness/"
      ],
      "metadata": {
        "id": "9dYyAKwZRbTM"
      },
      "execution_count": null,
      "outputs": []
    },
    {
      "cell_type": "markdown",
      "source": [
        "Before I can continue I need to create values for the cortical thickness via an atlas to make the resutls a bit better understandable and the model slimmer. This way I can also create a deeper model?"
      ],
      "metadata": {
        "id": "f6u2j6ezEE4v"
      }
    },
    {
      "cell_type": "code",
      "source": [
        "# Load the atlas\n",
        "from nilearn.datasets import fetch_atlas_destrieux_2009\n",
        "cortical_thickness_atlas_destrieux = fetch_atlas_destrieux_2009(lateralized = True)\n",
        "\n",
        "# From this, we can also export the labels that we can use for later visualization.\n",
        "labels = cortical_thickness_atlas_destrieux.labels\n",
        "\n"
      ],
      "metadata": {
        "id": "DMXFKprcENs5"
      },
      "execution_count": null,
      "outputs": []
    },
    {
      "cell_type": "markdown",
      "source": [
        "Before we can actually transform the images we need to get them into the same space. Originally, the pictures werent transformed into any space and are therefore in their natice space. We are tranforming them into the same space the template is in, i.e. MNI152NLin2009cAsym"
      ],
      "metadata": {
        "id": "h1VU48sCFj-H"
      }
    },
    {
      "cell_type": "code",
      "source": [
        "!pip install templateflow\n",
        "from templateflow import api as tflow\n",
        "mni152 = tflow.get('MNI152NLin2009cAsym', desc=None, resolution=1,\n",
        "                    suffix='T1w', extension='nii.gz')\n",
        "mni152"
      ],
      "metadata": {
        "id": "M4jsBhDwHI8v",
        "colab": {
          "base_uri": "https://localhost:8080/"
        },
        "outputId": "e92e5df1-e313-4342-af1c-4ccedbbcc71e"
      },
      "execution_count": 6,
      "outputs": [
        {
          "output_type": "stream",
          "name": "stdout",
          "text": [
            "Collecting templateflow\n",
            "  Downloading templateflow-23.0.0-py3-none-any.whl (455 kB)\n",
            "\u001b[2K     \u001b[90m━━━━━━━━━━━━━━━━━━━━━━━━━━━━━━━━━━━━━━━\u001b[0m \u001b[32m455.4/455.4 kB\u001b[0m \u001b[31m3.7 MB/s\u001b[0m eta \u001b[36m0:00:00\u001b[0m\n",
            "\u001b[?25hCollecting pybids>=0.15.2 (from templateflow)\n",
            "  Downloading pybids-0.16.1-py3-none-any.whl (14.9 MB)\n",
            "\u001b[2K     \u001b[90m━━━━━━━━━━━━━━━━━━━━━━━━━━━━━━━━━━━━━━━━\u001b[0m \u001b[32m14.9/14.9 MB\u001b[0m \u001b[31m26.9 MB/s\u001b[0m eta \u001b[36m0:00:00\u001b[0m\n",
            "\u001b[?25hRequirement already satisfied: requests in /usr/local/lib/python3.10/dist-packages (from templateflow) (2.31.0)\n",
            "Requirement already satisfied: tqdm in /usr/local/lib/python3.10/dist-packages (from templateflow) (4.66.0)\n",
            "Requirement already satisfied: numpy>=1.19 in /usr/local/lib/python3.10/dist-packages (from pybids>=0.15.2->templateflow) (1.23.5)\n",
            "Requirement already satisfied: scipy>=1.5 in /usr/local/lib/python3.10/dist-packages (from pybids>=0.15.2->templateflow) (1.10.1)\n",
            "Requirement already satisfied: nibabel>=3.0 in /usr/local/lib/python3.10/dist-packages (from pybids>=0.15.2->templateflow) (4.0.2)\n",
            "Requirement already satisfied: pandas>=0.25.2 in /usr/local/lib/python3.10/dist-packages (from pybids>=0.15.2->templateflow) (1.5.3)\n",
            "Collecting formulaic<0.6,>=0.2.4 (from pybids>=0.15.2->templateflow)\n",
            "  Downloading formulaic-0.5.2-py3-none-any.whl (77 kB)\n",
            "\u001b[2K     \u001b[90m━━━━━━━━━━━━━━━━━━━━━━━━━━━━━━━━━━━━━━━━\u001b[0m \u001b[32m77.1/77.1 kB\u001b[0m \u001b[31m8.6 MB/s\u001b[0m eta \u001b[36m0:00:00\u001b[0m\n",
            "\u001b[?25hRequirement already satisfied: sqlalchemy>=1.3.16 in /usr/local/lib/python3.10/dist-packages (from pybids>=0.15.2->templateflow) (2.0.19)\n",
            "Collecting bids-validator>=1.11 (from pybids>=0.15.2->templateflow)\n",
            "  Downloading bids_validator-1.12.0-py2.py3-none-any.whl (21 kB)\n",
            "Collecting num2words>=0.5.5 (from pybids>=0.15.2->templateflow)\n",
            "  Downloading num2words-0.5.12-py3-none-any.whl (125 kB)\n",
            "\u001b[2K     \u001b[90m━━━━━━━━━━━━━━━━━━━━━━━━━━━━━━━━━━━━━━\u001b[0m \u001b[32m125.2/125.2 kB\u001b[0m \u001b[31m13.2 MB/s\u001b[0m eta \u001b[36m0:00:00\u001b[0m\n",
            "\u001b[?25hRequirement already satisfied: click>=8.0 in /usr/local/lib/python3.10/dist-packages (from pybids>=0.15.2->templateflow) (8.1.6)\n",
            "Requirement already satisfied: charset-normalizer<4,>=2 in /usr/local/lib/python3.10/dist-packages (from requests->templateflow) (3.2.0)\n",
            "Requirement already satisfied: idna<4,>=2.5 in /usr/local/lib/python3.10/dist-packages (from requests->templateflow) (3.4)\n",
            "Requirement already satisfied: urllib3<3,>=1.21.1 in /usr/local/lib/python3.10/dist-packages (from requests->templateflow) (2.0.4)\n",
            "Requirement already satisfied: certifi>=2017.4.17 in /usr/local/lib/python3.10/dist-packages (from requests->templateflow) (2023.7.22)\n",
            "Collecting astor>=0.8 (from formulaic<0.6,>=0.2.4->pybids>=0.15.2->templateflow)\n",
            "  Downloading astor-0.8.1-py2.py3-none-any.whl (27 kB)\n",
            "Collecting interface-meta>=1.2.0 (from formulaic<0.6,>=0.2.4->pybids>=0.15.2->templateflow)\n",
            "  Downloading interface_meta-1.3.0-py3-none-any.whl (14 kB)\n",
            "Requirement already satisfied: typing-extensions>=4.2.0 in /usr/local/lib/python3.10/dist-packages (from formulaic<0.6,>=0.2.4->pybids>=0.15.2->templateflow) (4.7.1)\n",
            "Requirement already satisfied: wrapt>=1.0 in /usr/local/lib/python3.10/dist-packages (from formulaic<0.6,>=0.2.4->pybids>=0.15.2->templateflow) (1.14.1)\n",
            "Requirement already satisfied: packaging>=17.0 in /usr/local/lib/python3.10/dist-packages (from nibabel>=3.0->pybids>=0.15.2->templateflow) (23.1)\n",
            "Requirement already satisfied: setuptools in /usr/local/lib/python3.10/dist-packages (from nibabel>=3.0->pybids>=0.15.2->templateflow) (67.7.2)\n",
            "Collecting docopt>=0.6.2 (from num2words>=0.5.5->pybids>=0.15.2->templateflow)\n",
            "  Downloading docopt-0.6.2.tar.gz (25 kB)\n",
            "  Preparing metadata (setup.py) ... \u001b[?25l\u001b[?25hdone\n",
            "Requirement already satisfied: python-dateutil>=2.8.1 in /usr/local/lib/python3.10/dist-packages (from pandas>=0.25.2->pybids>=0.15.2->templateflow) (2.8.2)\n",
            "Requirement already satisfied: pytz>=2020.1 in /usr/local/lib/python3.10/dist-packages (from pandas>=0.25.2->pybids>=0.15.2->templateflow) (2023.3)\n",
            "Requirement already satisfied: greenlet!=0.4.17 in /usr/local/lib/python3.10/dist-packages (from sqlalchemy>=1.3.16->pybids>=0.15.2->templateflow) (2.0.2)\n",
            "Requirement already satisfied: six>=1.5 in /usr/local/lib/python3.10/dist-packages (from python-dateutil>=2.8.1->pandas>=0.25.2->pybids>=0.15.2->templateflow) (1.16.0)\n",
            "Building wheels for collected packages: docopt\n",
            "  Building wheel for docopt (setup.py) ... \u001b[?25l\u001b[?25hdone\n",
            "  Created wheel for docopt: filename=docopt-0.6.2-py2.py3-none-any.whl size=13706 sha256=57705302022027face89e27db5eb0bf8268a5b1d4b9dde7e34e7f67da7aabd6f\n",
            "  Stored in directory: /root/.cache/pip/wheels/fc/ab/d4/5da2067ac95b36618c629a5f93f809425700506f72c9732fac\n",
            "Successfully built docopt\n",
            "Installing collected packages: docopt, bids-validator, num2words, interface-meta, astor, formulaic, pybids, templateflow\n",
            "Successfully installed astor-0.8.1 bids-validator-1.12.0 docopt-0.6.2 formulaic-0.5.2 interface-meta-1.3.0 num2words-0.5.12 pybids-0.16.1 templateflow-23.0.0\n"
          ]
        },
        {
          "output_type": "stream",
          "name": "stderr",
          "text": [
            "Downloading https://templateflow.s3.amazonaws.com/tpl-MNI152NLin2009cAsym/tpl-MNI152NLin2009cAsym_res-01_T1w.nii.gz\n",
            "100%|██████████| 13.7M/13.7M [00:00<00:00, 45.6MB/s]\n"
          ]
        },
        {
          "output_type": "execute_result",
          "data": {
            "text/plain": [
              "PosixPath('/root/.cache/templateflow/tpl-MNI152NLin2009cAsym/tpl-MNI152NLin2009cAsym_res-01_T1w.nii.gz')"
            ]
          },
          "metadata": {},
          "execution_count": 6
        }
      ]
    },
    {
      "cell_type": "markdown",
      "source": [
        "Next, I need to transform the images. For this, the Advanced Normalisation Tool needs to be used."
      ],
      "metadata": {
        "id": "S2rZ7uH4HSLk"
      }
    },
    {
      "cell_type": "code",
      "source": [
        "#!pip install nipype\n",
        "from nipype.interfaces.ants import ANTS\n",
        "from nipype.interfaces.ants import ApplyTransforms\n",
        "\n",
        "\n",
        "\n",
        "at = ApplyTransforms()\n",
        "at.inputs.input_image = 'moving1.nii'\n",
        "at.inputs.reference_image = 'fixed1.nii'\n",
        "at.inputs.transforms = 'identity'\n",
        "\n",
        "at.cmdline\n",
        "'antsApplyTransforms --default-value 0 --float 0 --input moving1.nii --interpolation Linear --output moving1_trans.nii --reference-image fixed1.nii --transform identity'"
      ],
      "metadata": {
        "id": "QzaXULd0HYYs",
        "colab": {
          "base_uri": "https://localhost:8080/",
          "height": 681
        },
        "outputId": "b1bf2497-296b-4693-d7db-55a05b8c1bd4"
      },
      "execution_count": 9,
      "outputs": [
        {
          "output_type": "stream",
          "name": "stdout",
          "text": [
            "Requirement already satisfied: nipype in /usr/local/lib/python3.10/dist-packages (1.8.6)\n",
            "Requirement already satisfied: click>=6.6.0 in /usr/local/lib/python3.10/dist-packages (from nipype) (8.1.6)\n",
            "Requirement already satisfied: networkx>=2.0 in /usr/local/lib/python3.10/dist-packages (from nipype) (3.1)\n",
            "Requirement already satisfied: nibabel>=2.1.0 in /usr/local/lib/python3.10/dist-packages (from nipype) (4.0.2)\n",
            "Requirement already satisfied: numpy>=1.17 in /usr/local/lib/python3.10/dist-packages (from nipype) (1.23.5)\n",
            "Requirement already satisfied: packaging in /usr/local/lib/python3.10/dist-packages (from nipype) (23.1)\n",
            "Requirement already satisfied: prov>=1.5.2 in /usr/local/lib/python3.10/dist-packages (from nipype) (2.0.0)\n",
            "Requirement already satisfied: pydot>=1.2.3 in /usr/local/lib/python3.10/dist-packages (from nipype) (1.4.2)\n",
            "Requirement already satisfied: python-dateutil>=2.2 in /usr/local/lib/python3.10/dist-packages (from nipype) (2.8.2)\n",
            "Requirement already satisfied: rdflib>=5.0.0 in /usr/local/lib/python3.10/dist-packages (from nipype) (7.0.0)\n",
            "Requirement already satisfied: scipy>=0.14 in /usr/local/lib/python3.10/dist-packages (from nipype) (1.10.1)\n",
            "Requirement already satisfied: simplejson>=3.8.0 in /usr/local/lib/python3.10/dist-packages (from nipype) (3.19.1)\n",
            "Requirement already satisfied: traits!=5.0,<6.4,>=4.6 in /usr/local/lib/python3.10/dist-packages (from nipype) (6.3.2)\n",
            "Requirement already satisfied: filelock>=3.0.0 in /usr/local/lib/python3.10/dist-packages (from nipype) (3.12.2)\n",
            "Requirement already satisfied: etelemetry>=0.2.0 in /usr/local/lib/python3.10/dist-packages (from nipype) (0.3.0)\n",
            "Requirement already satisfied: looseversion in /usr/local/lib/python3.10/dist-packages (from nipype) (1.3.0)\n",
            "Requirement already satisfied: requests in /usr/local/lib/python3.10/dist-packages (from etelemetry>=0.2.0->nipype) (2.31.0)\n",
            "Requirement already satisfied: ci-info>=0.2 in /usr/local/lib/python3.10/dist-packages (from etelemetry>=0.2.0->nipype) (0.3.0)\n",
            "Requirement already satisfied: setuptools in /usr/local/lib/python3.10/dist-packages (from nibabel>=2.1.0->nipype) (67.7.2)\n",
            "Requirement already satisfied: lxml>=3.3.5 in /usr/local/lib/python3.10/dist-packages (from prov>=1.5.2->nipype) (4.9.3)\n",
            "Requirement already satisfied: pyparsing>=2.1.4 in /usr/local/lib/python3.10/dist-packages (from pydot>=1.2.3->nipype) (3.1.1)\n",
            "Requirement already satisfied: six>=1.5 in /usr/local/lib/python3.10/dist-packages (from python-dateutil>=2.2->nipype) (1.16.0)\n",
            "Requirement already satisfied: isodate<0.7.0,>=0.6.0 in /usr/local/lib/python3.10/dist-packages (from rdflib>=5.0.0->nipype) (0.6.1)\n",
            "Requirement already satisfied: charset-normalizer<4,>=2 in /usr/local/lib/python3.10/dist-packages (from requests->etelemetry>=0.2.0->nipype) (3.2.0)\n",
            "Requirement already satisfied: idna<4,>=2.5 in /usr/local/lib/python3.10/dist-packages (from requests->etelemetry>=0.2.0->nipype) (3.4)\n",
            "Requirement already satisfied: urllib3<3,>=1.21.1 in /usr/local/lib/python3.10/dist-packages (from requests->etelemetry>=0.2.0->nipype) (2.0.4)\n",
            "Requirement already satisfied: certifi>=2017.4.17 in /usr/local/lib/python3.10/dist-packages (from requests->etelemetry>=0.2.0->nipype) (2023.7.22)\n"
          ]
        },
        {
          "output_type": "error",
          "ename": "AttributeError",
          "evalue": "ignored",
          "traceback": [
            "\u001b[0;31m---------------------------------------------------------------------------\u001b[0m",
            "\u001b[0;31mAttributeError\u001b[0m                            Traceback (most recent call last)",
            "\u001b[0;32m<ipython-input-9-0d5692054001>\u001b[0m in \u001b[0;36m<cell line: 5>\u001b[0;34m()\u001b[0m\n\u001b[1;32m      3\u001b[0m \u001b[0;32mfrom\u001b[0m \u001b[0mnipype\u001b[0m\u001b[0;34m.\u001b[0m\u001b[0minterfaces\u001b[0m\u001b[0;34m.\u001b[0m\u001b[0mants\u001b[0m \u001b[0;32mimport\u001b[0m \u001b[0mApplyTransforms\u001b[0m\u001b[0;34m\u001b[0m\u001b[0;34m\u001b[0m\u001b[0m\n\u001b[1;32m      4\u001b[0m \u001b[0;34m\u001b[0m\u001b[0m\n\u001b[0;32m----> 5\u001b[0;31m \u001b[0mANTS\u001b[0m\u001b[0;34m.\u001b[0m\u001b[0mApplyTransforms\u001b[0m\u001b[0;34m\u001b[0m\u001b[0;34m\u001b[0m\u001b[0m\n\u001b[0m",
            "\u001b[0;31mAttributeError\u001b[0m: type object 'ANTS' has no attribute 'ApplyTransforms'"
          ]
        }
      ]
    },
    {
      "cell_type": "markdown",
      "source": [
        "Now, I have two options currently, eihter I load the participants data via the 3d image and overlay an atlas manually, or I use predefined labels."
      ],
      "metadata": {
        "id": "nzGFEpf_Sm7D"
      }
    },
    {
      "cell_type": "code",
      "source": [
        "# Directory containing your text files\n",
        "data_directory = \"./data/roi_thickness/\"\n",
        "\n",
        "# Read the participant information from the CSV file\n",
        "csv_file = \"./data/participant_info/participant_info.csv\"\n",
        "participant_info_df = pd.read_csv(csv_file)\n",
        "\n",
        "# Create dictionaries to store data and participant information for autism and non-autism participants\n",
        "data_info_dict_autism = {}\n",
        "data_info_dict_no_autism = {}\n",
        "\n",
        "# Loop through each text file\n",
        "for file_name in os.listdir(data_directory):\n",
        "    # Check if the file is a text file\n",
        "    if file_name.endswith(\"_roi_thickness.txt\"):\n",
        "        # Loop through each SUB_ID in the participant info\n",
        "        for sub_id in participant_info_df['SUB_ID']:\n",
        "            sub_id_str = str(sub_id)  # Convert SUB_ID to string\n",
        "            if sub_id_str in file_name:\n",
        "                # Load the text file using pandas\n",
        "                file_path = os.path.join(data_directory, file_name)\n",
        "                df = pd.read_csv(file_path, sep='\\t', header=None)\n",
        "\n",
        "                # Extract the numerical values from the second row and remove the first entry (file name) and the second entry (sub-brick)\n",
        "                data_vector = df.iloc[1, 2:].values.astype(float)\n",
        "\n",
        "                data_length = len(data_vector)\n",
        "                print(f\"File: {file_name}, Data Length: {data_length}\")\n",
        "\n",
        "                # Find the participant's information based on SUB_ID\n",
        "                participant_row = participant_info_df.loc[participant_info_df['SUB_ID'] == sub_id]\n",
        "                if not participant_row.empty:\n",
        "                    # Extract age and gender from the participant's information\n",
        "                    age = participant_row['AGE_AT_SCAN'].values[0]\n",
        "                    gender = participant_row['SEX'].values[0] - 1\n",
        "                    dx_group = participant_row['DX_GROUP'].values[0]\n",
        "\n",
        "                    # Store the data and participant information in the appropriate dictionary based on DX_GROUP\n",
        "                    if dx_group == 1:\n",
        "                        data_info_dict_autism[sub_id_str] = {\n",
        "                            \"data\": data_vector,\n",
        "                            \"age\": age,\n",
        "                            \"gender\": gender\n",
        "                        }\n",
        "                    elif dx_group == 2:\n",
        "                        data_info_dict_no_autism[sub_id_str] = {\n",
        "                            \"data\": data_vector,\n",
        "                            \"age\": age,\n",
        "                            \"gender\": gender\n",
        "                        }\n",
        "                else:\n",
        "                    print(f\"No participant information found for {sub_id}\")\n"
      ],
      "metadata": {
        "colab": {
          "base_uri": "https://localhost:8080/"
        },
        "id": "vmBh6F8mP8S5",
        "outputId": "ebfcbbf5-36f1-425e-9346-5604e99e537f"
      },
      "execution_count": null,
      "outputs": [
        {
          "output_type": "stream",
          "name": "stdout",
          "text": [
            "File: Yale_0050616_roi_thickness.txt, Data Length: 97\n",
            "File: Pitt_0050002_roi_thickness.txt, Data Length: 97\n",
            "File: Stanford_0051181_roi_thickness.txt, Data Length: 97\n",
            "File: UM_1_0050338_roi_thickness.txt, Data Length: 97\n",
            "File: UCLA_1_0051225_roi_thickness.txt, Data Length: 97\n",
            "File: Trinity_0050271_roi_thickness.txt, Data Length: 97\n",
            "File: CMU_a_0050659_roi_thickness.txt, Data Length: 97\n",
            "File: Caltech_0051475_roi_thickness.txt, Data Length: 97\n",
            "File: NYU_0051084_roi_thickness.txt, Data Length: 97\n",
            "File: OHSU_0050147_roi_thickness.txt, Data Length: 97\n",
            "File: UM_2_0050385_roi_thickness.txt, Data Length: 97\n",
            "File: Yale_0050603_roi_thickness.txt, Data Length: 97\n",
            "File: UM_1_0050364_roi_thickness.txt, Data Length: 97\n",
            "File: MaxMun_c_0051336_roi_thickness.txt, Data Length: 97\n",
            "File: Olin_0050111_roi_thickness.txt, Data Length: 97\n",
            "File: UM_1_0050371_roi_thickness.txt, Data Length: 97\n",
            "File: NYU_0051032_roi_thickness.txt, Data Length: 97\n",
            "File: UCLA_2_0051296_roi_thickness.txt, Data Length: 97\n",
            "File: NYU_0051048_roi_thickness.txt, Data Length: 97\n",
            "File: UCLA_2_0051312_roi_thickness.txt, Data Length: 97\n",
            "File: Caltech_0051471_roi_thickness.txt, Data Length: 97\n",
            "File: MaxMun_c_0051348_roi_thickness.txt, Data Length: 97\n",
            "File: Pitt_0050040_roi_thickness.txt, Data Length: 97\n",
            "File: NYU_0051099_roi_thickness.txt, Data Length: 97\n",
            "File: SDSU_0050205_roi_thickness.txt, Data Length: 97\n",
            "File: UM_1_0050283_roi_thickness.txt, Data Length: 97\n",
            "File: CMU_b_0050644_roi_thickness.txt, Data Length: 97\n",
            "File: UM_1_0050345_roi_thickness.txt, Data Length: 97\n",
            "File: MaxMun_c_0051346_roi_thickness.txt, Data Length: 97\n",
            "File: KKI_0050824_roi_thickness.txt, Data Length: 97\n",
            "File: Caltech_0051490_roi_thickness.txt, Data Length: 97\n",
            "File: UCLA_2_0051311_roi_thickness.txt, Data Length: 97\n",
            "File: NYU_0051110_roi_thickness.txt, Data Length: 97\n",
            "File: NYU_0050982_roi_thickness.txt, Data Length: 97\n",
            "File: NYU_0050987_roi_thickness.txt, Data Length: 97\n",
            "File: UM_1_0050336_roi_thickness.txt, Data Length: 97\n",
            "File: MaxMun_d_0051331_roi_thickness.txt, Data Length: 97\n",
            "File: USM_0050445_roi_thickness.txt, Data Length: 97\n",
            "File: NYU_0050961_roi_thickness.txt, Data Length: 97\n",
            "File: KKI_0050788_roi_thickness.txt, Data Length: 97\n",
            "File: USM_0050472_roi_thickness.txt, Data Length: 97\n",
            "File: NYU_0050969_roi_thickness.txt, Data Length: 97\n",
            "File: NYU_0051065_roi_thickness.txt, Data Length: 97\n",
            "File: NYU_0050981_roi_thickness.txt, Data Length: 97\n",
            "File: USM_0050530_roi_thickness.txt, Data Length: 97\n",
            "File: UCLA_1_0051254_roi_thickness.txt, Data Length: 97\n",
            "File: MaxMun_c_0051342_roi_thickness.txt, Data Length: 97\n",
            "File: USM_0050504_roi_thickness.txt, Data Length: 97\n",
            "File: NYU_0050972_roi_thickness.txt, Data Length: 97\n",
            "File: UM_2_0050403_roi_thickness.txt, Data Length: 97\n",
            "File: UM_1_0050302_roi_thickness.txt, Data Length: 97\n",
            "File: Yale_0050571_roi_thickness.txt, Data Length: 97\n",
            "File: NYU_0050998_roi_thickness.txt, Data Length: 97\n",
            "File: CMU_b_0050645_roi_thickness.txt, Data Length: 97\n",
            "File: UM_1_0050361_roi_thickness.txt, Data Length: 97\n",
            "File: USM_0050442_roi_thickness.txt, Data Length: 97\n",
            "File: NYU_0051077_roi_thickness.txt, Data Length: 97\n",
            "File: MaxMun_c_0051345_roi_thickness.txt, Data Length: 97\n",
            "File: UCLA_2_0051315_roi_thickness.txt, Data Length: 97\n",
            "File: UM_1_0050313_roi_thickness.txt, Data Length: 97\n",
            "File: UM_1_0050277_roi_thickness.txt, Data Length: 97\n",
            "File: Stanford_0051189_roi_thickness.txt, Data Length: 97\n",
            "File: SDSU_0050207_roi_thickness.txt, Data Length: 97\n",
            "File: Leuven_2_0050745_roi_thickness.txt, Data Length: 97\n",
            "File: Yale_0050554_roi_thickness.txt, Data Length: 97\n",
            "File: Yale_0050614_roi_thickness.txt, Data Length: 97\n",
            "File: USM_0050444_roi_thickness.txt, Data Length: 97\n",
            "File: Yale_0050552_roi_thickness.txt, Data Length: 97\n",
            "File: Yale_0050611_roi_thickness.txt, Data Length: 97\n",
            "File: UM_1_0050373_roi_thickness.txt, Data Length: 97\n",
            "File: UM_1_0050339_roi_thickness.txt, Data Length: 97\n",
            "File: Caltech_0051472_roi_thickness.txt, Data Length: 97\n",
            "File: Caltech_0051474_roi_thickness.txt, Data Length: 97\n",
            "File: SDSU_0050185_roi_thickness.txt, Data Length: 97\n",
            "File: UM_1_0050282_roi_thickness.txt, Data Length: 97\n",
            "File: UCLA_1_0051203_roi_thickness.txt, Data Length: 97\n",
            "File: USM_0050516_roi_thickness.txt, Data Length: 97\n",
            "File: MaxMun_b_0051325_roi_thickness.txt, Data Length: 97\n",
            "File: KKI_0050812_roi_thickness.txt, Data Length: 97\n",
            "File: Pitt_0050055_roi_thickness.txt, Data Length: 97\n",
            "File: Yale_0050619_roi_thickness.txt, Data Length: 97\n",
            "File: Pitt_0050039_roi_thickness.txt, Data Length: 97\n",
            "File: NYU_0050983_roi_thickness.txt, Data Length: 97\n",
            "File: NYU_0051149_roi_thickness.txt, Data Length: 97\n",
            "File: MaxMun_c_0051332_roi_thickness.txt, Data Length: 97\n",
            "File: UM_1_0050320_roi_thickness.txt, Data Length: 97\n",
            "File: UM_1_0050309_roi_thickness.txt, Data Length: 97\n",
            "File: Stanford_0051185_roi_thickness.txt, Data Length: 97\n",
            "File: NYU_0051096_roi_thickness.txt, Data Length: 97\n",
            "File: OHSU_0050142_roi_thickness.txt, Data Length: 97\n",
            "File: NYU_0050953_roi_thickness.txt, Data Length: 97\n",
            "File: NYU_0051085_roi_thickness.txt, Data Length: 97\n",
            "File: SDSU_0050211_roi_thickness.txt, Data Length: 97\n",
            "File: Pitt_0050026_roi_thickness.txt, Data Length: 97\n",
            "File: Leuven_2_0050742_roi_thickness.txt, Data Length: 97\n",
            "File: UCLA_2_0051306_roi_thickness.txt, Data Length: 97\n",
            "File: NYU_0051066_roi_thickness.txt, Data Length: 97\n",
            "File: SBL_0051563_roi_thickness.txt, Data Length: 97\n",
            "File: NYU_0051083_roi_thickness.txt, Data Length: 97\n",
            "File: UCLA_1_0051260_roi_thickness.txt, Data Length: 97\n",
            "File: CMU_a_0050649_roi_thickness.txt, Data Length: 97\n",
            "File: CMU_b_0050651_roi_thickness.txt, Data Length: 97\n",
            "File: KKI_0050781_roi_thickness.txt, Data Length: 97\n",
            "File: Leuven_2_0050726_roi_thickness.txt, Data Length: 97\n",
            "File: Yale_0050559_roi_thickness.txt, Data Length: 97\n",
            "File: Leuven_2_0050732_roi_thickness.txt, Data Length: 97\n",
            "File: UM_1_0050301_roi_thickness.txt, Data Length: 97\n",
            "File: UCLA_1_0051238_roi_thickness.txt, Data Length: 97\n",
            "File: NYU_0051113_roi_thickness.txt, Data Length: 97\n",
            "File: NYU_0051146_roi_thickness.txt, Data Length: 97\n",
            "File: MaxMun_a_0051367_roi_thickness.txt, Data Length: 97\n",
            "File: MaxMun_c_0051333_roi_thickness.txt, Data Length: 97\n",
            "File: Yale_0050575_roi_thickness.txt, Data Length: 97\n",
            "File: SBL_0051557_roi_thickness.txt, Data Length: 97\n",
            "File: UM_1_0050285_roi_thickness.txt, Data Length: 97\n",
            "File: SBL_0051581_roi_thickness.txt, Data Length: 97\n",
            "File: Stanford_0051178_roi_thickness.txt, Data Length: 97\n",
            "File: Olin_0050113_roi_thickness.txt, Data Length: 97\n",
            "File: Caltech_0051485_roi_thickness.txt, Data Length: 97\n",
            "File: Caltech_0051464_roi_thickness.txt, Data Length: 97\n",
            "File: Pitt_0050027_roi_thickness.txt, Data Length: 97\n",
            "File: Caltech_0051467_roi_thickness.txt, Data Length: 97\n",
            "File: Pitt_0050035_roi_thickness.txt, Data Length: 97\n",
            "File: UM_2_0050415_roi_thickness.txt, Data Length: 97\n",
            "File: Pitt_0050051_roi_thickness.txt, Data Length: 97\n",
            "File: UM_1_0050319_roi_thickness.txt, Data Length: 97\n",
            "File: NYU_0050967_roi_thickness.txt, Data Length: 97\n",
            "File: Leuven_1_0050702_roi_thickness.txt, Data Length: 97\n",
            "File: Leuven_2_0050741_roi_thickness.txt, Data Length: 97\n",
            "File: NYU_0050976_roi_thickness.txt, Data Length: 97\n",
            "File: NYU_0051069_roi_thickness.txt, Data Length: 97\n",
            "File: Leuven_1_0050700_roi_thickness.txt, Data Length: 97\n",
            "File: Yale_0050566_roi_thickness.txt, Data Length: 97\n",
            "File: Trinity_0051135_roi_thickness.txt, Data Length: 97\n",
            "File: Pitt_0050048_roi_thickness.txt, Data Length: 97\n",
            "File: Stanford_0051167_roi_thickness.txt, Data Length: 97\n",
            "File: NYU_0050977_roi_thickness.txt, Data Length: 97\n",
            "File: NYU_0050971_roi_thickness.txt, Data Length: 97\n",
            "File: Stanford_0051186_roi_thickness.txt, Data Length: 97\n",
            "File: Caltech_0051489_roi_thickness.txt, Data Length: 97\n",
            "File: NYU_0051097_roi_thickness.txt, Data Length: 97\n",
            "File: Yale_0050578_roi_thickness.txt, Data Length: 97\n",
            "File: Olin_0050104_roi_thickness.txt, Data Length: 97\n",
            "File: Stanford_0051195_roi_thickness.txt, Data Length: 97\n",
            "File: Caltech_0051466_roi_thickness.txt, Data Length: 97\n",
            "File: USM_0050454_roi_thickness.txt, Data Length: 97\n",
            "File: Yale_0050551_roi_thickness.txt, Data Length: 97\n",
            "File: UM_1_0050351_roi_thickness.txt, Data Length: 97\n",
            "File: KKI_0050789_roi_thickness.txt, Data Length: 97\n",
            "File: KKI_0050786_roi_thickness.txt, Data Length: 97\n",
            "File: KKI_0050778_roi_thickness.txt, Data Length: 97\n",
            "File: SBL_0051556_roi_thickness.txt, Data Length: 97\n",
            "File: Yale_0050558_roi_thickness.txt, Data Length: 97\n",
            "File: Yale_0050620_roi_thickness.txt, Data Length: 97\n",
            "File: MaxMun_d_0051361_roi_thickness.txt, Data Length: 97\n",
            "File: USM_0050470_roi_thickness.txt, Data Length: 97\n",
            "File: NYU_0051050_roi_thickness.txt, Data Length: 97\n",
            "File: NYU_0051064_roi_thickness.txt, Data Length: 97\n",
            "File: OHSU_0050168_roi_thickness.txt, Data Length: 97\n",
            "File: KKI_0050798_roi_thickness.txt, Data Length: 97\n",
            "File: NYU_0051147_roi_thickness.txt, Data Length: 97\n",
            "File: NYU_0051125_roi_thickness.txt, Data Length: 97\n",
            "File: USM_0050463_roi_thickness.txt, Data Length: 97\n",
            "File: Caltech_0051492_roi_thickness.txt, Data Length: 97\n",
            "File: CMU_b_0050669_roi_thickness.txt, Data Length: 97\n",
            "File: USM_0050513_roi_thickness.txt, Data Length: 97\n",
            "File: MaxMun_d_0051329_roi_thickness.txt, Data Length: 97\n",
            "File: Pitt_0050019_roi_thickness.txt, Data Length: 97\n",
            "File: NYU_0050954_roi_thickness.txt, Data Length: 97\n",
            "File: UM_1_0050276_roi_thickness.txt, Data Length: 97\n",
            "File: UM_1_0050314_roi_thickness.txt, Data Length: 97\n",
            "File: Yale_0050602_roi_thickness.txt, Data Length: 97\n",
            "File: USM_0050451_roi_thickness.txt, Data Length: 97\n",
            "File: SDSU_0050189_roi_thickness.txt, Data Length: 97\n",
            "File: UCLA_1_0051264_roi_thickness.txt, Data Length: 97\n",
            "File: MaxMun_d_0051353_roi_thickness.txt, Data Length: 97\n",
            "File: OHSU_0050170_roi_thickness.txt, Data Length: 97\n",
            "File: USM_0050487_roi_thickness.txt, Data Length: 97\n",
            "File: UCLA_1_0051282_roi_thickness.txt, Data Length: 97\n",
            "File: UCLA_1_0051218_roi_thickness.txt, Data Length: 97\n",
            "File: CMU_b_0050655_roi_thickness.txt, Data Length: 97\n",
            "File: KKI_0050806_roi_thickness.txt, Data Length: 97\n",
            "File: UCLA_2_0051293_roi_thickness.txt, Data Length: 97\n",
            "File: KKI_0050773_roi_thickness.txt, Data Length: 97\n",
            "File: KKI_0050785_roi_thickness.txt, Data Length: 97\n",
            "File: NYU_0050974_roi_thickness.txt, Data Length: 97\n",
            "File: USM_0050475_roi_thickness.txt, Data Length: 97\n",
            "File: Olin_0050137_roi_thickness.txt, Data Length: 97\n",
            "File: UCLA_2_0051297_roi_thickness.txt, Data Length: 97\n",
            "File: Trinity_0050232_roi_thickness.txt, Data Length: 97\n",
            "File: Trinity_0050259_roi_thickness.txt, Data Length: 97\n",
            "File: NYU_0051074_roi_thickness.txt, Data Length: 97\n",
            "File: CMU_a_0050653_roi_thickness.txt, Data Length: 97\n",
            "File: KKI_0050784_roi_thickness.txt, Data Length: 97\n",
            "File: Leuven_2_0050750_roi_thickness.txt, Data Length: 97\n",
            "File: USM_0050438_roi_thickness.txt, Data Length: 97\n",
            "File: UM_1_0050297_roi_thickness.txt, Data Length: 97\n",
            "File: USM_0050460_roi_thickness.txt, Data Length: 97\n",
            "File: MaxMun_a_0051369_roi_thickness.txt, Data Length: 97\n",
            "File: KKI_0050790_roi_thickness.txt, Data Length: 97\n",
            "File: UCLA_1_0051272_roi_thickness.txt, Data Length: 97\n",
            "File: MaxMun_d_0051352_roi_thickness.txt, Data Length: 97\n",
            "File: CMU_a_0050666_roi_thickness.txt, Data Length: 97\n",
            "File: UM_2_0050410_roi_thickness.txt, Data Length: 97\n",
            "File: UCLA_1_0051209_roi_thickness.txt, Data Length: 97\n",
            "File: NYU_0051051_roi_thickness.txt, Data Length: 97\n",
            "File: NYU_0051072_roi_thickness.txt, Data Length: 97\n",
            "File: USM_0050518_roi_thickness.txt, Data Length: 97\n",
            "File: OHSU_0050146_roi_thickness.txt, Data Length: 97\n",
            "File: UCLA_1_0051257_roi_thickness.txt, Data Length: 97\n",
            "File: NYU_0051039_roi_thickness.txt, Data Length: 97\n",
            "File: SDSU_0050197_roi_thickness.txt, Data Length: 97\n",
            "File: CMU_b_0050657_roi_thickness.txt, Data Length: 97\n",
            "File: MaxMun_a_0051373_roi_thickness.txt, Data Length: 97\n",
            "File: UCLA_2_0051304_roi_thickness.txt, Data Length: 97\n",
            "File: Stanford_0051182_roi_thickness.txt, Data Length: 97\n",
            "File: NYU_0051067_roi_thickness.txt, Data Length: 97\n",
            "File: Yale_0050612_roi_thickness.txt, Data Length: 97\n",
            "File: OHSU_0050163_roi_thickness.txt, Data Length: 97\n",
            "File: NYU_0051062_roi_thickness.txt, Data Length: 97\n",
            "File: OHSU_0050160_roi_thickness.txt, Data Length: 97\n",
            "File: Leuven_2_0050736_roi_thickness.txt, Data Length: 97\n",
            "File: SBL_0051579_roi_thickness.txt, Data Length: 97\n",
            "File: UM_1_0050303_roi_thickness.txt, Data Length: 97\n",
            "File: NYU_0050980_roi_thickness.txt, Data Length: 97\n",
            "File: USM_0050469_roi_thickness.txt, Data Length: 97\n",
            "File: USM_0050508_roi_thickness.txt, Data Length: 97\n",
            "File: KKI_0050823_roi_thickness.txt, Data Length: 97\n",
            "File: USM_0050464_roi_thickness.txt, Data Length: 97\n",
            "File: UCLA_1_0051281_roi_thickness.txt, Data Length: 97\n",
            "File: UCLA_1_0051214_roi_thickness.txt, Data Length: 97\n",
            "File: UM_1_0050291_roi_thickness.txt, Data Length: 97\n",
            "File: NYU_0051029_roi_thickness.txt, Data Length: 97\n",
            "File: USM_0050512_roi_thickness.txt, Data Length: 97\n",
            "File: Leuven_1_0050698_roi_thickness.txt, Data Length: 97\n",
            "File: MaxMun_d_0051350_roi_thickness.txt, Data Length: 97\n",
            "File: UM_2_0050418_roi_thickness.txt, Data Length: 97\n",
            "File: UM_2_0050427_roi_thickness.txt, Data Length: 97\n",
            "File: Caltech_0051483_roi_thickness.txt, Data Length: 97\n",
            "File: NYU_0051119_roi_thickness.txt, Data Length: 97\n",
            "File: UM_2_0050414_roi_thickness.txt, Data Length: 97\n",
            "File: Caltech_0051480_roi_thickness.txt, Data Length: 97\n",
            "File: KKI_0050805_roi_thickness.txt, Data Length: 97\n",
            "File: USM_0050458_roi_thickness.txt, Data Length: 97\n",
            "File: USM_0050503_roi_thickness.txt, Data Length: 97\n",
            "File: NYU_0051102_roi_thickness.txt, Data Length: 97\n",
            "File: USM_0050490_roi_thickness.txt, Data Length: 97\n",
            "File: Olin_0050132_roi_thickness.txt, Data Length: 97\n",
            "File: Yale_0050613_roi_thickness.txt, Data Length: 97\n",
            "File: UM_1_0050311_roi_thickness.txt, Data Length: 97\n",
            "File: CMU_b_0050648_roi_thickness.txt, Data Length: 97\n",
            "File: Olin_0050118_roi_thickness.txt, Data Length: 97\n",
            "File: KKI_0050819_roi_thickness.txt, Data Length: 97\n",
            "File: UCLA_2_0051309_roi_thickness.txt, Data Length: 97\n",
            "File: NYU_0051152_roi_thickness.txt, Data Length: 97\n",
            "File: UM_1_0050347_roi_thickness.txt, Data Length: 97\n",
            "File: Yale_0050623_roi_thickness.txt, Data Length: 97\n",
            "File: SDSU_0050195_roi_thickness.txt, Data Length: 97\n",
            "File: KKI_0050804_roi_thickness.txt, Data Length: 97\n",
            "File: UCLA_1_0051204_roi_thickness.txt, Data Length: 97\n",
            "File: NYU_0051052_roi_thickness.txt, Data Length: 97\n",
            "File: Olin_0050106_roi_thickness.txt, Data Length: 97\n",
            "File: UM_1_0050273_roi_thickness.txt, Data Length: 97\n",
            "File: Caltech_0051482_roi_thickness.txt, Data Length: 97\n",
            "File: NYU_0051063_roi_thickness.txt, Data Length: 97\n",
            "File: UM_1_0050274_roi_thickness.txt, Data Length: 97\n",
            "File: Pitt_0050031_roi_thickness.txt, Data Length: 97\n",
            "File: Pitt_0050038_roi_thickness.txt, Data Length: 97\n",
            "File: Stanford_0051191_roi_thickness.txt, Data Length: 97\n",
            "File: UM_1_0050335_roi_thickness.txt, Data Length: 97\n",
            "File: Leuven_2_0050731_roi_thickness.txt, Data Length: 97\n",
            "File: Olin_0050102_roi_thickness.txt, Data Length: 97\n",
            "File: NYU_0050979_roi_thickness.txt, Data Length: 97\n",
            "File: NYU_0050966_roi_thickness.txt, Data Length: 97\n",
            "File: Leuven_2_0050748_roi_thickness.txt, Data Length: 97\n",
            "File: UM_2_0050387_roi_thickness.txt, Data Length: 97\n",
            "File: UCLA_1_0051222_roi_thickness.txt, Data Length: 97\n",
            "File: UM_2_0050411_roi_thickness.txt, Data Length: 97\n",
            "File: NYU_0050955_roi_thickness.txt, Data Length: 97\n",
            "File: SBL_0051561_roi_thickness.txt, Data Length: 97\n",
            "File: USM_0050514_roi_thickness.txt, Data Length: 97\n",
            "File: UM_1_0050289_roi_thickness.txt, Data Length: 97\n",
            "File: Stanford_0051188_roi_thickness.txt, Data Length: 97\n",
            "File: OHSU_0050169_roi_thickness.txt, Data Length: 97\n",
            "File: NYU_0051081_roi_thickness.txt, Data Length: 97\n",
            "File: Trinity_0050251_roi_thickness.txt, Data Length: 97\n",
            "File: NYU_0050985_roi_thickness.txt, Data Length: 97\n",
            "File: Trinity_0050269_roi_thickness.txt, Data Length: 97\n",
            "File: NYU_0051116_roi_thickness.txt, Data Length: 97\n",
            "File: SDSU_0050186_roi_thickness.txt, Data Length: 97\n",
            "File: OHSU_0050156_roi_thickness.txt, Data Length: 97\n",
            "File: MaxMun_d_0051359_roi_thickness.txt, Data Length: 97\n",
            "File: Trinity_0050247_roi_thickness.txt, Data Length: 97\n",
            "File: Pitt_0050054_roi_thickness.txt, Data Length: 97\n",
            "File: SBL_0051585_roi_thickness.txt, Data Length: 97\n",
            "File: UCLA_1_0051236_roi_thickness.txt, Data Length: 97\n",
            "File: Trinity_0050268_roi_thickness.txt, Data Length: 97\n",
            "File: UM_1_0050356_roi_thickness.txt, Data Length: 97\n",
            "File: KKI_0050811_roi_thickness.txt, Data Length: 97\n",
            "File: USM_0050437_roi_thickness.txt, Data Length: 97\n",
            "File: Caltech_0051491_roi_thickness.txt, Data Length: 97\n",
            "File: OHSU_0050161_roi_thickness.txt, Data Length: 97\n",
            "File: UCLA_1_0051237_roi_thickness.txt, Data Length: 97\n",
            "File: NYU_0050988_roi_thickness.txt, Data Length: 97\n",
            "File: SDSU_0050184_roi_thickness.txt, Data Length: 97\n",
            "File: NYU_0051129_roi_thickness.txt, Data Length: 97\n",
            "File: Pitt_0050013_roi_thickness.txt, Data Length: 97\n",
            "File: Yale_0050564_roi_thickness.txt, Data Length: 97\n",
            "File: Trinity_0050234_roi_thickness.txt, Data Length: 97\n",
            "File: UCLA_1_0051263_roi_thickness.txt, Data Length: 97\n",
            "File: UM_1_0050368_roi_thickness.txt, Data Length: 97\n",
            "File: UM_2_0050426_roi_thickness.txt, Data Length: 97\n",
            "File: SBL_0051577_roi_thickness.txt, Data Length: 97\n",
            "File: NYU_0051103_roi_thickness.txt, Data Length: 97\n",
            "File: Caltech_0051461_roi_thickness.txt, Data Length: 97\n",
            "File: MaxMun_a_0051371_roi_thickness.txt, Data Length: 97\n",
            "File: USM_0050432_roi_thickness.txt, Data Length: 97\n",
            "File: Leuven_1_0050699_roi_thickness.txt, Data Length: 97\n",
            "File: Pitt_0050020_roi_thickness.txt, Data Length: 97\n",
            "File: USM_0050510_roi_thickness.txt, Data Length: 97\n",
            "File: UCLA_1_0051224_roi_thickness.txt, Data Length: 97\n",
            "File: Trinity_0050246_roi_thickness.txt, Data Length: 97\n",
            "File: Stanford_0051180_roi_thickness.txt, Data Length: 97\n",
            "File: NYU_0051030_roi_thickness.txt, Data Length: 97\n",
            "File: UCLA_1_0051262_roi_thickness.txt, Data Length: 97\n",
            "File: UM_2_0050423_roi_thickness.txt, Data Length: 97\n",
            "File: UCLA_1_0051235_roi_thickness.txt, Data Length: 97\n",
            "File: UM_2_0050408_roi_thickness.txt, Data Length: 97\n",
            "File: Olin_0050127_roi_thickness.txt, Data Length: 97\n",
            "File: UM_2_0050388_roi_thickness.txt, Data Length: 97\n",
            "File: UCLA_1_0051230_roi_thickness.txt, Data Length: 97\n",
            "File: Pitt_0050043_roi_thickness.txt, Data Length: 97\n",
            "File: UM_1_0050326_roi_thickness.txt, Data Length: 97\n",
            "File: Yale_0050553_roi_thickness.txt, Data Length: 97\n",
            "File: UCLA_2_0051295_roi_thickness.txt, Data Length: 97\n",
            "File: Leuven_1_0050687_roi_thickness.txt, Data Length: 97\n",
            "File: NYU_0051028_roi_thickness.txt, Data Length: 97\n",
            "File: Leuven_2_0050738_roi_thickness.txt, Data Length: 97\n",
            "File: UM_1_0050348_roi_thickness.txt, Data Length: 97\n",
            "File: Pitt_0050046_roi_thickness.txt, Data Length: 97\n",
            "File: USM_0050474_roi_thickness.txt, Data Length: 97\n",
            "File: MaxMun_a_0051606_roi_thickness.txt, Data Length: 97\n",
            "File: NYU_0051093_roi_thickness.txt, Data Length: 97\n",
            "File: USM_0050461_roi_thickness.txt, Data Length: 97\n",
            "File: SDSU_0050212_roi_thickness.txt, Data Length: 97\n",
            "File: SBL_0051562_roi_thickness.txt, Data Length: 97\n",
            "File: NYU_0051153_roi_thickness.txt, Data Length: 97\n",
            "File: UM_1_0050366_roi_thickness.txt, Data Length: 97\n",
            "File: Yale_0050563_roi_thickness.txt, Data Length: 97\n",
            "File: NYU_0051055_roi_thickness.txt, Data Length: 97\n",
            "File: UM_2_0050391_roi_thickness.txt, Data Length: 97\n",
            "File: NYU_0051120_roi_thickness.txt, Data Length: 97\n",
            "File: MaxMun_d_0051358_roi_thickness.txt, Data Length: 97\n",
            "File: USM_0050449_roi_thickness.txt, Data Length: 97\n",
            "File: USM_0050524_roi_thickness.txt, Data Length: 97\n",
            "File: USM_0050491_roi_thickness.txt, Data Length: 97\n",
            "File: USM_0050495_roi_thickness.txt, Data Length: 97\n",
            "File: Yale_0050574_roi_thickness.txt, Data Length: 97\n",
            "File: MaxMun_a_0051320_roi_thickness.txt, Data Length: 97\n",
            "File: MaxMun_c_0051338_roi_thickness.txt, Data Length: 97\n",
            "File: UM_2_0050399_roi_thickness.txt, Data Length: 97\n",
            "File: USM_0050476_roi_thickness.txt, Data Length: 97\n",
            "File: SBL_0051567_roi_thickness.txt, Data Length: 97\n",
            "File: NYU_0051104_roi_thickness.txt, Data Length: 97\n",
            "File: Yale_0050577_roi_thickness.txt, Data Length: 97\n",
            "File: USM_0050455_roi_thickness.txt, Data Length: 97\n",
            "File: KKI_0050802_roi_thickness.txt, Data Length: 97\n",
            "File: Trinity_0050264_roi_thickness.txt, Data Length: 97\n",
            "File: Olin_0050130_roi_thickness.txt, Data Length: 97\n",
            "File: Olin_0050105_roi_thickness.txt, Data Length: 97\n",
            "File: USM_0050488_roi_thickness.txt, Data Length: 97\n",
            "File: NYU_0051053_roi_thickness.txt, Data Length: 97\n",
            "File: OHSU_0050149_roi_thickness.txt, Data Length: 97\n",
            "File: UM_1_0050293_roi_thickness.txt, Data Length: 97\n",
            "File: NYU_0051076_roi_thickness.txt, Data Length: 97\n",
            "File: USM_0050482_roi_thickness.txt, Data Length: 97\n",
            "File: Caltech_0051470_roi_thickness.txt, Data Length: 97\n",
            "File: UM_1_0050298_roi_thickness.txt, Data Length: 97\n",
            "File: UCLA_1_0051259_roi_thickness.txt, Data Length: 97\n",
            "File: KKI_0050792_roi_thickness.txt, Data Length: 97\n",
            "File: Caltech_0051465_roi_thickness.txt, Data Length: 97\n",
            "File: Leuven_2_0050756_roi_thickness.txt, Data Length: 97\n",
            "File: Trinity_0050261_roi_thickness.txt, Data Length: 97\n",
            "File: Leuven_2_0050735_roi_thickness.txt, Data Length: 97\n",
            "File: USM_0050521_roi_thickness.txt, Data Length: 97\n",
            "File: MaxMun_a_0051368_roi_thickness.txt, Data Length: 97\n",
            "File: NYU_0051115_roi_thickness.txt, Data Length: 97\n",
            "File: Trinity_0050236_roi_thickness.txt, Data Length: 97\n",
            "File: UM_2_0050383_roi_thickness.txt, Data Length: 97\n",
            "File: Yale_0050569_roi_thickness.txt, Data Length: 97\n",
            "File: USM_0050496_roi_thickness.txt, Data Length: 97\n",
            "File: KKI_0050800_roi_thickness.txt, Data Length: 97\n",
            "File: UM_1_0050337_roi_thickness.txt, Data Length: 97\n",
            "File: Trinity_0050244_roi_thickness.txt, Data Length: 97\n",
            "File: UM_2_0050421_roi_thickness.txt, Data Length: 97\n",
            "File: Pitt_0050056_roi_thickness.txt, Data Length: 97\n",
            "File: MaxMun_c_0051343_roi_thickness.txt, Data Length: 97\n",
            "File: NYU_0051008_roi_thickness.txt, Data Length: 97\n",
            "File: NYU_0050968_roi_thickness.txt, Data Length: 97\n",
            "File: UM_1_0050367_roi_thickness.txt, Data Length: 97\n",
            "File: NYU_0051075_roi_thickness.txt, Data Length: 97\n",
            "File: KKI_0050816_roi_thickness.txt, Data Length: 97\n",
            "File: SDSU_0050198_roi_thickness.txt, Data Length: 97\n",
            "File: Trinity_0050254_roi_thickness.txt, Data Length: 97\n",
            "File: NYU_0051042_roi_thickness.txt, Data Length: 97\n",
            "File: NYU_0051088_roi_thickness.txt, Data Length: 97\n",
            "File: NYU_0051054_roi_thickness.txt, Data Length: 97\n",
            "File: Stanford_0051183_roi_thickness.txt, Data Length: 97\n",
            "File: UM_1_0050306_roi_thickness.txt, Data Length: 97\n",
            "File: NYU_0051070_roi_thickness.txt, Data Length: 97\n",
            "File: UM_2_0050419_roi_thickness.txt, Data Length: 97\n",
            "File: NYU_0051071_roi_thickness.txt, Data Length: 97\n",
            "File: Stanford_0051163_roi_thickness.txt, Data Length: 97\n",
            "File: Stanford_0051199_roi_thickness.txt, Data Length: 97\n",
            "File: UM_1_0050278_roi_thickness.txt, Data Length: 97\n",
            "File: Olin_0050125_roi_thickness.txt, Data Length: 97\n",
            "File: SDSU_0050201_roi_thickness.txt, Data Length: 97\n",
            "File: Pitt_0050050_roi_thickness.txt, Data Length: 97\n",
            "File: CMU_a_0050663_roi_thickness.txt, Data Length: 97\n",
            "File: KKI_0050817_roi_thickness.txt, Data Length: 97\n",
            "File: UCLA_1_0051256_roi_thickness.txt, Data Length: 97\n",
            "File: Trinity_0050267_roi_thickness.txt, Data Length: 97\n",
            "File: Olin_0050110_roi_thickness.txt, Data Length: 97\n",
            "File: USM_0050506_roi_thickness.txt, Data Length: 97\n",
            "File: MaxMun_a_0051366_roi_thickness.txt, Data Length: 97\n",
            "File: SDSU_0050217_roi_thickness.txt, Data Length: 97\n",
            "File: NYU_0051059_roi_thickness.txt, Data Length: 97\n",
            "File: NYU_0051023_roi_thickness.txt, Data Length: 97\n",
            "File: UCLA_1_0051276_roi_thickness.txt, Data Length: 97\n",
            "File: UCLA_1_0051207_roi_thickness.txt, Data Length: 97\n",
            "File: SBL_0051584_roi_thickness.txt, Data Length: 97\n",
            "File: Pitt_0050003_roi_thickness.txt, Data Length: 97\n",
            "File: NYU_0051098_roi_thickness.txt, Data Length: 97\n",
            "File: USM_0050484_roi_thickness.txt, Data Length: 97\n",
            "File: KKI_0050797_roi_thickness.txt, Data Length: 97\n",
            "File: Leuven_2_0050728_roi_thickness.txt, Data Length: 97\n",
            "File: UM_1_0050286_roi_thickness.txt, Data Length: 97\n",
            "File: NYU_0051123_roi_thickness.txt, Data Length: 97\n",
            "File: UCLA_1_0051239_roi_thickness.txt, Data Length: 97\n",
            "File: Caltech_0051460_roi_thickness.txt, Data Length: 97\n",
            "File: UM_1_0050292_roi_thickness.txt, Data Length: 97\n",
            "File: UM_1_0050325_roi_thickness.txt, Data Length: 97\n",
            "File: Trinity_0050270_roi_thickness.txt, Data Length: 97\n",
            "File: UCLA_1_0051221_roi_thickness.txt, Data Length: 97\n",
            "File: UM_1_0050357_roi_thickness.txt, Data Length: 97\n",
            "File: UM_1_0050322_roi_thickness.txt, Data Length: 97\n",
            "File: UM_2_0050425_roi_thickness.txt, Data Length: 97\n",
            "File: NYU_0050964_roi_thickness.txt, Data Length: 97\n",
            "File: KKI_0050820_roi_thickness.txt, Data Length: 97\n",
            "File: UM_1_0050294_roi_thickness.txt, Data Length: 97\n",
            "File: CMU_b_0050650_roi_thickness.txt, Data Length: 97\n",
            "File: NYU_0051034_roi_thickness.txt, Data Length: 97\n",
            "File: Trinity_0051142_roi_thickness.txt, Data Length: 97\n",
            "File: UCLA_1_0051267_roi_thickness.txt, Data Length: 97\n",
            "File: UM_1_0050353_roi_thickness.txt, Data Length: 97\n",
            "File: Pitt_0050005_roi_thickness.txt, Data Length: 97\n",
            "File: NYU_0051057_roi_thickness.txt, Data Length: 97\n",
            "File: NYU_0051091_roi_thickness.txt, Data Length: 97\n",
            "File: UM_1_0050304_roi_thickness.txt, Data Length: 97\n",
            "File: UCLA_2_0051313_roi_thickness.txt, Data Length: 97\n",
            "File: Pitt_0050006_roi_thickness.txt, Data Length: 97\n",
            "File: UM_1_0050370_roi_thickness.txt, Data Length: 97\n",
            "File: CMU_a_0050656_roi_thickness.txt, Data Length: 97\n",
            "File: NYU_0051090_roi_thickness.txt, Data Length: 97\n",
            "File: UM_2_0050422_roi_thickness.txt, Data Length: 97\n",
            "File: KKI_0050774_roi_thickness.txt, Data Length: 97\n",
            "File: KKI_0050772_roi_thickness.txt, Data Length: 97\n",
            "File: UM_1_0050354_roi_thickness.txt, Data Length: 97\n",
            "File: Trinity_0050238_roi_thickness.txt, Data Length: 97\n",
            "File: Pitt_0050029_roi_thickness.txt, Data Length: 97\n",
            "File: NYU_0050995_roi_thickness.txt, Data Length: 97\n",
            "File: USM_0050448_roi_thickness.txt, Data Length: 97\n",
            "File: Leuven_1_0050711_roi_thickness.txt, Data Length: 97\n",
            "File: SBL_0051582_roi_thickness.txt, Data Length: 97\n",
            "File: UCLA_1_0051248_roi_thickness.txt, Data Length: 97\n",
            "File: Pitt_0050053_roi_thickness.txt, Data Length: 97\n",
            "File: USM_0050471_roi_thickness.txt, Data Length: 97\n",
            "File: Caltech_0051481_roi_thickness.txt, Data Length: 97\n",
            "File: UM_2_0050416_roi_thickness.txt, Data Length: 97\n",
            "File: Stanford_0051179_roi_thickness.txt, Data Length: 97\n",
            "File: UCLA_1_0051278_roi_thickness.txt, Data Length: 97\n",
            "File: NYU_0051089_roi_thickness.txt, Data Length: 97\n",
            "File: UCLA_2_0051316_roi_thickness.txt, Data Length: 97\n",
            "File: USM_0050500_roi_thickness.txt, Data Length: 97\n",
            "File: NYU_0051106_roi_thickness.txt, Data Length: 97\n",
            "File: KKI_0050826_roi_thickness.txt, Data Length: 97\n",
            "File: USM_0050466_roi_thickness.txt, Data Length: 97\n",
            "File: NYU_0051114_roi_thickness.txt, Data Length: 97\n",
            "File: Olin_0050119_roi_thickness.txt, Data Length: 97\n",
            "File: UM_1_0050344_roi_thickness.txt, Data Length: 97\n",
            "File: Pitt_0050057_roi_thickness.txt, Data Length: 97\n",
            "File: KKI_0050780_roi_thickness.txt, Data Length: 97\n",
            "File: NYU_0050984_roi_thickness.txt, Data Length: 97\n",
            "File: SDSU_0050215_roi_thickness.txt, Data Length: 97\n",
            "File: NYU_0051118_roi_thickness.txt, Data Length: 97\n",
            "File: Leuven_1_0050703_roi_thickness.txt, Data Length: 97\n",
            "File: USM_0050462_roi_thickness.txt, Data Length: 97\n",
            "File: UCLA_1_0051266_roi_thickness.txt, Data Length: 97\n",
            "File: USM_0050523_roi_thickness.txt, Data Length: 97\n",
            "File: NYU_0051018_roi_thickness.txt, Data Length: 97\n",
            "File: CMU_a_0050660_roi_thickness.txt, Data Length: 97\n",
            "File: SBL_0051569_roi_thickness.txt, Data Length: 97\n",
            "File: NYU_0051020_roi_thickness.txt, Data Length: 97\n",
            "File: UM_1_0050381_roi_thickness.txt, Data Length: 97\n",
            "File: UM_1_0050352_roi_thickness.txt, Data Length: 97\n",
            "File: UCLA_1_0051271_roi_thickness.txt, Data Length: 97\n",
            "File: KKI_0050813_roi_thickness.txt, Data Length: 97\n",
            "File: NYU_0051060_roi_thickness.txt, Data Length: 97\n",
            "File: KKI_0050794_roi_thickness.txt, Data Length: 97\n",
            "File: USM_0050436_roi_thickness.txt, Data Length: 97\n",
            "File: UM_2_0050397_roi_thickness.txt, Data Length: 97\n",
            "File: UM_2_0050402_roi_thickness.txt, Data Length: 97\n",
            "File: UM_1_0050333_roi_thickness.txt, Data Length: 97\n",
            "File: USM_0050439_roi_thickness.txt, Data Length: 97\n",
            "File: Leuven_1_0050701_roi_thickness.txt, Data Length: 97\n",
            "File: MaxMun_c_0051334_roi_thickness.txt, Data Length: 97\n",
            "File: Trinity_0050242_roi_thickness.txt, Data Length: 97\n",
            "File: Olin_0050123_roi_thickness.txt, Data Length: 97\n",
            "File: UCLA_1_0051228_roi_thickness.txt, Data Length: 97\n",
            "File: UCLA_1_0051280_roi_thickness.txt, Data Length: 97\n",
            "File: UM_2_0050412_roi_thickness.txt, Data Length: 97\n",
            "File: Trinity_0051133_roi_thickness.txt, Data Length: 97\n",
            "File: NYU_0051058_roi_thickness.txt, Data Length: 97\n",
            "File: Yale_0050609_roi_thickness.txt, Data Length: 97\n",
            "File: NYU_0051151_roi_thickness.txt, Data Length: 97\n",
            "File: Leuven_1_0050695_roi_thickness.txt, Data Length: 97\n",
            "File: SBL_0051558_roi_thickness.txt, Data Length: 97\n",
            "File: USM_0050515_roi_thickness.txt, Data Length: 97\n",
            "File: Stanford_0051171_roi_thickness.txt, Data Length: 97\n",
            "File: CMU_b_0050658_roi_thickness.txt, Data Length: 97\n",
            "File: UM_1_0050372_roi_thickness.txt, Data Length: 97\n",
            "File: UM_1_0050284_roi_thickness.txt, Data Length: 97\n",
            "File: UM_1_0050359_roi_thickness.txt, Data Length: 97\n",
            "File: Pitt_0050045_roi_thickness.txt, Data Length: 97\n",
            "File: Caltech_0051479_roi_thickness.txt, Data Length: 97\n",
            "File: Leuven_2_0050751_roi_thickness.txt, Data Length: 97\n",
            "File: SBL_0051564_roi_thickness.txt, Data Length: 97\n",
            "File: USM_0050456_roi_thickness.txt, Data Length: 97\n",
            "File: MaxMun_c_0051339_roi_thickness.txt, Data Length: 97\n",
            "File: NYU_0051019_roi_thickness.txt, Data Length: 97\n",
            "File: Yale_0050605_roi_thickness.txt, Data Length: 97\n",
            "File: Stanford_0051184_roi_thickness.txt, Data Length: 97\n",
            "File: USM_0050509_roi_thickness.txt, Data Length: 97\n",
            "File: SDSU_0050202_roi_thickness.txt, Data Length: 97\n",
            "File: UM_1_0050331_roi_thickness.txt, Data Length: 97\n",
            "File: UM_1_0050312_roi_thickness.txt, Data Length: 97\n",
            "File: MaxMun_c_0051328_roi_thickness.txt, Data Length: 97\n",
            "File: Trinity_0050248_roi_thickness.txt, Data Length: 97\n",
            "File: USM_0050443_roi_thickness.txt, Data Length: 97\n",
            "File: USM_0050520_roi_thickness.txt, Data Length: 97\n",
            "File: NYU_0051148_roi_thickness.txt, Data Length: 97\n",
            "File: Trinity_0050241_roi_thickness.txt, Data Length: 97\n",
            "File: UM_1_0050316_roi_thickness.txt, Data Length: 97\n",
            "File: NYU_0050962_roi_thickness.txt, Data Length: 97\n",
            "File: NYU_0051117_roi_thickness.txt, Data Length: 97\n",
            "File: Caltech_0051462_roi_thickness.txt, Data Length: 97\n",
            "File: Yale_0050556_roi_thickness.txt, Data Length: 97\n",
            "File: NYU_0051011_roi_thickness.txt, Data Length: 97\n",
            "File: MaxMun_a_0051318_roi_thickness.txt, Data Length: 97\n",
            "File: NYU_0051047_roi_thickness.txt, Data Length: 97\n",
            "File: USM_0050486_roi_thickness.txt, Data Length: 97\n",
            "File: Olin_0050134_roi_thickness.txt, Data Length: 97\n",
            "File: OHSU_0050165_roi_thickness.txt, Data Length: 97\n",
            "File: UCLA_1_0051229_roi_thickness.txt, Data Length: 97\n",
            "File: Olin_0050122_roi_thickness.txt, Data Length: 97\n",
            "File: Trinity_0050252_roi_thickness.txt, Data Length: 97\n",
            "File: Leuven_1_0050696_roi_thickness.txt, Data Length: 97\n",
            "File: USM_0050532_roi_thickness.txt, Data Length: 97\n",
            "File: KKI_0050825_roi_thickness.txt, Data Length: 97\n",
            "File: NYU_0050959_roi_thickness.txt, Data Length: 97\n",
            "File: KKI_0050779_roi_thickness.txt, Data Length: 97\n",
            "File: Pitt_0050016_roi_thickness.txt, Data Length: 97\n",
            "File: MaxMun_a_0051321_roi_thickness.txt, Data Length: 97\n",
            "File: Trinity_0050262_roi_thickness.txt, Data Length: 97\n",
            "File: UCLA_1_0051201_roi_thickness.txt, Data Length: 97\n",
            "File: UM_1_0050323_roi_thickness.txt, Data Length: 97\n",
            "File: UCLA_1_0051241_roi_thickness.txt, Data Length: 97\n",
            "File: NYU_0051044_roi_thickness.txt, Data Length: 97\n",
            "File: UCLA_2_0051317_roi_thickness.txt, Data Length: 97\n",
            "File: UM_1_0050380_roi_thickness.txt, Data Length: 97\n",
            "File: MaxMun_a_0051370_roi_thickness.txt, Data Length: 97\n",
            "File: NYU_0050996_roi_thickness.txt, Data Length: 97\n",
            "File: MaxMun_d_0051354_roi_thickness.txt, Data Length: 97\n",
            "File: NYU_0050986_roi_thickness.txt, Data Length: 97\n",
            "File: USM_0050505_roi_thickness.txt, Data Length: 97\n",
            "File: OHSU_0050155_roi_thickness.txt, Data Length: 97\n",
            "File: UCLA_1_0051208_roi_thickness.txt, Data Length: 97\n",
            "File: NYU_0051040_roi_thickness.txt, Data Length: 97\n",
            "File: SBL_0051580_roi_thickness.txt, Data Length: 97\n",
            "File: USM_0050526_roi_thickness.txt, Data Length: 97\n",
            "File: USM_0050519_roi_thickness.txt, Data Length: 97\n",
            "File: Stanford_0051192_roi_thickness.txt, Data Length: 97\n",
            "File: UM_2_0050382_roi_thickness.txt, Data Length: 97\n",
            "File: NYU_0051002_roi_thickness.txt, Data Length: 97\n",
            "File: NYU_0051082_roi_thickness.txt, Data Length: 97\n",
            "File: UCLA_2_0051299_roi_thickness.txt, Data Length: 97\n",
            "File: NYU_0051056_roi_thickness.txt, Data Length: 97\n",
            "File: NYU_0051000_roi_thickness.txt, Data Length: 97\n",
            "File: Yale_0050573_roi_thickness.txt, Data Length: 97\n",
            "File: Trinity_0050253_roi_thickness.txt, Data Length: 97\n",
            "File: NYU_0051046_roi_thickness.txt, Data Length: 97\n",
            "File: KKI_0050776_roi_thickness.txt, Data Length: 97\n",
            "File: Trinity_0051134_roi_thickness.txt, Data Length: 97\n",
            "File: Stanford_0051161_roi_thickness.txt, Data Length: 97\n",
            "File: UCLA_1_0051216_roi_thickness.txt, Data Length: 97\n",
            "File: Leuven_1_0050707_roi_thickness.txt, Data Length: 97\n",
            "File: Yale_0050562_roi_thickness.txt, Data Length: 97\n",
            "File: NYU_0051006_roi_thickness.txt, Data Length: 97\n",
            "File: Trinity_0050235_roi_thickness.txt, Data Length: 97\n",
            "File: MaxMun_a_0051607_roi_thickness.txt, Data Length: 97\n",
            "File: KKI_0050821_roi_thickness.txt, Data Length: 97\n",
            "File: USM_0050485_roi_thickness.txt, Data Length: 97\n",
            "File: UM_1_0050307_roi_thickness.txt, Data Length: 97\n",
            "File: UM_1_0050310_roi_thickness.txt, Data Length: 97\n",
            "File: Pitt_0050047_roi_thickness.txt, Data Length: 97\n",
            "File: NYU_0051013_roi_thickness.txt, Data Length: 97\n",
            "File: OHSU_0050143_roi_thickness.txt, Data Length: 97\n",
            "File: Yale_0050561_roi_thickness.txt, Data Length: 97\n",
            "File: NYU_0051130_roi_thickness.txt, Data Length: 97\n",
            "File: UCLA_1_0051227_roi_thickness.txt, Data Length: 97\n",
            "File: CMU_a_0050647_roi_thickness.txt, Data Length: 97\n",
            "File: UCLA_1_0051251_roi_thickness.txt, Data Length: 97\n",
            "File: Leuven_1_0050683_roi_thickness.txt, Data Length: 97\n",
            "File: Olin_0050128_roi_thickness.txt, Data Length: 97\n",
            "File: Caltech_0051476_roi_thickness.txt, Data Length: 97\n",
            "File: Pitt_0050009_roi_thickness.txt, Data Length: 97\n",
            "File: UM_1_0050315_roi_thickness.txt, Data Length: 97\n",
            "File: Yale_0050627_roi_thickness.txt, Data Length: 97\n",
            "File: USM_0050494_roi_thickness.txt, Data Length: 97\n",
            "File: Yale_0050628_roi_thickness.txt, Data Length: 97\n",
            "File: OHSU_0050150_roi_thickness.txt, Data Length: 97\n",
            "File: Stanford_0051164_roi_thickness.txt, Data Length: 97\n",
            "File: OHSU_0050166_roi_thickness.txt, Data Length: 97\n",
            "File: CMU_a_0050654_roi_thickness.txt, Data Length: 97\n",
            "File: NYU_0051036_roi_thickness.txt, Data Length: 97\n",
            "File: SBL_0051571_roi_thickness.txt, Data Length: 97\n",
            "File: NYU_0051078_roi_thickness.txt, Data Length: 97\n",
            "File: SDSU_0050194_roi_thickness.txt, Data Length: 97\n",
            "File: NYU_0050957_roi_thickness.txt, Data Length: 97\n",
            "File: UM_1_0050318_roi_thickness.txt, Data Length: 97\n",
            "File: KKI_0050809_roi_thickness.txt, Data Length: 97\n",
            "File: MaxMun_d_0051351_roi_thickness.txt, Data Length: 97\n",
            "File: UCLA_2_0051298_roi_thickness.txt, Data Length: 97\n",
            "File: OHSU_0050171_roi_thickness.txt, Data Length: 97\n",
            "File: NYU_0050997_roi_thickness.txt, Data Length: 97\n",
            "File: SBL_0051583_roi_thickness.txt, Data Length: 97\n",
            "File: Caltech_0051477_roi_thickness.txt, Data Length: 97\n",
            "File: USM_0050511_roi_thickness.txt, Data Length: 97\n",
            "File: NYU_0050973_roi_thickness.txt, Data Length: 97\n",
            "File: UCLA_1_0051231_roi_thickness.txt, Data Length: 97\n",
            "File: UM_1_0050350_roi_thickness.txt, Data Length: 97\n",
            "File: NYU_0051155_roi_thickness.txt, Data Length: 97\n",
            "File: USM_0050440_roi_thickness.txt, Data Length: 97\n",
            "File: UM_1_0050362_roi_thickness.txt, Data Length: 97\n",
            "File: UM_2_0050428_roi_thickness.txt, Data Length: 97\n",
            "File: Stanford_0051170_roi_thickness.txt, Data Length: 97\n",
            "File: UCLA_1_0051219_roi_thickness.txt, Data Length: 97\n",
            "File: KKI_0050801_roi_thickness.txt, Data Length: 97\n",
            "File: Pitt_0050033_roi_thickness.txt, Data Length: 97\n",
            "File: USM_0050525_roi_thickness.txt, Data Length: 97\n",
            "File: Trinity_0051140_roi_thickness.txt, Data Length: 97\n",
            "File: UM_1_0050334_roi_thickness.txt, Data Length: 97\n",
            "File: UM_2_0050404_roi_thickness.txt, Data Length: 97\n",
            "File: UM_1_0050324_roi_thickness.txt, Data Length: 97\n",
            "File: Yale_0050621_roi_thickness.txt, Data Length: 97\n",
            "File: SBL_0051578_roi_thickness.txt, Data Length: 97\n",
            "File: Olin_0050135_roi_thickness.txt, Data Length: 97\n",
            "File: OHSU_0050158_roi_thickness.txt, Data Length: 97\n",
            "File: USM_0050473_roi_thickness.txt, Data Length: 97\n",
            "File: UCLA_2_0051291_roi_thickness.txt, Data Length: 97\n",
            "File: SDSU_0050216_roi_thickness.txt, Data Length: 97\n",
            "File: NYU_0051112_roi_thickness.txt, Data Length: 97\n",
            "File: Leuven_2_0050734_roi_thickness.txt, Data Length: 97\n",
            "File: Caltech_0051488_roi_thickness.txt, Data Length: 97\n",
            "File: MaxMun_c_0051347_roi_thickness.txt, Data Length: 97\n",
            "File: USM_0050434_roi_thickness.txt, Data Length: 97\n",
            "File: NYU_0051026_roi_thickness.txt, Data Length: 97\n",
            "File: UCLA_1_0051220_roi_thickness.txt, Data Length: 97\n",
            "File: Stanford_0051187_roi_thickness.txt, Data Length: 97\n",
            "File: UM_1_0050279_roi_thickness.txt, Data Length: 97\n",
            "File: UM_1_0050308_roi_thickness.txt, Data Length: 97\n",
            "File: Olin_0050126_roi_thickness.txt, Data Length: 97\n",
            "File: USM_0050507_roi_thickness.txt, Data Length: 97\n",
            "File: Pitt_0050041_roi_thickness.txt, Data Length: 97\n",
            "File: UCLA_1_0051269_roi_thickness.txt, Data Length: 97\n",
            "File: NYU_0051012_roi_thickness.txt, Data Length: 97\n",
            "File: UCLA_1_0051215_roi_thickness.txt, Data Length: 97\n",
            "File: SBL_0051576_roi_thickness.txt, Data Length: 97\n",
            "File: Pitt_0050044_roi_thickness.txt, Data Length: 97\n",
            "File: Pitt_0050059_roi_thickness.txt, Data Length: 97\n",
            "File: NYU_0051033_roi_thickness.txt, Data Length: 97\n",
            "File: Leuven_2_0050740_roi_thickness.txt, Data Length: 97\n",
            "File: NYU_0051015_roi_thickness.txt, Data Length: 97\n",
            "File: NYU_0050975_roi_thickness.txt, Data Length: 97\n",
            "File: NYU_0051100_roi_thickness.txt, Data Length: 97\n",
            "File: Pitt_0050010_roi_thickness.txt, Data Length: 97\n",
            "File: UM_1_0050328_roi_thickness.txt, Data Length: 97\n",
            "File: NYU_0051159_roi_thickness.txt, Data Length: 97\n",
            "File: Caltech_0051469_roi_thickness.txt, Data Length: 97\n",
            "File: Leuven_1_0050710_roi_thickness.txt, Data Length: 97\n",
            "File: Trinity_0050255_roi_thickness.txt, Data Length: 97\n",
            "File: MaxMun_b_0051323_roi_thickness.txt, Data Length: 97\n",
            "File: Yale_0050617_roi_thickness.txt, Data Length: 97\n",
            "File: UM_1_0050360_roi_thickness.txt, Data Length: 97\n",
            "File: NYU_0051080_roi_thickness.txt, Data Length: 97\n",
            "File: KKI_0050803_roi_thickness.txt, Data Length: 97\n",
            "File: UM_1_0050300_roi_thickness.txt, Data Length: 97\n",
            "File: UCLA_1_0051268_roi_thickness.txt, Data Length: 97\n",
            "File: NYU_0051049_roi_thickness.txt, Data Length: 97\n",
            "File: USM_0050433_roi_thickness.txt, Data Length: 97\n",
            "File: SDSU_0050199_roi_thickness.txt, Data Length: 97\n",
            "File: UCLA_1_0051253_roi_thickness.txt, Data Length: 97\n",
            "File: UM_1_0050295_roi_thickness.txt, Data Length: 97\n",
            "File: NYU_0051079_roi_thickness.txt, Data Length: 97\n",
            "File: Yale_0050607_roi_thickness.txt, Data Length: 97\n",
            "File: Stanford_0051165_roi_thickness.txt, Data Length: 97\n",
            "File: UM_2_0050417_roi_thickness.txt, Data Length: 97\n",
            "File: UCLA_1_0051273_roi_thickness.txt, Data Length: 97\n",
            "File: NYU_0050965_roi_thickness.txt, Data Length: 97\n",
            "File: SBL_0051565_roi_thickness.txt, Data Length: 97\n",
            "File: Leuven_1_0050686_roi_thickness.txt, Data Length: 97\n",
            "File: UCLA_1_0051205_roi_thickness.txt, Data Length: 97\n",
            "File: NYU_0051124_roi_thickness.txt, Data Length: 97\n",
            "File: UCLA_1_0051226_roi_thickness.txt, Data Length: 97\n",
            "File: UCLA_1_0051202_roi_thickness.txt, Data Length: 97\n",
            "File: UM_1_0050305_roi_thickness.txt, Data Length: 97\n",
            "File: NYU_0051024_roi_thickness.txt, Data Length: 97\n",
            "File: UM_1_0050342_roi_thickness.txt, Data Length: 97\n",
            "File: UCLA_1_0051279_roi_thickness.txt, Data Length: 97\n",
            "File: UM_1_0050377_roi_thickness.txt, Data Length: 97\n",
            "File: KKI_0050822_roi_thickness.txt, Data Length: 97\n",
            "File: Stanford_0051168_roi_thickness.txt, Data Length: 97\n",
            "File: MaxMun_d_0051360_roi_thickness.txt, Data Length: 97\n",
            "File: UM_2_0050390_roi_thickness.txt, Data Length: 97\n",
            "File: NYU_0051003_roi_thickness.txt, Data Length: 97\n",
            "File: Trinity_0051136_roi_thickness.txt, Data Length: 97\n",
            "File: OHSU_0050152_roi_thickness.txt, Data Length: 97\n",
            "File: Leuven_2_0050723_roi_thickness.txt, Data Length: 97\n",
            "File: UCLA_1_0051249_roi_thickness.txt, Data Length: 97\n",
            "File: Pitt_0050058_roi_thickness.txt, Data Length: 97\n",
            "File: Leuven_2_0050757_roi_thickness.txt, Data Length: 97\n",
            "File: SDSU_0050192_roi_thickness.txt, Data Length: 97\n",
            "File: NYU_0051025_roi_thickness.txt, Data Length: 97\n",
            "File: Stanford_0051173_roi_thickness.txt, Data Length: 97\n",
            "File: NYU_0051126_roi_thickness.txt, Data Length: 97\n",
            "File: Olin_0050133_roi_thickness.txt, Data Length: 97\n",
            "File: UCLA_1_0051234_roi_thickness.txt, Data Length: 97\n",
            "File: Leuven_2_0050747_roi_thickness.txt, Data Length: 97\n",
            "File: UM_1_0050375_roi_thickness.txt, Data Length: 97\n",
            "File: Trinity_0051139_roi_thickness.txt, Data Length: 97\n",
            "File: Yale_0050610_roi_thickness.txt, Data Length: 97\n",
            "File: UM_1_0050290_roi_thickness.txt, Data Length: 97\n",
            "File: CMU_b_0050667_roi_thickness.txt, Data Length: 97\n",
            "File: OHSU_0050153_roi_thickness.txt, Data Length: 97\n",
            "File: NYU_0050989_roi_thickness.txt, Data Length: 97\n",
            "File: OHSU_0050162_roi_thickness.txt, Data Length: 97\n",
            "File: Olin_0050109_roi_thickness.txt, Data Length: 97\n",
            "File: KKI_0050775_roi_thickness.txt, Data Length: 97\n",
            "File: Trinity_0050245_roi_thickness.txt, Data Length: 97\n",
            "File: Stanford_0051177_roi_thickness.txt, Data Length: 97\n",
            "File: USM_0050531_roi_thickness.txt, Data Length: 97\n",
            "File: SDSU_0050196_roi_thickness.txt, Data Length: 97\n",
            "File: USM_0050528_roi_thickness.txt, Data Length: 97\n",
            "File: NYU_0051073_roi_thickness.txt, Data Length: 97\n",
            "File: Pitt_0050022_roi_thickness.txt, Data Length: 97\n",
            "File: Stanford_0051162_roi_thickness.txt, Data Length: 97\n",
            "File: USM_0050489_roi_thickness.txt, Data Length: 97\n",
            "File: USM_0050501_roi_thickness.txt, Data Length: 97\n",
            "File: Leuven_2_0050722_roi_thickness.txt, Data Length: 97\n",
            "File: Leuven_1_0050688_roi_thickness.txt, Data Length: 97\n",
            "File: Yale_0050576_roi_thickness.txt, Data Length: 97\n",
            "File: OHSU_0050145_roi_thickness.txt, Data Length: 97\n",
            "File: Leuven_1_0050704_roi_thickness.txt, Data Length: 97\n",
            "File: NYU_0051122_roi_thickness.txt, Data Length: 97\n",
            "File: OHSU_0050167_roi_thickness.txt, Data Length: 97\n",
            "File: USM_0050492_roi_thickness.txt, Data Length: 97\n",
            "File: UCLA_1_0051252_roi_thickness.txt, Data Length: 97\n",
            "File: MaxMun_d_0051349_roi_thickness.txt, Data Length: 97\n",
            "File: Stanford_0051174_roi_thickness.txt, Data Length: 97\n",
            "File: SDSU_0050203_roi_thickness.txt, Data Length: 97\n",
            "File: USM_0050493_roi_thickness.txt, Data Length: 97\n",
            "File: UM_1_0050330_roi_thickness.txt, Data Length: 97\n",
            "File: UCLA_1_0051250_roi_thickness.txt, Data Length: 97\n",
            "File: SBL_0051560_roi_thickness.txt, Data Length: 97\n",
            "File: USM_0050480_roi_thickness.txt, Data Length: 97\n",
            "File: Leuven_2_0050752_roi_thickness.txt, Data Length: 97\n",
            "File: SBL_0051574_roi_thickness.txt, Data Length: 97\n",
            "File: USM_0050435_roi_thickness.txt, Data Length: 97\n",
            "File: UM_1_0050363_roi_thickness.txt, Data Length: 97\n",
            "File: NYU_0051107_roi_thickness.txt, Data Length: 97\n",
            "File: SDSU_0050200_roi_thickness.txt, Data Length: 97\n",
            "File: OHSU_0050148_roi_thickness.txt, Data Length: 97\n",
            "File: CMU_b_0050652_roi_thickness.txt, Data Length: 97\n",
            "File: SDSU_0050210_roi_thickness.txt, Data Length: 97\n",
            "File: Olin_0050103_roi_thickness.txt, Data Length: 97\n",
            "File: Trinity_0051132_roi_thickness.txt, Data Length: 97\n",
            "File: Yale_0050560_roi_thickness.txt, Data Length: 97\n",
            "File: Leuven_1_0050708_roi_thickness.txt, Data Length: 97\n",
            "File: NYU_0051041_roi_thickness.txt, Data Length: 97\n",
            "File: UM_1_0050378_roi_thickness.txt, Data Length: 97\n",
            "File: NYU_0051150_roi_thickness.txt, Data Length: 97\n",
            "File: Olin_0050131_roi_thickness.txt, Data Length: 97\n",
            "File: SDSU_0050183_roi_thickness.txt, Data Length: 97\n",
            "File: Caltech_0051456_roi_thickness.txt, Data Length: 97\n",
            "File: USM_0050450_roi_thickness.txt, Data Length: 97\n",
            "File: NYU_0051027_roi_thickness.txt, Data Length: 97\n",
            "File: USM_0050465_roi_thickness.txt, Data Length: 97\n",
            "File: OHSU_0050164_roi_thickness.txt, Data Length: 97\n",
            "File: Leuven_1_0050685_roi_thickness.txt, Data Length: 97\n",
            "File: NYU_0051109_roi_thickness.txt, Data Length: 97\n",
            "File: UM_1_0050288_roi_thickness.txt, Data Length: 97\n",
            "File: NYU_0051045_roi_thickness.txt, Data Length: 97\n",
            "File: UCLA_1_0051211_roi_thickness.txt, Data Length: 97\n",
            "File: UCLA_2_0051314_roi_thickness.txt, Data Length: 97\n",
            "File: NYU_0051128_roi_thickness.txt, Data Length: 97\n",
            "File: UM_1_0050374_roi_thickness.txt, Data Length: 97\n",
            "File: KKI_0050783_roi_thickness.txt, Data Length: 97\n",
            "File: NYU_0051095_roi_thickness.txt, Data Length: 97\n",
            "File: UM_1_0050358_roi_thickness.txt, Data Length: 97\n",
            "File: SDSU_0050214_roi_thickness.txt, Data Length: 97\n",
            "File: Yale_0050557_roi_thickness.txt, Data Length: 97\n",
            "File: Yale_0050626_roi_thickness.txt, Data Length: 97\n",
            "File: Leuven_2_0050737_roi_thickness.txt, Data Length: 97\n",
            "File: KKI_0050795_roi_thickness.txt, Data Length: 97\n",
            "File: USM_0050459_roi_thickness.txt, Data Length: 97\n",
            "File: Leuven_1_0050694_roi_thickness.txt, Data Length: 97\n",
            "File: UM_1_0050379_roi_thickness.txt, Data Length: 97\n",
            "File: UCLA_1_0051206_roi_thickness.txt, Data Length: 97\n",
            "File: Olin_0050129_roi_thickness.txt, Data Length: 97\n",
            "File: UCLA_1_0051210_roi_thickness.txt, Data Length: 97\n",
            "File: USM_0050527_roi_thickness.txt, Data Length: 97\n",
            "File: UCLA_2_0051301_roi_thickness.txt, Data Length: 97\n",
            "File: NYU_0051007_roi_thickness.txt, Data Length: 97\n",
            "File: Pitt_0050012_roi_thickness.txt, Data Length: 97\n",
            "File: UM_1_0050343_roi_thickness.txt, Data Length: 97\n",
            "File: USM_0050497_roi_thickness.txt, Data Length: 97\n",
            "File: Leuven_1_0050693_roi_thickness.txt, Data Length: 97\n",
            "File: UM_1_0050296_roi_thickness.txt, Data Length: 97\n",
            "File: Leuven_2_0050746_roi_thickness.txt, Data Length: 97\n",
            "File: Stanford_0051175_roi_thickness.txt, Data Length: 97\n",
            "File: UM_1_0050369_roi_thickness.txt, Data Length: 97\n",
            "File: UCLA_1_0051265_roi_thickness.txt, Data Length: 97\n",
            "File: Stanford_0051166_roi_thickness.txt, Data Length: 97\n",
            "File: NYU_0051061_roi_thickness.txt, Data Length: 97\n",
            "File: USM_0050447_roi_thickness.txt, Data Length: 97\n",
            "File: Caltech_0051487_roi_thickness.txt, Data Length: 97\n",
            "File: Stanford_0051190_roi_thickness.txt, Data Length: 97\n",
            "File: KKI_0050815_roi_thickness.txt, Data Length: 97\n",
            "File: SBL_0051559_roi_thickness.txt, Data Length: 97\n",
            "File: MaxMun_d_0051357_roi_thickness.txt, Data Length: 97\n",
            "File: UM_2_0050424_roi_thickness.txt, Data Length: 97\n",
            "File: CMU_a_0050665_roi_thickness.txt, Data Length: 97\n",
            "File: NYU_0050958_roi_thickness.txt, Data Length: 97\n",
            "File: KKI_0050782_roi_thickness.txt, Data Length: 97\n",
            "File: Trinity_0050239_roi_thickness.txt, Data Length: 97\n",
            "File: USM_0050498_roi_thickness.txt, Data Length: 97\n",
            "File: MaxMun_a_0051362_roi_thickness.txt, Data Length: 97\n",
            "File: UM_1_0050321_roi_thickness.txt, Data Length: 97\n",
            "File: Yale_0050622_roi_thickness.txt, Data Length: 97\n",
            "File: Stanford_0051197_roi_thickness.txt, Data Length: 97\n",
            "File: Leuven_2_0050744_roi_thickness.txt, Data Length: 97\n",
            "File: Olin_0050107_roi_thickness.txt, Data Length: 97\n",
            "File: Olin_0050121_roi_thickness.txt, Data Length: 97\n",
            "File: NYU_0051086_roi_thickness.txt, Data Length: 97\n",
            "File: Olin_0050136_roi_thickness.txt, Data Length: 97\n",
            "File: SBL_0051573_roi_thickness.txt, Data Length: 97\n",
            "File: KKI_0050777_roi_thickness.txt, Data Length: 97\n",
            "File: UCLA_1_0051274_roi_thickness.txt, Data Length: 97\n",
            "File: KKI_0050814_roi_thickness.txt, Data Length: 97\n",
            "File: Caltech_0051486_roi_thickness.txt, Data Length: 97\n",
            "File: Stanford_0051176_roi_thickness.txt, Data Length: 97\n",
            "File: Olin_0050115_roi_thickness.txt, Data Length: 97\n",
            "File: SDSU_0050188_roi_thickness.txt, Data Length: 97\n",
            "File: Pitt_0050004_roi_thickness.txt, Data Length: 97\n",
            "File: UM_1_0050355_roi_thickness.txt, Data Length: 97\n",
            "File: SDSU_0050206_roi_thickness.txt, Data Length: 97\n",
            "File: NYU_0051017_roi_thickness.txt, Data Length: 97\n",
            "File: USM_0050452_roi_thickness.txt, Data Length: 97\n",
            "File: NYU_0051016_roi_thickness.txt, Data Length: 97\n",
            "File: SDSU_0050191_roi_thickness.txt, Data Length: 97\n",
            "File: Leuven_2_0050739_roi_thickness.txt, Data Length: 97\n",
            "File: Stanford_0051172_roi_thickness.txt, Data Length: 97\n",
            "File: NYU_0051154_roi_thickness.txt, Data Length: 97\n",
            "File: NYU_0050994_roi_thickness.txt, Data Length: 97\n",
            "File: NYU_0050970_roi_thickness.txt, Data Length: 97\n",
            "File: Caltech_0051473_roi_thickness.txt, Data Length: 97\n",
            "File: UM_1_0050329_roi_thickness.txt, Data Length: 97\n",
            "File: Stanford_0051193_roi_thickness.txt, Data Length: 97\n",
            "File: KKI_0050808_roi_thickness.txt, Data Length: 97\n",
            "File: Leuven_2_0050755_roi_thickness.txt, Data Length: 97\n",
            "File: UCLA_2_0051305_roi_thickness.txt, Data Length: 97\n",
            "File: Yale_0050615_roi_thickness.txt, Data Length: 97\n",
            "File: UM_2_0050405_roi_thickness.txt, Data Length: 97\n",
            "File: Yale_0050624_roi_thickness.txt, Data Length: 97\n",
            "File: MaxMun_a_0051319_roi_thickness.txt, Data Length: 97\n",
            "File: UCLA_2_0051300_roi_thickness.txt, Data Length: 97\n",
            "File: Trinity_0050237_roi_thickness.txt, Data Length: 97\n",
            "File: Leuven_2_0050753_roi_thickness.txt, Data Length: 97\n",
            "File: NYU_0051087_roi_thickness.txt, Data Length: 97\n",
            "File: USM_0050522_roi_thickness.txt, Data Length: 97\n",
            "File: KKI_0050796_roi_thickness.txt, Data Length: 97\n",
            "File: Caltech_0051468_roi_thickness.txt, Data Length: 97\n",
            "File: USM_0050441_roi_thickness.txt, Data Length: 97\n",
            "File: Trinity_0050233_roi_thickness.txt, Data Length: 97\n",
            "File: USM_0050457_roi_thickness.txt, Data Length: 97\n",
            "File: Pitt_0050023_roi_thickness.txt, Data Length: 97\n",
            "File: OHSU_0050144_roi_thickness.txt, Data Length: 97\n",
            "File: Trinity_0050257_roi_thickness.txt, Data Length: 97\n",
            "File: OHSU_0050159_roi_thickness.txt, Data Length: 97\n",
            "File: Trinity_0050243_roi_thickness.txt, Data Length: 97\n",
            "File: Olin_0050114_roi_thickness.txt, Data Length: 97\n",
            "File: Yale_0050606_roi_thickness.txt, Data Length: 97\n",
            "File: Leuven_1_0050689_roi_thickness.txt, Data Length: 97\n",
            "File: USM_0050467_roi_thickness.txt, Data Length: 97\n",
            "File: SDSU_0050182_roi_thickness.txt, Data Length: 97\n",
            "File: NYU_0051105_roi_thickness.txt, Data Length: 97\n",
            "File: Leuven_1_0050706_roi_thickness.txt, Data Length: 97\n",
            "File: Caltech_0051459_roi_thickness.txt, Data Length: 97\n",
            "File: Yale_0050570_roi_thickness.txt, Data Length: 97\n",
            "File: NYU_0050978_roi_thickness.txt, Data Length: 97\n",
            "File: UM_1_0050327_roi_thickness.txt, Data Length: 97\n",
            "File: Stanford_0051160_roi_thickness.txt, Data Length: 97\n",
            "File: MaxMun_b_0051324_roi_thickness.txt, Data Length: 97\n",
            "File: Pitt_0050014_roi_thickness.txt, Data Length: 97\n",
            "File: USM_0050446_roi_thickness.txt, Data Length: 97\n",
            "File: UCLA_2_0051302_roi_thickness.txt, Data Length: 97\n",
            "File: Pitt_0050030_roi_thickness.txt, Data Length: 97\n",
            "File: Olin_0050117_roi_thickness.txt, Data Length: 97\n",
            "File: UM_2_0050407_roi_thickness.txt, Data Length: 97\n",
            "File: SBL_0051566_roi_thickness.txt, Data Length: 97\n",
            "File: Pitt_0050052_roi_thickness.txt, Data Length: 97\n",
            "File: Leuven_2_0050743_roi_thickness.txt, Data Length: 97\n",
            "File: Pitt_0050036_roi_thickness.txt, Data Length: 97\n",
            "File: Pitt_0050007_roi_thickness.txt, Data Length: 97\n",
            "File: KKI_0050791_roi_thickness.txt, Data Length: 97\n",
            "File: UM_1_0050317_roi_thickness.txt, Data Length: 97\n",
            "File: SBL_0051575_roi_thickness.txt, Data Length: 97\n",
            "File: Pitt_0050017_roi_thickness.txt, Data Length: 97\n",
            "File: UM_1_0050281_roi_thickness.txt, Data Length: 97\n",
            "File: Caltech_0051463_roi_thickness.txt, Data Length: 97\n",
            "File: UM_2_0050386_roi_thickness.txt, Data Length: 97\n",
            "File: Trinity_0051137_roi_thickness.txt, Data Length: 97\n",
            "File: Leuven_2_0050730_roi_thickness.txt, Data Length: 97\n",
            "File: Pitt_0050008_roi_thickness.txt, Data Length: 97\n",
            "File: Yale_0050625_roi_thickness.txt, Data Length: 97\n",
            "File: Caltech_0051478_roi_thickness.txt, Data Length: 97\n",
            "File: MaxMun_c_0051335_roi_thickness.txt, Data Length: 97\n",
            "File: Yale_0050567_roi_thickness.txt, Data Length: 97\n",
            "File: Caltech_0051458_roi_thickness.txt, Data Length: 97\n",
            "File: SDSU_0050190_roi_thickness.txt, Data Length: 97\n",
            "File: NYU_0050999_roi_thickness.txt, Data Length: 97\n",
            "File: UM_1_0050332_roi_thickness.txt, Data Length: 97\n",
            "File: UM_1_0050272_roi_thickness.txt, Data Length: 97\n",
            "File: Caltech_0051493_roi_thickness.txt, Data Length: 97\n",
            "File: UM_1_0050299_roi_thickness.txt, Data Length: 97\n",
            "File: Leuven_1_0050690_roi_thickness.txt, Data Length: 97\n",
            "File: UM_1_0050376_roi_thickness.txt, Data Length: 97\n",
            "File: KKI_0050807_roi_thickness.txt, Data Length: 97\n",
            "File: SBL_0051572_roi_thickness.txt, Data Length: 97\n",
            "File: USM_0050477_roi_thickness.txt, Data Length: 97\n",
            "File: NYU_0050992_roi_thickness.txt, Data Length: 97\n",
            "File: MaxMun_c_0051341_roi_thickness.txt, Data Length: 97\n",
            "File: UM_1_0050365_roi_thickness.txt, Data Length: 97\n",
            "File: UM_1_0050346_roi_thickness.txt, Data Length: 97\n",
            "File: NYU_0051014_roi_thickness.txt, Data Length: 97\n",
            "File: NYU_0051038_roi_thickness.txt, Data Length: 97\n",
            "File: CMU_b_0050661_roi_thickness.txt, Data Length: 97\n",
            "File: Leuven_2_0050724_roi_thickness.txt, Data Length: 97\n",
            "File: Pitt_0050060_roi_thickness.txt, Data Length: 97\n",
            "File: Caltech_0051484_roi_thickness.txt, Data Length: 97\n",
            "File: Leuven_2_0050725_roi_thickness.txt, Data Length: 97\n",
            "File: UCLA_2_0051294_roi_thickness.txt, Data Length: 97\n",
            "File: MaxMun_a_0051364_roi_thickness.txt, Data Length: 97\n",
            "File: Trinity_0050249_roi_thickness.txt, Data Length: 97\n",
            "File: SDSU_0050187_roi_thickness.txt, Data Length: 97\n",
            "File: Pitt_0050037_roi_thickness.txt, Data Length: 97\n",
            "File: USM_0050502_roi_thickness.txt, Data Length: 97\n",
            "File: USM_0050478_roi_thickness.txt, Data Length: 97\n",
            "File: MaxMun_d_0051330_roi_thickness.txt, Data Length: 97\n",
            "File: Stanford_0051198_roi_thickness.txt, Data Length: 97\n",
            "File: UM_2_0050406_roi_thickness.txt, Data Length: 97\n",
            "File: NYU_0051094_roi_thickness.txt, Data Length: 97\n",
            "File: USM_0050499_roi_thickness.txt, Data Length: 97\n",
            "File: UM_1_0050280_roi_thickness.txt, Data Length: 97\n",
            "File: Yale_0050618_roi_thickness.txt, Data Length: 97\n",
            "File: Stanford_0051194_roi_thickness.txt, Data Length: 97\n",
            "File: Leuven_2_0050754_roi_thickness.txt, Data Length: 97\n",
            "File: USM_0050529_roi_thickness.txt, Data Length: 97\n",
            "File: Pitt_0050025_roi_thickness.txt, Data Length: 97\n",
            "File: CMU_a_0050664_roi_thickness.txt, Data Length: 97\n",
            "File: NYU_0050956_roi_thickness.txt, Data Length: 97\n",
            "File: Trinity_0050265_roi_thickness.txt, Data Length: 97\n",
            "File: SBL_0051568_roi_thickness.txt, Data Length: 97\n",
            "File: NYU_0050952_roi_thickness.txt, Data Length: 97\n",
            "File: NYU_0050960_roi_thickness.txt, Data Length: 97\n",
            "File: UCLA_1_0051240_roi_thickness.txt, Data Length: 97\n",
            "File: NYU_0051127_roi_thickness.txt, Data Length: 97\n",
            "File: Leuven_1_0050697_roi_thickness.txt, Data Length: 97\n",
            "File: UM_1_0050341_roi_thickness.txt, Data Length: 97\n",
            "File: Trinity_0051138_roi_thickness.txt, Data Length: 97\n",
            "File: UM_1_0050349_roi_thickness.txt, Data Length: 97\n",
            "File: Pitt_0050042_roi_thickness.txt, Data Length: 97\n",
            "File: Leuven_1_0050705_roi_thickness.txt, Data Length: 97\n",
            "File: NYU_0051001_roi_thickness.txt, Data Length: 97\n",
            "File: SBL_0051570_roi_thickness.txt, Data Length: 97\n",
            "File: Yale_0050608_roi_thickness.txt, Data Length: 97\n",
            "File: Pitt_0050011_roi_thickness.txt, Data Length: 97\n",
            "File: Pitt_0050015_roi_thickness.txt, Data Length: 97\n",
            "File: NYU_0051111_roi_thickness.txt, Data Length: 97\n",
            "File: NYU_0051035_roi_thickness.txt, Data Length: 97\n",
            "File: Olin_0050108_roi_thickness.txt, Data Length: 97\n",
            "File: Leuven_1_0050682_roi_thickness.txt, Data Length: 97\n",
            "File: Yale_0050604_roi_thickness.txt, Data Length: 97\n",
            "File: KKI_0050818_roi_thickness.txt, Data Length: 97\n",
            "File: CMU_a_0050646_roi_thickness.txt, Data Length: 97\n",
            "File: Pitt_0050028_roi_thickness.txt, Data Length: 97\n",
            "File: Trinity_0050240_roi_thickness.txt, Data Length: 97\n",
            "File: UM_1_0050340_roi_thickness.txt, Data Length: 97\n",
            "File: CMU_a_0050668_roi_thickness.txt, Data Length: 97\n",
            "File: NYU_0051131_roi_thickness.txt, Data Length: 97\n",
            "File: USM_0050483_roi_thickness.txt, Data Length: 97\n",
            "File: Trinity_0050266_roi_thickness.txt, Data Length: 97\n",
            "File: KKI_0050810_roi_thickness.txt, Data Length: 97\n",
            "File: USM_0050453_roi_thickness.txt, Data Length: 97\n",
            "File: Trinity_0051141_roi_thickness.txt, Data Length: 97\n",
            "File: CMU_b_0050643_roi_thickness.txt, Data Length: 97\n",
            "File: Leuven_2_0050749_roi_thickness.txt, Data Length: 97\n",
            "File: NYU_0051068_roi_thickness.txt, Data Length: 97\n",
            "File: Yale_0050555_roi_thickness.txt, Data Length: 97\n",
            "File: UCLA_2_0051308_roi_thickness.txt, Data Length: 97\n",
            "File: Leuven_1_0050691_roi_thickness.txt, Data Length: 97\n",
            "File: MaxMun_b_0051322_roi_thickness.txt, Data Length: 97\n",
            "File: SDSU_0050213_roi_thickness.txt, Data Length: 97\n",
            "File: Leuven_1_0050692_roi_thickness.txt, Data Length: 97\n",
            "File: UCLA_2_0051292_roi_thickness.txt, Data Length: 97\n",
            "File: UCLA_1_0051275_roi_thickness.txt, Data Length: 97\n",
            "File: Olin_0050120_roi_thickness.txt, Data Length: 97\n",
            "File: KKI_0050787_roi_thickness.txt, Data Length: 97\n",
            "File: Stanford_0051169_roi_thickness.txt, Data Length: 97\n",
            "File: NYU_0051101_roi_thickness.txt, Data Length: 97\n",
            "File: USM_0050517_roi_thickness.txt, Data Length: 97\n",
            "File: Olin_0050112_roi_thickness.txt, Data Length: 97\n",
            "File: Trinity_0050263_roi_thickness.txt, Data Length: 97\n",
            "File: UCLA_1_0051212_roi_thickness.txt, Data Length: 97\n",
            "File: SDSU_0050193_roi_thickness.txt, Data Length: 97\n",
            "File: KKI_0050799_roi_thickness.txt, Data Length: 97\n",
            "File: MaxMun_a_0051363_roi_thickness.txt, Data Length: 97\n",
            "File: OHSU_0050157_roi_thickness.txt, Data Length: 97\n",
            "File: NYU_0050993_roi_thickness.txt, Data Length: 97\n",
            "File: NYU_0051156_roi_thickness.txt, Data Length: 97\n",
            "File: Pitt_0050024_roi_thickness.txt, Data Length: 97\n",
            "File: Olin_0050124_roi_thickness.txt, Data Length: 97\n",
            "File: KKI_0050793_roi_thickness.txt, Data Length: 97\n",
            "File: MaxMun_c_0051344_roi_thickness.txt, Data Length: 97\n",
            "File: UCLA_1_0051277_roi_thickness.txt, Data Length: 97\n",
            "File: Olin_0050116_roi_thickness.txt, Data Length: 97\n",
            "File: Stanford_0051196_roi_thickness.txt, Data Length: 97\n",
            "File: USM_0050479_roi_thickness.txt, Data Length: 97\n",
            "File: Yale_0050568_roi_thickness.txt, Data Length: 97\n",
            "File: USM_0050481_roi_thickness.txt, Data Length: 97\n",
            "File: Caltech_0051457_roi_thickness.txt, Data Length: 97\n",
            "File: MaxMun_b_0051326_roi_thickness.txt, Data Length: 97\n",
            "File: UM_1_0050275_roi_thickness.txt, Data Length: 97\n",
            "File: UCLA_1_0051255_roi_thickness.txt, Data Length: 97\n",
            "File: UCLA_1_0051258_roi_thickness.txt, Data Length: 97\n",
            "File: CMU_a_0050642_roi_thickness.txt, Data Length: 97\n",
            "File: NYU_0051021_roi_thickness.txt, Data Length: 97\n",
            "File: Yale_0050601_roi_thickness.txt, Data Length: 97\n",
            "File: MaxMun_a_0051365_roi_thickness.txt, Data Length: 97\n",
            "File: Leuven_2_0050727_roi_thickness.txt, Data Length: 97\n",
            "File: SDSU_0050204_roi_thickness.txt, Data Length: 97\n",
            "File: USM_0050468_roi_thickness.txt, Data Length: 97\n",
            "File: Pitt_0050034_roi_thickness.txt, Data Length: 97\n",
            "File: UCLA_2_0051303_roi_thickness.txt, Data Length: 97\n",
            "File: Yale_0050565_roi_thickness.txt, Data Length: 97\n",
            "File: SDSU_0050209_roi_thickness.txt, Data Length: 97\n",
            "File: NYU_0050991_roi_thickness.txt, Data Length: 97\n",
            "File: NYU_0050990_roi_thickness.txt, Data Length: 97\n",
            "File: Pitt_0050032_roi_thickness.txt, Data Length: 97\n",
            "File: Trinity_0050250_roi_thickness.txt, Data Length: 97\n",
            "File: UCLA_1_0051217_roi_thickness.txt, Data Length: 97\n",
            "File: Yale_0050572_roi_thickness.txt, Data Length: 97\n",
            "File: UM_1_0050287_roi_thickness.txt, Data Length: 97\n",
            "File: UCLA_1_0051213_roi_thickness.txt, Data Length: 97\n",
            "File: Trinity_0050260_roi_thickness.txt, Data Length: 97\n",
            "File: MaxMun_c_0051340_roi_thickness.txt, Data Length: 97\n",
            "File: UM_2_0050413_roi_thickness.txt, Data Length: 97\n",
            "File: MaxMun_d_0051355_roi_thickness.txt, Data Length: 97\n",
            "File: Leuven_1_0050709_roi_thickness.txt, Data Length: 97\n",
            "File: UCLA_1_0051261_roi_thickness.txt, Data Length: 97\n",
            "File: MaxMun_d_0051356_roi_thickness.txt, Data Length: 97\n",
            "File: NYU_0051010_roi_thickness.txt, Data Length: 97\n",
            "File: MaxMun_b_0051327_roi_thickness.txt, Data Length: 97\n",
            "File: Pitt_0050049_roi_thickness.txt, Data Length: 97\n",
            "File: SDSU_0050208_roi_thickness.txt, Data Length: 97\n",
            "File: Leuven_2_0050733_roi_thickness.txt, Data Length: 97\n",
            "File: UCLA_1_0051223_roi_thickness.txt, Data Length: 97\n",
            "File: NYU_0051121_roi_thickness.txt, Data Length: 97\n",
            "File: NYU_0051009_roi_thickness.txt, Data Length: 97\n",
            "File: NYU_0051108_roi_thickness.txt, Data Length: 97\n",
            "File: MaxMun_a_0051372_roi_thickness.txt, Data Length: 97\n",
            "File: UCLA_2_0051307_roi_thickness.txt, Data Length: 97\n"
          ]
        }
      ]
    },
    {
      "cell_type": "code",
      "source": [
        "#data_info_dict_no_autism = data_info_dict_autism"
      ],
      "metadata": {
        "id": "bhQvps9SiU8d"
      },
      "execution_count": null,
      "outputs": []
    },
    {
      "cell_type": "markdown",
      "source": [
        "The data downloaded in this way is in a 3D volume. I want to have the data as a vector. Therefore, I am doing the following:"
      ],
      "metadata": {
        "id": "Lh7uQzUwYolO"
      }
    },
    {
      "cell_type": "code",
      "source": [
        "#@title Execute when working with 3D data\n",
        "\n",
        "# Directory containing your NIfTI files\n",
        "#data_directory = \"./data/anat_thickness/\"\n",
        "\n",
        "# Read the participant information from the CSV file\n",
        "csv_file = \"./data/participant_info/participant_info.csv\"\n",
        "participant_info_df = pd.read_csv(csv_file)\n",
        "\n",
        "# Create a dictionary to store data and participant infogender = torch.tensor(participant_row['SEX'].values[0] - 1rmation\n",
        "#data_info_dict = {}\n",
        "\n",
        "# Loop through each NIfTI file\n",
        "for file_name in os.listdir(data_directory):\n",
        "    pass\n",
        "    # Check if the file is a NIfTI file\n",
        "    if file_name.endswith(\"_anat_thickness.nii.gz\"):\n",
        "        # Load the NIfTI file\n",
        "        nifti_img = nib.load(os.path.join(data_directory, file_name))\n",
        "\n",
        "        # Get the data as a NumPy array\n",
        "        data_array = nifti_img.get_fdata()\n",
        "        print(\"The 3D data has the shape of\" ,data_array.shape)\n",
        "        # Reshape to a single vector\n",
        "        data_vector = data_array.ravel()\n",
        "\n",
        "        # Extract FILE_ID from the complete NIfTI file name\n",
        "        file_id = file_name.split(\"_anat_thickness.nii.gz\")[0]\n",
        "\n",
        "        # Find the participant's information based on FILE_ID in the CSV\n",
        "        participant_row = participant_info_df.loc[participant_info_df['FILE_ID'] == file_id]\n",
        "\n",
        "        # Extract age and gender from the participant's information\n",
        "        age = participant_row['AGE_AT_SCAN'].values[0]\n",
        "        gender = participant_row['SEX'].values[0]\n",
        "\n",
        "        # Store the data and participant information in the dictionary\n",
        "        data_info_dict[file_id] = {\n",
        "            \"data\": data_vector,\n",
        "            \"age\": age,\n",
        "            \"gender\": gender\n",
        "        }\n"
      ],
      "metadata": {
        "id": "t1AV8ehQYwCh"
      },
      "execution_count": null,
      "outputs": []
    },
    {
      "cell_type": "markdown",
      "source": [
        "Lets see if the number of files I loaded matches the numbers of files in my dictionary:"
      ],
      "metadata": {
        "id": "d7hOUMzeztac"
      }
    },
    {
      "cell_type": "code",
      "source": [
        "! cd ./data & du -a | cut -d/ -f2 | sort | uniq -c | sort -nr"
      ],
      "metadata": {
        "colab": {
          "base_uri": "https://localhost:8080/"
        },
        "id": "dpqS3NvpzySJ",
        "outputId": "45773f39-7d62-4871-e339-2ab42bcc9b23"
      },
      "execution_count": null,
      "outputs": [
        {
          "output_type": "stream",
          "name": "stdout",
          "text": [
            "   1107 data\n",
            "     18 .config\n",
            "      7 sample_data\n",
            "      1 60560\t.\n"
          ]
        }
      ]
    },
    {
      "cell_type": "markdown",
      "source": [
        "Let's check if this all worked:"
      ],
      "metadata": {
        "id": "AESZ6k9heLiW"
      }
    },
    {
      "cell_type": "code",
      "source": [
        "# Calculate overall statistics for the autism category\n",
        "autism_data_lengths = [len(info[\"data\"]) for info in data_info_dict_autism.values()]\n",
        "total_autism_samples = len(autism_data_lengths)\n",
        "average_autism_data_length = sum(autism_data_lengths) / total_autism_samples\n",
        "min_autism_data_length = min(autism_data_lengths)\n",
        "max_autism_data_length = max(autism_data_lengths)\n",
        "std_autism_data_length = np.std(autism_data_lengths)\n",
        "autism_ages = [info[\"age\"] for info in data_info_dict_autism.values()]\n",
        "average_autism_age = sum(autism_ages) / total_autism_samples\n",
        "min_autism_age = min(autism_ages)\n",
        "max_autism_age = max(autism_ages)\n",
        "std_autism_age = np.std(autism_ages)\n",
        "autism_genders = [info[\"gender\"] for info in data_info_dict_autism.values()]\n",
        "# Calculate gender counts for the autism category\n",
        "autism_male_count = autism_genders.count(0)\n",
        "autism_female_count = autism_genders.count(1)\n",
        "\n",
        "# Calculate overall statistics for the non-autism category\n",
        "non_autism_data_lengths = [len(info[\"data\"]) for info in data_info_dict_no_autism.values()]\n",
        "total_non_autism_samples = len(non_autism_data_lengths)\n",
        "average_non_autism_data_length = sum(non_autism_data_lengths) / total_non_autism_samples\n",
        "min_non_autism_data_length = min(non_autism_data_lengths)\n",
        "max_non_autism_data_length = max(non_autism_data_lengths)\n",
        "std_non_autism_data_length = np.std(non_autism_data_lengths)\n",
        "non_autism_ages = [info[\"age\"] for info in data_info_dict_no_autism.values()]\n",
        "average_non_autism_age = sum(non_autism_ages) / total_non_autism_samples\n",
        "min_non_autism_age = min(non_autism_ages)\n",
        "max_non_autism_age = max(non_autism_ages)\n",
        "std_non_autism_age = np.std(non_autism_ages)\n",
        "non_autism_genders = [info[\"gender\"] for info in data_info_dict_no_autism.values()]\n",
        "# Calculate gender counts for the non-autism category\n",
        "non_autism_male_count = non_autism_genders.count(0)\n",
        "non_autism_female_count = non_autism_genders.count(1)\n",
        "\n",
        "\n",
        "\n",
        "\n",
        "\n",
        "# Print the statistics for the autism category\n",
        "print(\"Autism Data Statistics:\")\n",
        "print(\"Total Samples:\", total_autism_samples)\n",
        "print(\"Average Data Length:\", average_autism_data_length)\n",
        "print(\"Minimum Data Length:\", min_autism_data_length)\n",
        "print(\"Maximum Data Length:\", max_autism_data_length)\n",
        "print(\"Standard Deviation of Data Length:\", std_autism_data_length)\n",
        "print(\"\")\n",
        "\n",
        "print(\"Autism Age Statistics:\")\n",
        "print(\"Average Age:\", average_autism_age)\n",
        "print(\"Minimum Age:\", min_autism_age)\n",
        "print(\"Maximum Age:\", max_autism_age)\n",
        "print(\"Standard Deviation of Age:\", std_autism_age)\n",
        "print(\"\")\n",
        "\n",
        "print(\"Autism Gender Counts:\")\n",
        "print(\"Male Count:\", autism_male_count)\n",
        "print(\"Female Count:\", autism_female_count)\n",
        "print(\"\")\n",
        "\n",
        "# Print the statistics for the non-autism category\n",
        "print(\"Non-Autism Data Statistics:\")\n",
        "print(\"Total Samples:\", total_non_autism_samples)\n",
        "print(\"Average Data Length:\", average_non_autism_data_length)\n",
        "print(\"Minimum Data Length:\", min_non_autism_data_length)\n",
        "print(\"Maximum Data Length:\", max_non_autism_data_length)\n",
        "print(\"Standard Deviation of Data Length:\", std_non_autism_data_length)\n",
        "print(\"\")\n",
        "\n",
        "print(\"Non-Autism Age Statistics:\")\n",
        "print(\"Average Age:\", average_non_autism_age)\n",
        "print(\"Minimum Age:\", min_non_autism_age)\n",
        "print(\"Maximum Age:\", max_non_autism_age)\n",
        "print(\"Standard Deviation of Age:\", std_non_autism_age)\n",
        "print(\"\")\n",
        "\n",
        "print(\"Non-Autism Gender Counts:\")\n",
        "print(\"Male Count:\", non_autism_male_count)\n",
        "print(\"Female Count:\", non_autism_female_count)\n"
      ],
      "metadata": {
        "id": "z8L4eCdBeNfa",
        "outputId": "cd19bd7c-116b-42ed-bbdb-144d6a3d0e54",
        "colab": {
          "base_uri": "https://localhost:8080/"
        }
      },
      "execution_count": null,
      "outputs": [
        {
          "output_type": "stream",
          "name": "stdout",
          "text": [
            "Autism Data Statistics:\n",
            "Total Samples: 531\n",
            "Average Data Length: 97.0\n",
            "Minimum Data Length: 97\n",
            "Maximum Data Length: 97\n",
            "Standard Deviation of Data Length: 0.0\n",
            "\n",
            "Autism Age Statistics:\n",
            "Average Age: 17.066997551789047\n",
            "Minimum Age: 7.0\n",
            "Maximum Age: 64.0\n",
            "Standard Deviation of Age: 8.408176785458945\n",
            "\n",
            "Autism Gender Counts:\n",
            "Male Count: 467\n",
            "Female Count: 64\n",
            "\n",
            "Non-Autism Data Statistics:\n",
            "Total Samples: 571\n",
            "Average Data Length: 97.0\n",
            "Minimum Data Length: 97\n",
            "Maximum Data Length: 97\n",
            "Standard Deviation of Data Length: 0.0\n",
            "\n",
            "Non-Autism Age Statistics:\n",
            "Average Age: 17.102401576182142\n",
            "Minimum Age: 6.47\n",
            "Maximum Age: 56.2\n",
            "Standard Deviation of Age: 7.719682046137984\n",
            "\n",
            "Non-Autism Gender Counts:\n",
            "Male Count: 472\n",
            "Female Count: 99\n"
          ]
        }
      ]
    },
    {
      "cell_type": "markdown",
      "source": [
        "Next, I need to create a dataloader."
      ],
      "metadata": {
        "id": "B3Aho7KLeWWB"
      }
    },
    {
      "cell_type": "code",
      "source": [
        "class CombinedDataset(Dataset):\n",
        "    def __init__(self, autism_data_info, no_autism_data_info):\n",
        "        self.autism_data_info = autism_data_info\n",
        "        self.no_autism_data_info = no_autism_data_info\n",
        "        self.autism_file_ids = list(self.autism_data_info.keys())\n",
        "        self.no_autism_file_ids = list(self.no_autism_data_info.keys())\n",
        "\n",
        "    def __len__(self):\n",
        "        return max(len(self.autism_file_ids), len(self.no_autism_file_ids))\n",
        "\n",
        "    def __getitem__(self, index):\n",
        "        autism_index = index % len(self.autism_file_ids)\n",
        "        no_autism_index = index % len(self.no_autism_file_ids)\n",
        "\n",
        "        autism_file_id = self.autism_file_ids[autism_index]\n",
        "        no_autism_file_id = self.no_autism_file_ids[no_autism_index]\n",
        "\n",
        "        autism_data = torch.tensor(self.autism_data_info[autism_file_id][\"data\"], dtype=torch.float32)\n",
        "        autism_age = torch.tensor(self.autism_data_info[autism_file_id][\"age\"], dtype=torch.float32)\n",
        "        autism_gender = torch.tensor(self.autism_data_info[autism_file_id][\"gender\"], dtype=torch.float32)\n",
        "\n",
        "        no_autism_data = torch.tensor(self.no_autism_data_info[no_autism_file_id][\"data\"], dtype=torch.float32)\n",
        "        no_autism_age = torch.tensor(self.no_autism_data_info[no_autism_file_id][\"age\"], dtype=torch.float32)\n",
        "        no_autism_gender = torch.tensor(self.no_autism_data_info[no_autism_file_id][\"gender\"], dtype=torch.float32)\n",
        "\n",
        "        return (autism_data, autism_age, autism_gender), (no_autism_data, no_autism_age, no_autism_gender)\n",
        "\n",
        "# Create the combined dataset\n",
        "combined_dataset = CombinedDataset(data_info_dict_autism, data_info_dict_no_autism)\n",
        "\n",
        "# Create the dataloader\n",
        "batch_size = 64\n",
        "shuffle = True\n",
        "combined_dataloader = DataLoader(combined_dataset, batch_size=batch_size, shuffle=shuffle)\n"
      ],
      "metadata": {
        "id": "bC421VYyebzD"
      },
      "execution_count": null,
      "outputs": []
    },
    {
      "cell_type": "markdown",
      "source": [
        "## Model specifications\n",
        "\n",
        "In the following I am specifiying the model. I am roughly orienting myself around a paper from Anglinkas, Hartshorne & Anzellotti (2022).\n",
        "\n",
        "### Defining utility functions\n",
        "\n",
        "Firstly, I am defining the loss function.\n",
        "The loss will be computed as the sum of the BCE-Loss, as well as the KL-divergence terms.\n",
        "\n",
        "* MSE loss: Incoming\n",
        "\n",
        "* Cross Entropy: Incoming\n",
        "\n",
        "* Kullback-Leibler divergence (Kullback & Leibler, 1951) This is a measure for the difference between two distributions. I.e. \"how much do they diverge\" from each other, how much are they different to each other. The introduction of this term into the final loss leads my model to optimize not only if the precited categories are correct and so on, but also how high the difference between the prior distribution and teh latent variables are. The prior distribution in my case is an isotropic gaussian.\n",
        "  * Why is this desirable? The latent variables and the sampling process should be somewhat controlled. This divergence regulates this.\n",
        "\n",
        "\n",
        "I have also attempted to regulate that a loss is only completed with the KL divergence from the second encoder if that encoder was used."
      ],
      "metadata": {
        "id": "NV2DSYrow9-i"
      }
    },
    {
      "cell_type": "code",
      "source": [
        "def final_loss(MSE, CE, MSE_age, z_mu, z_logvar, s_mu, s_logvar):\n",
        "    \"\"\"\n",
        "    This function will add the reconstruction loss (BCELoss) and the KL-Divergence.\n",
        "    KL-Divergence = 0.5 * sum(1 + log(sigma^2) - mu^2 - sigma^2)\n",
        "    :param bce_loss: reconstruction loss\n",
        "    :param z_mu: mean from the latent vector of encoder_z\n",
        "    :param z_logvar: log variance from the latent vector of encoder_z\n",
        "    :param s_mu: mean from the latent vector of encoder_s (optional)\n",
        "    :param s_logvar: log variance from the latent vector of encoder_s (optional)\n",
        "    \"\"\"\n",
        "    mse_loss = MSE\n",
        "    mse_age = MSE_age\n",
        "    cross_entropy = CE\n",
        "    KLD_z = -0.5 * torch.sum(1 + z_logvar - z_mu.pow(2) - z_logvar.exp())\n",
        "    if s_mu is not None and s_logvar is not None:\n",
        "        KLD_s = -0.5 * torch.sum(1 + s_logvar - s_mu.pow(2) - s_logvar.exp())\n",
        "        return mse_loss + KLD_z + KLD_s + cross_entropy + mse_age\n",
        "    else:\n",
        "        return mse_loss + KLD_z + cross_entropy + mse_age\n"
      ],
      "metadata": {
        "id": "5WsDILlQlYya"
      },
      "execution_count": null,
      "outputs": []
    },
    {
      "cell_type": "markdown",
      "source": [
        "Here is the training loop. This model is supposed to achieve multiple things:\n",
        "\n",
        "* Train the cVAE using the MSE loss.\n",
        "* Incoming.\n"
      ],
      "metadata": {
        "id": "cV4DbbobmW5f"
      }
    },
    {
      "cell_type": "code",
      "source": [
        "from tqdm import tqdm\n",
        "\n",
        "def train(model, dataloader, dataset, device, optimizer, criterion, criterion_classifier):\n",
        "    model.train()\n",
        "    running_loss_autism = 0.0\n",
        "    running_loss_no_autism = 0.0\n",
        "    running_age_loss_autism = 0.0\n",
        "    running_gender_loss_autism = 0.0\n",
        "    running_age_loss_no_autism = 0.0\n",
        "    running_gender_loss_no_autism = 0.0\n",
        "    counter = 0\n",
        "\n",
        "    total_batches = len(dataset) // dataloader.batch_size\n",
        "\n",
        "    for i, ((autism_data, autism_age, autism_gender), (no_autism_data, no_autism_age, no_autism_gender)) in tqdm(enumerate(dataloader), total=total_batches):\n",
        "        autism_data = autism_data.to(device)\n",
        "        no_autism_data = no_autism_data.to(device)\n",
        "\n",
        "        autism_age = autism_age.to(device)\n",
        "        autism_gender = autism_gender.to(device)\n",
        "\n",
        "        no_autism_age = no_autism_age.to(device)\n",
        "        no_autism_gender = no_autism_gender.to(device)\n",
        "\n",
        "        optimizer.zero_grad()\n",
        "\n",
        "        # Get the model outputs\n",
        "        z_mean, z_log_var, s_mean, s_log_var, z_mean_no_autism, z_log_var_no_autism, reconstructed_data_autism, reconstructed_data_no_autism, class_autism_age, class_autism_gender, class_no_autism_age, class_no_autism_gender = model(autism_data, no_autism_data)\n",
        "\n",
        "        # Calculate classifier losses for age and gender predictions\n",
        "        age_loss_autism = criterion(class_autism_age, autism_age.unsqueeze(1))\n",
        "        gender_loss_autism = criterion_classifier(class_autism_gender, autism_gender.unsqueeze(1))\n",
        "\n",
        "        age_loss_no_autism = criterion(class_no_autism_age, no_autism_age.unsqueeze(1))\n",
        "        gender_loss_no_autism = criterion_classifier(class_no_autism_gender, no_autism_gender.unsqueeze(1))\n",
        "\n",
        "        # Section for the autism images\n",
        "        bce_loss_autism = criterion(reconstructed_data_autism, autism_data)\n",
        "        loss_autism = final_loss(bce_loss_autism,  gender_loss_autism, age_loss_autism, z_mean, z_log_var, s_mean, s_log_var)\n",
        "        running_loss_autism += loss_autism.item()\n",
        "        running_age_loss_autism += age_loss_autism.item()\n",
        "        running_gender_loss_autism += gender_loss_autism.item()\n",
        "\n",
        "        # Section for the no_autism images\n",
        "        bce_loss_no_autism = criterion(reconstructed_data_no_autism, no_autism_data)\n",
        "        s_mean_no_autism, s_log_var_no_autism = None, None\n",
        "        loss_no_autism = final_loss(bce_loss_no_autism,  gender_loss_no_autism, age_loss_no_autism, z_mean_no_autism, z_log_var_no_autism, s_mean_no_autism, s_log_var_no_autism)\n",
        "        running_loss_no_autism += loss_no_autism.item()\n",
        "        running_age_loss_no_autism += age_loss_no_autism.item()\n",
        "        running_gender_loss_no_autism += gender_loss_no_autism.item()\n",
        "\n",
        "        # Total loss\n",
        "        loss_no_autism.backward()\n",
        "        loss_autism.backward()\n",
        "\n",
        "        optimizer.step()\n",
        "        counter += len(autism_data) + len(no_autism_data)\n",
        "\n",
        "    train_loss_autism = running_loss_autism / counter\n",
        "    train_loss_no_autism = running_loss_no_autism / counter\n",
        "    train_age_loss_autism = running_age_loss_autism / counter\n",
        "    train_gender_loss_autism = running_gender_loss_autism / counter\n",
        "    train_age_loss_no_autism = running_age_loss_no_autism / counter\n",
        "    train_gender_loss_no_autism = running_gender_loss_no_autism / counter\n",
        "\n",
        "    return train_loss_autism, train_loss_no_autism, train_age_loss_autism, train_gender_loss_autism, train_age_loss_no_autism, train_gender_loss_no_autism\n"
      ],
      "metadata": {
        "id": "6_qe6uSIfoHK"
      },
      "execution_count": null,
      "outputs": []
    },
    {
      "cell_type": "markdown",
      "source": [
        "## Model specification\n",
        "\n",
        "These values still need to be adapted for the current model."
      ],
      "metadata": {
        "id": "rtNUqWlK6YfR"
      }
    },
    {
      "cell_type": "code",
      "source": [
        "input_dimension = 97 # The numer of features\n",
        "indermediate_dim = 128\n",
        "latent_dim = 4 # latent dimension for sampling\n",
        "\n",
        "lr = 0.01\n",
        "\n"
      ],
      "metadata": {
        "id": "1NXSPtSc6biA"
      },
      "execution_count": null,
      "outputs": []
    },
    {
      "cell_type": "markdown",
      "source": [
        "Next I want to define the contrastive variational autoencoder. While doing so, I am defining seperate encoders, to make it easier to later introduce other encoders. I am orienting myself on an cVAE I have written in the past.\n",
        "\n",
        "As the paper from Aglinskas, Hartshorne and Anzellotti (2022) I mentioned, the network will have only a few layers.\n",
        "\n",
        "A few things I will probably have to change - I do not know how many channels the data will end up having. therefore I am using one, assuming it only has one."
      ],
      "metadata": {
        "id": "yzEoxSr08h-3"
      }
    },
    {
      "cell_type": "code",
      "source": [
        "class EncoderNS(nn.Module):\n",
        "    def __init__(self, input_dimension, latent_dim):\n",
        "        super(EncoderNS, self).__init__()\n",
        "        self.linear1 = nn.Linear(input_dimension, 64)\n",
        "        self.linear2 = nn.Linear(64, 32)\n",
        "        self.linear3 = nn.Linear(32, 4)\n",
        "        self.ns_fc_mean = nn.Linear(latent_dim, latent_dim)\n",
        "        self.ns_fc_log_var = nn.Linear(latent_dim, latent_dim)\n",
        "\n",
        "    def forward(self, x, batch_size):\n",
        "        h = F.relu(self.linear1(x))\n",
        "        h = F.relu(self.linear2(h))\n",
        "        h = F.relu(self.linear3(h))\n",
        "        ns_mean = self.ns_fc_mean(h)\n",
        "        ns_log_var = self.ns_fc_log_var(h)\n",
        "        return ns_mean, ns_log_var\n",
        "\n",
        "\n",
        "class EncoderS(nn.Module):\n",
        "    def __init__(self, input_dimension, latent_dim):\n",
        "        super(EncoderS, self).__init__()\n",
        "        self.linear1 = nn.Linear(input_dimension, 64)\n",
        "        self.linear2 = nn.Linear(64, 32)\n",
        "        self.linear3 = nn.Linear(32, 4)\n",
        "        self.s_fc_mean = nn.Linear(latent_dim, latent_dim)\n",
        "        self.s_fc_log_var = nn.Linear(latent_dim, latent_dim)\n",
        "\n",
        "    def forward(self, x, batch_size):\n",
        "        h = F.relu(self.linear1(x))\n",
        "        h = F.relu(self.linear2(h))\n",
        "        h = F.relu(self.linear3(h))\n",
        "        s_mean = self.s_fc_mean(h)\n",
        "        s_log_var = self.s_fc_log_var(h)\n",
        "        return s_mean, s_log_var\n",
        "\n",
        "class Decoder(nn.Module):\n",
        "    def __init__(self, input_dimension, latent_dim):\n",
        "        super(Decoder, self).__init__()\n",
        "        self.linear_decoder_1 = nn.Linear(latent_dim*2, 32)\n",
        "        self.linear_decoder_2 = nn.Linear(32,64)\n",
        "        self.linear_decoder_3 = nn.Linear(64, input_dimension)\n",
        "\n",
        "    def forward(self, zs, batch_size):\n",
        "        h_output = F.relu(self.linear_decoder_1(zs))\n",
        "        h_output = F.relu(self.linear_decoder_2(h_output))\n",
        "        output = F.relu(self.linear_decoder_3(h_output))\n",
        "        return output\n",
        "\n",
        "class Classifier(nn.Module):\n",
        "    def __init__(self, latent_dim):\n",
        "        super(Classifier, self).__init__()\n",
        "        self.fc1 = nn.Linear(latent_dim*2, latent_dim // 2)\n",
        "        self.fc_age = nn.Linear(latent_dim // 2, 1)\n",
        "        self.fc_gender = nn.Linear(latent_dim // 2, 1)\n",
        "\n",
        "    def forward(self, z):\n",
        "        x = self.fc1(z)\n",
        "        age_prediction = self.fc_age(x)\n",
        "        gender_prediction = torch.sigmoid(self.fc_gender(x))  # Apply sigmoid activation for binary gender prediction\n",
        "        return age_prediction, gender_prediction\n",
        "\n",
        "class cVAE(nn.Module):\n",
        "    def __init__(self, input_dimension, latent_dim):\n",
        "        super(cVAE, self).__init__()\n",
        "        self.encoder_z = EncoderNS(input_dimension, latent_dim)\n",
        "        self.encoder_s = EncoderS(input_dimension, latent_dim)\n",
        "        self.decoder = Decoder(input_dimension, latent_dim)\n",
        "        self.classifier = Classifier(latent_dim)\n",
        "\n",
        "    def reparameterize(self, mean, log_var):\n",
        "        std = torch.exp(0.5 * log_var)\n",
        "        epsilon = torch.randn_like(std)\n",
        "        return mean + epsilon * std\n",
        "\n",
        "    def forward(self, autism, no_autism):\n",
        "        batch_size = autism.size(0)\n",
        "        z_mean, z_log_var = self.encoder_z(autism, batch_size)\n",
        "        z = self.reparameterize(z_mean, z_log_var)\n",
        "        s_mean, s_log_var = self.encoder_s(autism, batch_size)\n",
        "        s = self.reparameterize(s_mean, s_log_var)\n",
        "        zs = torch.cat([z, s], dim=1)\n",
        "\n",
        "        reconstructed_data_autism = self.decoder(zs, batch_size)\n",
        "\n",
        "        z_mean_no_autism, z_log_var_no_autism = self.encoder_z(no_autism, batch_size)\n",
        "        z_no_autism = self.reparameterize(z_mean_no_autism, z_log_var_no_autism)\n",
        "        z_empty = torch.zeros(z_no_autism.shape)\n",
        "        model_device = z_no_autism.device\n",
        "        z_empty = z_empty.to(model_device)\n",
        "        z_no_autism_0 = torch.cat([z_no_autism, z_empty], dim=1)\n",
        "\n",
        "        reconstructed_data_no_autism = self.decoder(z_no_autism_0, batch_size)\n",
        "\n",
        "        class_autism_age, class_autism_gender = self.classifier(zs)  # Assuming z is the latent variable after concatenating s and z\n",
        "        class_no_autism_age, class_no_autism_gender = self.classifier(z_no_autism_0)  # Using the version with 0s to have equal lengths of the latent vectors.\n",
        "\n",
        "        return z_mean, z_log_var, s_mean, s_log_var, z_mean_no_autism, z_log_var_no_autism, reconstructed_data_autism, reconstructed_data_no_autism, class_autism_age, class_autism_gender, class_no_autism_age, class_no_autism_gender"
      ],
      "metadata": {
        "id": "uwDJGACDj1kR"
      },
      "execution_count": null,
      "outputs": []
    },
    {
      "cell_type": "markdown",
      "source": [
        "And finally the training loop - note that I have yet to define the validation function:"
      ],
      "metadata": {
        "id": "0nl-zuw8mkeN"
      }
    },
    {
      "cell_type": "code",
      "source": [
        "model = cVAE(input_dimension=97, latent_dim=4).to(device)\n",
        "optimizer = torch.optim.Adam(model.parameters(), lr=lr)\n",
        "criterion = nn.MSELoss()\n",
        "classifier_criterion = nn.BCELoss()\n",
        "\n",
        "train_loss_list = []  # List to store train losses\n",
        "val_loss_list = []  # List to store validation losses\n",
        "\n",
        "num_epochs = 10\n",
        "for epoch in range(num_epochs):\n",
        "    print(f\"Epoch {epoch+1} of {num_epochs}\")\n",
        "    # Train the model\n",
        "    (   train_loss_autism,\n",
        "        train_loss_no_autism,\n",
        "        train_age_loss_autism,\n",
        "        train_gender_loss_autism,\n",
        "        train_age_loss_no_autism,\n",
        "        train_gender_loss_no_autism) = train(\n",
        "        model,\n",
        "        combined_dataloader,\n",
        "        combined_dataset,\n",
        "        device,\n",
        "        optimizer,\n",
        "        criterion,\n",
        "        classifier_criterion,\n",
        "    )\n",
        "\n",
        "    # Validate the model\n",
        "    # val_loss, recon_images = validate(model, overlaid_dataloader, overlaid_dataset, device, criterion, classifier_criterion)\n",
        "\n",
        "    # Appending the loss values to a list to allow for visualizations:\n",
        "    train_loss_list.append(\n",
        "        train_loss_autism\n",
        "        + train_loss_no_autism\n",
        "        + train_age_loss_autism\n",
        "        + train_gender_loss_autism\n",
        "        + train_age_loss_no_autism\n",
        "        + train_gender_loss_no_autism\n",
        "    )\n",
        "    # val_loss_list.append(val_loss)\n",
        "\n",
        "    # Print the losses\n",
        "    print(\n",
        "        f\"Train Loss Autism: {train_loss_autism:.4f}, Train Loss Non-Autism: {train_loss_no_autism:.4f}, \"\n",
        "        f\"Train Age Loss Autism: {train_age_loss_autism:.4f}, Train Gender Loss Autism: {train_gender_loss_autism:.4f}, \"\n",
        "        f\"Train Age Loss Non-Autism: {train_age_loss_no_autism:.4f}, Train Gender Loss Non-Autism: {train_gender_loss_no_autism:.4f}\"\n",
        "    )\n",
        "    # print(f\"Train Loss for the background: {train_loss_bg:.4f}, Val Loss: {val_loss:.4f}\")\n",
        "\n",
        "print(\"TRAINING COMPLETE\")\n"
      ],
      "metadata": {
        "id": "cgsEpXACmj_H",
        "outputId": "53f6b4aa-012f-44a4-c1a9-c8475f6acf53",
        "colab": {
          "base_uri": "https://localhost:8080/"
        }
      },
      "execution_count": null,
      "outputs": [
        {
          "output_type": "stream",
          "name": "stdout",
          "text": [
            "Epoch 1 of 10\n"
          ]
        },
        {
          "output_type": "stream",
          "name": "stderr",
          "text": [
            "9it [00:00, 49.19it/s]                       \n"
          ]
        },
        {
          "output_type": "stream",
          "name": "stdout",
          "text": [
            "Train Loss Autism: 3.0942, Train Loss Non-Autism: 2.9689, Train Age Loss Autism: 2.8864, Train Gender Loss Autism: 0.0070, Train Age Loss Non-Autism: 2.8629, Train Gender Loss Non-Autism: 0.0068\n",
            "Epoch 2 of 10\n"
          ]
        },
        {
          "output_type": "stream",
          "name": "stderr",
          "text": [
            "9it [00:00, 45.80it/s]                       \n"
          ]
        },
        {
          "output_type": "stream",
          "name": "stdout",
          "text": [
            "Train Loss Autism: 2.9134, Train Loss Non-Autism: 2.8607, Train Age Loss Autism: 2.8247, Train Gender Loss Autism: 0.0065, Train Age Loss Non-Autism: 2.8137, Train Gender Loss Non-Autism: 0.0064\n",
            "Epoch 3 of 10\n"
          ]
        },
        {
          "output_type": "stream",
          "name": "stderr",
          "text": [
            "9it [00:00, 49.46it/s]                       \n"
          ]
        },
        {
          "output_type": "stream",
          "name": "stdout",
          "text": [
            "Train Loss Autism: 2.8056, Train Loss Non-Autism: 2.7804, Train Age Loss Autism: 2.7597, Train Gender Loss Autism: 0.0059, Train Age Loss Non-Autism: 2.7494, Train Gender Loss Non-Autism: 0.0060\n",
            "Epoch 4 of 10\n"
          ]
        },
        {
          "output_type": "stream",
          "name": "stderr",
          "text": [
            "9it [00:00, 51.06it/s]                       \n"
          ]
        },
        {
          "output_type": "stream",
          "name": "stdout",
          "text": [
            "Train Loss Autism: 2.6960, Train Loss Non-Autism: 2.6812, Train Age Loss Autism: 2.6564, Train Gender Loss Autism: 0.0053, Train Age Loss Non-Autism: 2.6507, Train Gender Loss Non-Autism: 0.0054\n",
            "Epoch 5 of 10\n"
          ]
        },
        {
          "output_type": "stream",
          "name": "stderr",
          "text": [
            "9it [00:00, 56.08it/s]                       \n"
          ]
        },
        {
          "output_type": "stream",
          "name": "stdout",
          "text": [
            "Train Loss Autism: 2.5903, Train Loss Non-Autism: 2.6011, Train Age Loss Autism: 2.5338, Train Gender Loss Autism: 0.0047, Train Age Loss Non-Autism: 2.5590, Train Gender Loss Non-Autism: 0.0049\n",
            "Epoch 6 of 10\n"
          ]
        },
        {
          "output_type": "stream",
          "name": "stderr",
          "text": [
            "9it [00:00, 61.82it/s]                       \n"
          ]
        },
        {
          "output_type": "stream",
          "name": "stdout",
          "text": [
            "Train Loss Autism: 2.4595, Train Loss Non-Autism: 2.4590, Train Age Loss Autism: 2.3620, Train Gender Loss Autism: 0.0043, Train Age Loss Non-Autism: 2.3910, Train Gender Loss Non-Autism: 0.0047\n",
            "Epoch 7 of 10\n"
          ]
        },
        {
          "output_type": "stream",
          "name": "stderr",
          "text": [
            "9it [00:00, 91.88it/s]               \n"
          ]
        },
        {
          "output_type": "stream",
          "name": "stdout",
          "text": [
            "Train Loss Autism: 2.2445, Train Loss Non-Autism: 2.2818, Train Age Loss Autism: 2.0729, Train Gender Loss Autism: 0.0039, Train Age Loss Non-Autism: 2.1739, Train Gender Loss Non-Autism: 0.0041\n",
            "Epoch 8 of 10\n"
          ]
        },
        {
          "output_type": "stream",
          "name": "stderr",
          "text": [
            "9it [00:00, 91.23it/s]               \n"
          ]
        },
        {
          "output_type": "stream",
          "name": "stdout",
          "text": [
            "Train Loss Autism: 1.9591, Train Loss Non-Autism: 2.0631, Train Age Loss Autism: 1.6783, Train Gender Loss Autism: 0.0038, Train Age Loss Non-Autism: 1.8949, Train Gender Loss Non-Autism: 0.0043\n",
            "Epoch 9 of 10\n"
          ]
        },
        {
          "output_type": "stream",
          "name": "stderr",
          "text": [
            "9it [00:00, 101.46it/s]              \n"
          ]
        },
        {
          "output_type": "stream",
          "name": "stdout",
          "text": [
            "Train Loss Autism: 1.7742, Train Loss Non-Autism: 1.8530, Train Age Loss Autism: 1.3892, Train Gender Loss Autism: 0.0038, Train Age Loss Non-Autism: 1.6112, Train Gender Loss Non-Autism: 0.0042\n",
            "Epoch 10 of 10\n"
          ]
        },
        {
          "output_type": "stream",
          "name": "stderr",
          "text": [
            "9it [00:00, 97.78it/s]               \n"
          ]
        },
        {
          "output_type": "stream",
          "name": "stdout",
          "text": [
            "Train Loss Autism: 1.5570, Train Loss Non-Autism: 1.6691, Train Age Loss Autism: 1.0956, Train Gender Loss Autism: 0.0036, Train Age Loss Non-Autism: 1.3558, Train Gender Loss Non-Autism: 0.0040\n",
            "TRAINING COMPLETE\n"
          ]
        }
      ]
    },
    {
      "cell_type": "markdown",
      "source": [
        "Questions to Answer:\n",
        "How to best deal with with the issue that my data is in the shape of [batch size, 1] but the expected category against which its compared is [batch_size]\n",
        "\n",
        "Need to now prepare the validation data set to properly set the learning parameters."
      ],
      "metadata": {
        "id": "S5_MTGb5BCee"
      }
    }
  ]
}